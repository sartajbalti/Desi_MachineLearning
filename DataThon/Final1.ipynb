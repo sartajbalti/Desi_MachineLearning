{
 "cells": [
  {
   "cell_type": "code",
   "execution_count": 2,
   "metadata": {},
   "outputs": [],
   "source": [
    "import pandas as pd \n",
    "import matplotlib.pyplot as plt \n",
    "import seaborn as sns \n",
    "import numpy as np \n"
   ]
  },
  {
   "cell_type": "markdown",
   "metadata": {},
   "source": [
    "# Data thon data "
   ]
  },
  {
   "cell_type": "code",
   "execution_count": 3,
   "metadata": {},
   "outputs": [
    {
     "data": {
      "text/html": [
       "<div>\n",
       "<style scoped>\n",
       "    .dataframe tbody tr th:only-of-type {\n",
       "        vertical-align: middle;\n",
       "    }\n",
       "\n",
       "    .dataframe tbody tr th {\n",
       "        vertical-align: top;\n",
       "    }\n",
       "\n",
       "    .dataframe thead th {\n",
       "        text-align: right;\n",
       "    }\n",
       "</style>\n",
       "<table border=\"1\" class=\"dataframe\">\n",
       "  <thead>\n",
       "    <tr style=\"text-align: right;\">\n",
       "      <th></th>\n",
       "      <th>origin</th>\n",
       "      <th>destination</th>\n",
       "      <th>airline</th>\n",
       "      <th>refundable</th>\n",
       "      <th>baggage_weight</th>\n",
       "      <th>baggage_pieces</th>\n",
       "      <th>flight_number</th>\n",
       "      <th>purchace_date</th>\n",
       "      <th>departure_date</th>\n",
       "      <th>arival_date</th>\n",
       "      <th>departure_time</th>\n",
       "      <th>arival_time</th>\n",
       "      <th>purchase_time</th>\n",
       "    </tr>\n",
       "  </thead>\n",
       "  <tbody>\n",
       "    <tr>\n",
       "      <th>0</th>\n",
       "      <td>x</td>\n",
       "      <td>y</td>\n",
       "      <td>gamma</td>\n",
       "      <td>1</td>\n",
       "      <td>0.000000</td>\n",
       "      <td>0</td>\n",
       "      <td>c-2</td>\n",
       "      <td>2020-12-31</td>\n",
       "      <td>2021-01-10</td>\n",
       "      <td>2021-01-10</td>\n",
       "      <td>05:00:00</td>\n",
       "      <td>07:00:00</td>\n",
       "      <td>09:46:17</td>\n",
       "    </tr>\n",
       "    <tr>\n",
       "      <th>1</th>\n",
       "      <td>x</td>\n",
       "      <td>y</td>\n",
       "      <td>gamma</td>\n",
       "      <td>1</td>\n",
       "      <td>0.711111</td>\n",
       "      <td>1</td>\n",
       "      <td>c-2</td>\n",
       "      <td>2020-12-31</td>\n",
       "      <td>2021-01-10</td>\n",
       "      <td>2021-01-10</td>\n",
       "      <td>05:00:00</td>\n",
       "      <td>07:00:00</td>\n",
       "      <td>09:46:17</td>\n",
       "    </tr>\n",
       "    <tr>\n",
       "      <th>2</th>\n",
       "      <td>x</td>\n",
       "      <td>y</td>\n",
       "      <td>gamma</td>\n",
       "      <td>1</td>\n",
       "      <td>0.711111</td>\n",
       "      <td>1</td>\n",
       "      <td>c-4</td>\n",
       "      <td>2020-12-31</td>\n",
       "      <td>2021-01-10</td>\n",
       "      <td>2021-01-10</td>\n",
       "      <td>11:00:00</td>\n",
       "      <td>13:00:00</td>\n",
       "      <td>09:46:17</td>\n",
       "    </tr>\n",
       "    <tr>\n",
       "      <th>3</th>\n",
       "      <td>x</td>\n",
       "      <td>y</td>\n",
       "      <td>gamma</td>\n",
       "      <td>1</td>\n",
       "      <td>0.711111</td>\n",
       "      <td>2</td>\n",
       "      <td>c-4</td>\n",
       "      <td>2020-12-31</td>\n",
       "      <td>2021-01-10</td>\n",
       "      <td>2021-01-10</td>\n",
       "      <td>11:00:00</td>\n",
       "      <td>13:00:00</td>\n",
       "      <td>09:46:17</td>\n",
       "    </tr>\n",
       "    <tr>\n",
       "      <th>4</th>\n",
       "      <td>x</td>\n",
       "      <td>y</td>\n",
       "      <td>beta</td>\n",
       "      <td>0</td>\n",
       "      <td>0.444444</td>\n",
       "      <td>0</td>\n",
       "      <td>b-69</td>\n",
       "      <td>2020-12-31</td>\n",
       "      <td>2021-01-25</td>\n",
       "      <td>2021-01-25</td>\n",
       "      <td>11:00:00</td>\n",
       "      <td>12:55:00</td>\n",
       "      <td>09:46:18</td>\n",
       "    </tr>\n",
       "  </tbody>\n",
       "</table>\n",
       "</div>"
      ],
      "text/plain": [
       "  origin destination airline  refundable  baggage_weight  baggage_pieces  \\\n",
       "0      x           y   gamma           1        0.000000               0   \n",
       "1      x           y   gamma           1        0.711111               1   \n",
       "2      x           y   gamma           1        0.711111               1   \n",
       "3      x           y   gamma           1        0.711111               2   \n",
       "4      x           y    beta           0        0.444444               0   \n",
       "\n",
       "  flight_number purchace_date departure_date arival_date departure_time  \\\n",
       "0           c-2    2020-12-31     2021-01-10  2021-01-10       05:00:00   \n",
       "1           c-2    2020-12-31     2021-01-10  2021-01-10       05:00:00   \n",
       "2           c-4    2020-12-31     2021-01-10  2021-01-10       11:00:00   \n",
       "3           c-4    2020-12-31     2021-01-10  2021-01-10       11:00:00   \n",
       "4          b-69    2020-12-31     2021-01-25  2021-01-25       11:00:00   \n",
       "\n",
       "  arival_time purchase_time  \n",
       "0    07:00:00      09:46:17  \n",
       "1    07:00:00      09:46:17  \n",
       "2    13:00:00      09:46:17  \n",
       "3    13:00:00      09:46:17  \n",
       "4    12:55:00      09:46:18  "
      ]
     },
     "execution_count": 3,
     "metadata": {},
     "output_type": "execute_result"
    }
   ],
   "source": [
    "# Loading the Data set \n",
    "df = pd.read_csv(\"Train.csv\")\n",
    "df.head()"
   ]
  },
  {
   "cell_type": "markdown",
   "metadata": {},
   "source": [
    "## Replace the strings to number of airline type"
   ]
  },
  {
   "cell_type": "markdown",
   "metadata": {},
   "source": [
    "df = df.replace('gamma',0)\n",
    "df = df.replace('beta',1)\n",
    "df = df.replace('alpha',2)\n",
    "df = df.replace('omega',3)"
   ]
  },
  {
   "cell_type": "code",
   "execution_count": 4,
   "metadata": {},
   "outputs": [
    {
     "data": {
      "text/html": [
       "<div>\n",
       "<style scoped>\n",
       "    .dataframe tbody tr th:only-of-type {\n",
       "        vertical-align: middle;\n",
       "    }\n",
       "\n",
       "    .dataframe tbody tr th {\n",
       "        vertical-align: top;\n",
       "    }\n",
       "\n",
       "    .dataframe thead th {\n",
       "        text-align: right;\n",
       "    }\n",
       "</style>\n",
       "<table border=\"1\" class=\"dataframe\">\n",
       "  <thead>\n",
       "    <tr style=\"text-align: right;\">\n",
       "      <th></th>\n",
       "      <th>Unnamed: 0</th>\n",
       "      <th>target</th>\n",
       "    </tr>\n",
       "  </thead>\n",
       "  <tbody>\n",
       "    <tr>\n",
       "      <th>0</th>\n",
       "      <td>0</td>\n",
       "      <td>7400.0</td>\n",
       "    </tr>\n",
       "    <tr>\n",
       "      <th>1</th>\n",
       "      <td>1</td>\n",
       "      <td>8650.0</td>\n",
       "    </tr>\n",
       "    <tr>\n",
       "      <th>2</th>\n",
       "      <td>2</td>\n",
       "      <td>9150.0</td>\n",
       "    </tr>\n",
       "    <tr>\n",
       "      <th>3</th>\n",
       "      <td>3</td>\n",
       "      <td>10400.0</td>\n",
       "    </tr>\n",
       "    <tr>\n",
       "      <th>4</th>\n",
       "      <td>4</td>\n",
       "      <td>8697.0</td>\n",
       "    </tr>\n",
       "  </tbody>\n",
       "</table>\n",
       "</div>"
      ],
      "text/plain": [
       "   Unnamed: 0   target\n",
       "0           0   7400.0\n",
       "1           1   8650.0\n",
       "2           2   9150.0\n",
       "3           3  10400.0\n",
       "4           4   8697.0"
      ]
     },
     "execution_count": 4,
     "metadata": {},
     "output_type": "execute_result"
    }
   ],
   "source": [
    "# loading the target values just to make it easy for interpretation by adding along in same dataframe\n",
    "y = pd.read_csv('y_train.csv')\n",
    "y.head()"
   ]
  },
  {
   "cell_type": "code",
   "execution_count": 5,
   "metadata": {},
   "outputs": [],
   "source": [
    "# Droping the unnamed coloumn/index\n",
    "y = y.drop(\"Unnamed: 0\",axis=1)"
   ]
  },
  {
   "cell_type": "code",
   "execution_count": 6,
   "metadata": {},
   "outputs": [],
   "source": [
    "# Adding the target coloumn to the taining data frame\n",
    "df['price'] = y"
   ]
  },
  {
   "cell_type": "code",
   "execution_count": 6,
   "metadata": {},
   "outputs": [
    {
     "data": {
      "text/html": [
       "<div>\n",
       "<style scoped>\n",
       "    .dataframe tbody tr th:only-of-type {\n",
       "        vertical-align: middle;\n",
       "    }\n",
       "\n",
       "    .dataframe tbody tr th {\n",
       "        vertical-align: top;\n",
       "    }\n",
       "\n",
       "    .dataframe thead th {\n",
       "        text-align: right;\n",
       "    }\n",
       "</style>\n",
       "<table border=\"1\" class=\"dataframe\">\n",
       "  <thead>\n",
       "    <tr style=\"text-align: right;\">\n",
       "      <th></th>\n",
       "      <th>origin</th>\n",
       "      <th>destination</th>\n",
       "      <th>airline</th>\n",
       "      <th>refundable</th>\n",
       "      <th>baggage_weight</th>\n",
       "      <th>baggage_pieces</th>\n",
       "      <th>flight_number</th>\n",
       "      <th>purchace_date</th>\n",
       "      <th>departure_date</th>\n",
       "      <th>arival_date</th>\n",
       "      <th>departure_time</th>\n",
       "      <th>arival_time</th>\n",
       "      <th>purchase_time</th>\n",
       "      <th>price</th>\n",
       "    </tr>\n",
       "  </thead>\n",
       "  <tbody>\n",
       "    <tr>\n",
       "      <th>0</th>\n",
       "      <td>x</td>\n",
       "      <td>y</td>\n",
       "      <td>gamma</td>\n",
       "      <td>1</td>\n",
       "      <td>0.000000</td>\n",
       "      <td>0</td>\n",
       "      <td>c-2</td>\n",
       "      <td>2020-12-31</td>\n",
       "      <td>2021-01-10</td>\n",
       "      <td>2021-01-10</td>\n",
       "      <td>05:00:00</td>\n",
       "      <td>07:00:00</td>\n",
       "      <td>09:46:17</td>\n",
       "      <td>7400.0</td>\n",
       "    </tr>\n",
       "    <tr>\n",
       "      <th>1</th>\n",
       "      <td>x</td>\n",
       "      <td>y</td>\n",
       "      <td>gamma</td>\n",
       "      <td>1</td>\n",
       "      <td>0.711111</td>\n",
       "      <td>1</td>\n",
       "      <td>c-2</td>\n",
       "      <td>2020-12-31</td>\n",
       "      <td>2021-01-10</td>\n",
       "      <td>2021-01-10</td>\n",
       "      <td>05:00:00</td>\n",
       "      <td>07:00:00</td>\n",
       "      <td>09:46:17</td>\n",
       "      <td>8650.0</td>\n",
       "    </tr>\n",
       "    <tr>\n",
       "      <th>2</th>\n",
       "      <td>x</td>\n",
       "      <td>y</td>\n",
       "      <td>gamma</td>\n",
       "      <td>1</td>\n",
       "      <td>0.711111</td>\n",
       "      <td>1</td>\n",
       "      <td>c-4</td>\n",
       "      <td>2020-12-31</td>\n",
       "      <td>2021-01-10</td>\n",
       "      <td>2021-01-10</td>\n",
       "      <td>11:00:00</td>\n",
       "      <td>13:00:00</td>\n",
       "      <td>09:46:17</td>\n",
       "      <td>9150.0</td>\n",
       "    </tr>\n",
       "    <tr>\n",
       "      <th>3</th>\n",
       "      <td>x</td>\n",
       "      <td>y</td>\n",
       "      <td>gamma</td>\n",
       "      <td>1</td>\n",
       "      <td>0.711111</td>\n",
       "      <td>2</td>\n",
       "      <td>c-4</td>\n",
       "      <td>2020-12-31</td>\n",
       "      <td>2021-01-10</td>\n",
       "      <td>2021-01-10</td>\n",
       "      <td>11:00:00</td>\n",
       "      <td>13:00:00</td>\n",
       "      <td>09:46:17</td>\n",
       "      <td>10400.0</td>\n",
       "    </tr>\n",
       "    <tr>\n",
       "      <th>4</th>\n",
       "      <td>x</td>\n",
       "      <td>y</td>\n",
       "      <td>beta</td>\n",
       "      <td>0</td>\n",
       "      <td>0.444444</td>\n",
       "      <td>0</td>\n",
       "      <td>b-69</td>\n",
       "      <td>2020-12-31</td>\n",
       "      <td>2021-01-25</td>\n",
       "      <td>2021-01-25</td>\n",
       "      <td>11:00:00</td>\n",
       "      <td>12:55:00</td>\n",
       "      <td>09:46:18</td>\n",
       "      <td>8697.0</td>\n",
       "    </tr>\n",
       "  </tbody>\n",
       "</table>\n",
       "</div>"
      ],
      "text/plain": [
       "  origin destination airline  refundable  baggage_weight  baggage_pieces  \\\n",
       "0      x           y   gamma           1        0.000000               0   \n",
       "1      x           y   gamma           1        0.711111               1   \n",
       "2      x           y   gamma           1        0.711111               1   \n",
       "3      x           y   gamma           1        0.711111               2   \n",
       "4      x           y    beta           0        0.444444               0   \n",
       "\n",
       "  flight_number purchace_date departure_date arival_date departure_time  \\\n",
       "0           c-2    2020-12-31     2021-01-10  2021-01-10       05:00:00   \n",
       "1           c-2    2020-12-31     2021-01-10  2021-01-10       05:00:00   \n",
       "2           c-4    2020-12-31     2021-01-10  2021-01-10       11:00:00   \n",
       "3           c-4    2020-12-31     2021-01-10  2021-01-10       11:00:00   \n",
       "4          b-69    2020-12-31     2021-01-25  2021-01-25       11:00:00   \n",
       "\n",
       "  arival_time purchase_time    price  \n",
       "0    07:00:00      09:46:17   7400.0  \n",
       "1    07:00:00      09:46:17   8650.0  \n",
       "2    13:00:00      09:46:17   9150.0  \n",
       "3    13:00:00      09:46:17  10400.0  \n",
       "4    12:55:00      09:46:18   8697.0  "
      ]
     },
     "execution_count": 6,
     "metadata": {},
     "output_type": "execute_result"
    }
   ],
   "source": [
    "df.head()"
   ]
  },
  {
   "cell_type": "code",
   "execution_count": 7,
   "metadata": {},
   "outputs": [
    {
     "data": {
      "text/html": [
       "<div>\n",
       "<style scoped>\n",
       "    .dataframe tbody tr th:only-of-type {\n",
       "        vertical-align: middle;\n",
       "    }\n",
       "\n",
       "    .dataframe tbody tr th {\n",
       "        vertical-align: top;\n",
       "    }\n",
       "\n",
       "    .dataframe thead th {\n",
       "        text-align: right;\n",
       "    }\n",
       "</style>\n",
       "<table border=\"1\" class=\"dataframe\">\n",
       "  <thead>\n",
       "    <tr style=\"text-align: right;\">\n",
       "      <th></th>\n",
       "      <th>origin</th>\n",
       "      <th>destination</th>\n",
       "      <th>airline</th>\n",
       "      <th>refundable</th>\n",
       "      <th>baggage_weight</th>\n",
       "      <th>baggage_pieces</th>\n",
       "      <th>flight_number</th>\n",
       "      <th>purchace_date</th>\n",
       "      <th>departure_date</th>\n",
       "      <th>arival_date</th>\n",
       "      <th>departure_time</th>\n",
       "      <th>arival_time</th>\n",
       "      <th>purchase_time</th>\n",
       "      <th>price</th>\n",
       "    </tr>\n",
       "  </thead>\n",
       "  <tbody>\n",
       "    <tr>\n",
       "      <th>21776585</th>\n",
       "      <td>x</td>\n",
       "      <td>y</td>\n",
       "      <td>alpha</td>\n",
       "      <td>1</td>\n",
       "      <td>0.444444</td>\n",
       "      <td>1</td>\n",
       "      <td>a-7</td>\n",
       "      <td>2021-08-31</td>\n",
       "      <td>2021-09-03</td>\n",
       "      <td>2021-09-03</td>\n",
       "      <td>10:00:00</td>\n",
       "      <td>12:00:00</td>\n",
       "      <td>23:29:18</td>\n",
       "      <td>8381.0</td>\n",
       "    </tr>\n",
       "    <tr>\n",
       "      <th>21776586</th>\n",
       "      <td>x</td>\n",
       "      <td>y</td>\n",
       "      <td>alpha</td>\n",
       "      <td>1</td>\n",
       "      <td>0.333333</td>\n",
       "      <td>1</td>\n",
       "      <td>a-9</td>\n",
       "      <td>2021-08-31</td>\n",
       "      <td>2021-09-03</td>\n",
       "      <td>2021-09-03</td>\n",
       "      <td>13:40:00</td>\n",
       "      <td>15:40:00</td>\n",
       "      <td>23:29:18</td>\n",
       "      <td>9045.0</td>\n",
       "    </tr>\n",
       "    <tr>\n",
       "      <th>21776587</th>\n",
       "      <td>x</td>\n",
       "      <td>y</td>\n",
       "      <td>omega</td>\n",
       "      <td>1</td>\n",
       "      <td>0.444444</td>\n",
       "      <td>1</td>\n",
       "      <td>d-1</td>\n",
       "      <td>2021-08-31</td>\n",
       "      <td>2021-09-03</td>\n",
       "      <td>2021-09-03</td>\n",
       "      <td>04:40:00</td>\n",
       "      <td>06:40:00</td>\n",
       "      <td>23:29:18</td>\n",
       "      <td>6155.0</td>\n",
       "    </tr>\n",
       "    <tr>\n",
       "      <th>21776588</th>\n",
       "      <td>x</td>\n",
       "      <td>y</td>\n",
       "      <td>omega</td>\n",
       "      <td>1</td>\n",
       "      <td>0.444444</td>\n",
       "      <td>1</td>\n",
       "      <td>d-3</td>\n",
       "      <td>2021-08-31</td>\n",
       "      <td>2021-09-03</td>\n",
       "      <td>2021-09-03</td>\n",
       "      <td>10:35:00</td>\n",
       "      <td>12:35:00</td>\n",
       "      <td>23:29:18</td>\n",
       "      <td>6155.0</td>\n",
       "    </tr>\n",
       "    <tr>\n",
       "      <th>21776589</th>\n",
       "      <td>x</td>\n",
       "      <td>y</td>\n",
       "      <td>omega</td>\n",
       "      <td>1</td>\n",
       "      <td>0.444444</td>\n",
       "      <td>1</td>\n",
       "      <td>d-5</td>\n",
       "      <td>2021-08-31</td>\n",
       "      <td>2021-09-03</td>\n",
       "      <td>2021-09-03</td>\n",
       "      <td>17:05:00</td>\n",
       "      <td>19:05:00</td>\n",
       "      <td>23:29:18</td>\n",
       "      <td>6605.0</td>\n",
       "    </tr>\n",
       "  </tbody>\n",
       "</table>\n",
       "</div>"
      ],
      "text/plain": [
       "         origin destination airline  refundable  baggage_weight  \\\n",
       "21776585      x           y   alpha           1        0.444444   \n",
       "21776586      x           y   alpha           1        0.333333   \n",
       "21776587      x           y   omega           1        0.444444   \n",
       "21776588      x           y   omega           1        0.444444   \n",
       "21776589      x           y   omega           1        0.444444   \n",
       "\n",
       "          baggage_pieces flight_number purchace_date departure_date  \\\n",
       "21776585               1           a-7    2021-08-31     2021-09-03   \n",
       "21776586               1           a-9    2021-08-31     2021-09-03   \n",
       "21776587               1           d-1    2021-08-31     2021-09-03   \n",
       "21776588               1           d-3    2021-08-31     2021-09-03   \n",
       "21776589               1           d-5    2021-08-31     2021-09-03   \n",
       "\n",
       "         arival_date departure_time arival_time purchase_time   price  \n",
       "21776585  2021-09-03       10:00:00    12:00:00      23:29:18  8381.0  \n",
       "21776586  2021-09-03       13:40:00    15:40:00      23:29:18  9045.0  \n",
       "21776587  2021-09-03       04:40:00    06:40:00      23:29:18  6155.0  \n",
       "21776588  2021-09-03       10:35:00    12:35:00      23:29:18  6155.0  \n",
       "21776589  2021-09-03       17:05:00    19:05:00      23:29:18  6605.0  "
      ]
     },
     "execution_count": 7,
     "metadata": {},
     "output_type": "execute_result"
    }
   ],
   "source": [
    "df.tail()"
   ]
  },
  {
   "cell_type": "code",
   "execution_count": 7,
   "metadata": {},
   "outputs": [
    {
     "data": {
      "text/html": [
       "<div>\n",
       "<style scoped>\n",
       "    .dataframe tbody tr th:only-of-type {\n",
       "        vertical-align: middle;\n",
       "    }\n",
       "\n",
       "    .dataframe tbody tr th {\n",
       "        vertical-align: top;\n",
       "    }\n",
       "\n",
       "    .dataframe thead th {\n",
       "        text-align: right;\n",
       "    }\n",
       "</style>\n",
       "<table border=\"1\" class=\"dataframe\">\n",
       "  <thead>\n",
       "    <tr style=\"text-align: right;\">\n",
       "      <th></th>\n",
       "      <th>origin</th>\n",
       "      <th>destination</th>\n",
       "      <th>airline</th>\n",
       "      <th>refundable</th>\n",
       "      <th>baggage_weight</th>\n",
       "      <th>baggage_pieces</th>\n",
       "      <th>flight_number</th>\n",
       "      <th>purchace_date</th>\n",
       "      <th>departure_date</th>\n",
       "      <th>arival_date</th>\n",
       "      <th>departure_time</th>\n",
       "      <th>arival_time</th>\n",
       "      <th>purchase_time</th>\n",
       "      <th>price</th>\n",
       "    </tr>\n",
       "  </thead>\n",
       "  <tbody>\n",
       "    <tr>\n",
       "      <th>0</th>\n",
       "      <td>x</td>\n",
       "      <td>y</td>\n",
       "      <td>gamma</td>\n",
       "      <td>1</td>\n",
       "      <td>0.000000</td>\n",
       "      <td>0</td>\n",
       "      <td>c-2</td>\n",
       "      <td>2020-12-31</td>\n",
       "      <td>2021-01-10</td>\n",
       "      <td>2021-01-10</td>\n",
       "      <td>05:00:00</td>\n",
       "      <td>07:00:00</td>\n",
       "      <td>09:46:17</td>\n",
       "      <td>7400.0</td>\n",
       "    </tr>\n",
       "    <tr>\n",
       "      <th>1</th>\n",
       "      <td>x</td>\n",
       "      <td>y</td>\n",
       "      <td>gamma</td>\n",
       "      <td>1</td>\n",
       "      <td>0.711111</td>\n",
       "      <td>1</td>\n",
       "      <td>c-2</td>\n",
       "      <td>2020-12-31</td>\n",
       "      <td>2021-01-10</td>\n",
       "      <td>2021-01-10</td>\n",
       "      <td>05:00:00</td>\n",
       "      <td>07:00:00</td>\n",
       "      <td>09:46:17</td>\n",
       "      <td>8650.0</td>\n",
       "    </tr>\n",
       "    <tr>\n",
       "      <th>2</th>\n",
       "      <td>x</td>\n",
       "      <td>y</td>\n",
       "      <td>gamma</td>\n",
       "      <td>1</td>\n",
       "      <td>0.711111</td>\n",
       "      <td>1</td>\n",
       "      <td>c-4</td>\n",
       "      <td>2020-12-31</td>\n",
       "      <td>2021-01-10</td>\n",
       "      <td>2021-01-10</td>\n",
       "      <td>11:00:00</td>\n",
       "      <td>13:00:00</td>\n",
       "      <td>09:46:17</td>\n",
       "      <td>9150.0</td>\n",
       "    </tr>\n",
       "    <tr>\n",
       "      <th>3</th>\n",
       "      <td>x</td>\n",
       "      <td>y</td>\n",
       "      <td>gamma</td>\n",
       "      <td>1</td>\n",
       "      <td>0.711111</td>\n",
       "      <td>2</td>\n",
       "      <td>c-4</td>\n",
       "      <td>2020-12-31</td>\n",
       "      <td>2021-01-10</td>\n",
       "      <td>2021-01-10</td>\n",
       "      <td>11:00:00</td>\n",
       "      <td>13:00:00</td>\n",
       "      <td>09:46:17</td>\n",
       "      <td>10400.0</td>\n",
       "    </tr>\n",
       "    <tr>\n",
       "      <th>4</th>\n",
       "      <td>x</td>\n",
       "      <td>y</td>\n",
       "      <td>beta</td>\n",
       "      <td>0</td>\n",
       "      <td>0.444444</td>\n",
       "      <td>0</td>\n",
       "      <td>b-69</td>\n",
       "      <td>2020-12-31</td>\n",
       "      <td>2021-01-25</td>\n",
       "      <td>2021-01-25</td>\n",
       "      <td>11:00:00</td>\n",
       "      <td>12:55:00</td>\n",
       "      <td>09:46:18</td>\n",
       "      <td>8697.0</td>\n",
       "    </tr>\n",
       "  </tbody>\n",
       "</table>\n",
       "</div>"
      ],
      "text/plain": [
       "  origin destination airline  refundable  baggage_weight  baggage_pieces  \\\n",
       "0      x           y   gamma           1        0.000000               0   \n",
       "1      x           y   gamma           1        0.711111               1   \n",
       "2      x           y   gamma           1        0.711111               1   \n",
       "3      x           y   gamma           1        0.711111               2   \n",
       "4      x           y    beta           0        0.444444               0   \n",
       "\n",
       "  flight_number purchace_date departure_date arival_date departure_time  \\\n",
       "0           c-2    2020-12-31     2021-01-10  2021-01-10       05:00:00   \n",
       "1           c-2    2020-12-31     2021-01-10  2021-01-10       05:00:00   \n",
       "2           c-4    2020-12-31     2021-01-10  2021-01-10       11:00:00   \n",
       "3           c-4    2020-12-31     2021-01-10  2021-01-10       11:00:00   \n",
       "4          b-69    2020-12-31     2021-01-25  2021-01-25       11:00:00   \n",
       "\n",
       "  arival_time purchase_time    price  \n",
       "0    07:00:00      09:46:17   7400.0  \n",
       "1    07:00:00      09:46:17   8650.0  \n",
       "2    13:00:00      09:46:17   9150.0  \n",
       "3    13:00:00      09:46:17  10400.0  \n",
       "4    12:55:00      09:46:18   8697.0  "
      ]
     },
     "execution_count": 7,
     "metadata": {},
     "output_type": "execute_result"
    }
   ],
   "source": [
    "#Converting the data type from object to datetime\n",
    "df['purchace_date'] = pd.to_datetime(df['purchace_date'])\n",
    "df.head()"
   ]
  },
  {
   "cell_type": "code",
   "execution_count": 8,
   "metadata": {},
   "outputs": [
    {
     "data": {
      "text/html": [
       "<div>\n",
       "<style scoped>\n",
       "    .dataframe tbody tr th:only-of-type {\n",
       "        vertical-align: middle;\n",
       "    }\n",
       "\n",
       "    .dataframe tbody tr th {\n",
       "        vertical-align: top;\n",
       "    }\n",
       "\n",
       "    .dataframe thead th {\n",
       "        text-align: right;\n",
       "    }\n",
       "</style>\n",
       "<table border=\"1\" class=\"dataframe\">\n",
       "  <thead>\n",
       "    <tr style=\"text-align: right;\">\n",
       "      <th></th>\n",
       "      <th>origin</th>\n",
       "      <th>destination</th>\n",
       "      <th>airline</th>\n",
       "      <th>refundable</th>\n",
       "      <th>baggage_weight</th>\n",
       "      <th>baggage_pieces</th>\n",
       "      <th>flight_number</th>\n",
       "      <th>purchace_date</th>\n",
       "      <th>departure_date</th>\n",
       "      <th>arival_date</th>\n",
       "      <th>departure_time</th>\n",
       "      <th>arival_time</th>\n",
       "      <th>purchase_time</th>\n",
       "      <th>price</th>\n",
       "    </tr>\n",
       "  </thead>\n",
       "  <tbody>\n",
       "    <tr>\n",
       "      <th>0</th>\n",
       "      <td>x</td>\n",
       "      <td>y</td>\n",
       "      <td>gamma</td>\n",
       "      <td>1</td>\n",
       "      <td>0.000000</td>\n",
       "      <td>0</td>\n",
       "      <td>c-2</td>\n",
       "      <td>2020-12-31</td>\n",
       "      <td>2021-01-10</td>\n",
       "      <td>2021-01-10</td>\n",
       "      <td>05:00:00</td>\n",
       "      <td>07:00:00</td>\n",
       "      <td>09:46:17</td>\n",
       "      <td>7400.0</td>\n",
       "    </tr>\n",
       "    <tr>\n",
       "      <th>1</th>\n",
       "      <td>x</td>\n",
       "      <td>y</td>\n",
       "      <td>gamma</td>\n",
       "      <td>1</td>\n",
       "      <td>0.711111</td>\n",
       "      <td>1</td>\n",
       "      <td>c-2</td>\n",
       "      <td>2020-12-31</td>\n",
       "      <td>2021-01-10</td>\n",
       "      <td>2021-01-10</td>\n",
       "      <td>05:00:00</td>\n",
       "      <td>07:00:00</td>\n",
       "      <td>09:46:17</td>\n",
       "      <td>8650.0</td>\n",
       "    </tr>\n",
       "    <tr>\n",
       "      <th>2</th>\n",
       "      <td>x</td>\n",
       "      <td>y</td>\n",
       "      <td>gamma</td>\n",
       "      <td>1</td>\n",
       "      <td>0.711111</td>\n",
       "      <td>1</td>\n",
       "      <td>c-4</td>\n",
       "      <td>2020-12-31</td>\n",
       "      <td>2021-01-10</td>\n",
       "      <td>2021-01-10</td>\n",
       "      <td>11:00:00</td>\n",
       "      <td>13:00:00</td>\n",
       "      <td>09:46:17</td>\n",
       "      <td>9150.0</td>\n",
       "    </tr>\n",
       "    <tr>\n",
       "      <th>3</th>\n",
       "      <td>x</td>\n",
       "      <td>y</td>\n",
       "      <td>gamma</td>\n",
       "      <td>1</td>\n",
       "      <td>0.711111</td>\n",
       "      <td>2</td>\n",
       "      <td>c-4</td>\n",
       "      <td>2020-12-31</td>\n",
       "      <td>2021-01-10</td>\n",
       "      <td>2021-01-10</td>\n",
       "      <td>11:00:00</td>\n",
       "      <td>13:00:00</td>\n",
       "      <td>09:46:17</td>\n",
       "      <td>10400.0</td>\n",
       "    </tr>\n",
       "    <tr>\n",
       "      <th>4</th>\n",
       "      <td>x</td>\n",
       "      <td>y</td>\n",
       "      <td>beta</td>\n",
       "      <td>0</td>\n",
       "      <td>0.444444</td>\n",
       "      <td>0</td>\n",
       "      <td>b-69</td>\n",
       "      <td>2020-12-31</td>\n",
       "      <td>2021-01-25</td>\n",
       "      <td>2021-01-25</td>\n",
       "      <td>11:00:00</td>\n",
       "      <td>12:55:00</td>\n",
       "      <td>09:46:18</td>\n",
       "      <td>8697.0</td>\n",
       "    </tr>\n",
       "  </tbody>\n",
       "</table>\n",
       "</div>"
      ],
      "text/plain": [
       "  origin destination airline  refundable  baggage_weight  baggage_pieces  \\\n",
       "0      x           y   gamma           1        0.000000               0   \n",
       "1      x           y   gamma           1        0.711111               1   \n",
       "2      x           y   gamma           1        0.711111               1   \n",
       "3      x           y   gamma           1        0.711111               2   \n",
       "4      x           y    beta           0        0.444444               0   \n",
       "\n",
       "  flight_number purchace_date departure_date arival_date departure_time  \\\n",
       "0           c-2    2020-12-31     2021-01-10  2021-01-10       05:00:00   \n",
       "1           c-2    2020-12-31     2021-01-10  2021-01-10       05:00:00   \n",
       "2           c-4    2020-12-31     2021-01-10  2021-01-10       11:00:00   \n",
       "3           c-4    2020-12-31     2021-01-10  2021-01-10       11:00:00   \n",
       "4          b-69    2020-12-31     2021-01-25  2021-01-25       11:00:00   \n",
       "\n",
       "  arival_time purchase_time    price  \n",
       "0    07:00:00      09:46:17   7400.0  \n",
       "1    07:00:00      09:46:17   8650.0  \n",
       "2    13:00:00      09:46:17   9150.0  \n",
       "3    13:00:00      09:46:17  10400.0  \n",
       "4    12:55:00      09:46:18   8697.0  "
      ]
     },
     "execution_count": 8,
     "metadata": {},
     "output_type": "execute_result"
    }
   ],
   "source": [
    "#Converting the data type from object to datetime\n",
    "df['departure_date'] = pd.to_datetime(df['departure_date'])\n",
    "df.head()"
   ]
  },
  {
   "cell_type": "code",
   "execution_count": 9,
   "metadata": {},
   "outputs": [
    {
     "data": {
      "text/plain": [
       "0          10 days\n",
       "1          10 days\n",
       "2          10 days\n",
       "3          10 days\n",
       "4          25 days\n",
       "             ...  \n",
       "21776585    3 days\n",
       "21776586    3 days\n",
       "21776587    3 days\n",
       "21776588    3 days\n",
       "21776589    3 days\n",
       "Length: 21776590, dtype: timedelta64[ns]"
      ]
     },
     "execution_count": 9,
     "metadata": {},
     "output_type": "execute_result"
    }
   ],
   "source": [
    "# To find the number of days the user bought the ticket before departure\n",
    "a = df['departure_date']-df['purchace_date']\n",
    "a"
   ]
  },
  {
   "cell_type": "code",
   "execution_count": 10,
   "metadata": {},
   "outputs": [
    {
     "data": {
      "text/plain": [
       "0           10\n",
       "1           10\n",
       "2           10\n",
       "3           10\n",
       "4           25\n",
       "            ..\n",
       "21776585     3\n",
       "21776586     3\n",
       "21776587     3\n",
       "21776588     3\n",
       "21776589     3\n",
       "Length: 21776590, dtype: int64"
      ]
     },
     "execution_count": 10,
     "metadata": {},
     "output_type": "execute_result"
    }
   ],
   "source": [
    "# To add no of days to the data frame for further prediction\n",
    "s = a.dt.days\n",
    "s"
   ]
  },
  {
   "cell_type": "code",
   "execution_count": 11,
   "metadata": {},
   "outputs": [
    {
     "data": {
      "text/html": [
       "<div>\n",
       "<style scoped>\n",
       "    .dataframe tbody tr th:only-of-type {\n",
       "        vertical-align: middle;\n",
       "    }\n",
       "\n",
       "    .dataframe tbody tr th {\n",
       "        vertical-align: top;\n",
       "    }\n",
       "\n",
       "    .dataframe thead th {\n",
       "        text-align: right;\n",
       "    }\n",
       "</style>\n",
       "<table border=\"1\" class=\"dataframe\">\n",
       "  <thead>\n",
       "    <tr style=\"text-align: right;\">\n",
       "      <th></th>\n",
       "      <th>origin</th>\n",
       "      <th>destination</th>\n",
       "      <th>airline</th>\n",
       "      <th>refundable</th>\n",
       "      <th>baggage_weight</th>\n",
       "      <th>baggage_pieces</th>\n",
       "      <th>flight_number</th>\n",
       "      <th>purchace_date</th>\n",
       "      <th>departure_date</th>\n",
       "      <th>arival_date</th>\n",
       "      <th>departure_time</th>\n",
       "      <th>arival_time</th>\n",
       "      <th>purchase_time</th>\n",
       "      <th>price</th>\n",
       "      <th>purchase_days_before_daprture</th>\n",
       "    </tr>\n",
       "  </thead>\n",
       "  <tbody>\n",
       "    <tr>\n",
       "      <th>0</th>\n",
       "      <td>x</td>\n",
       "      <td>y</td>\n",
       "      <td>gamma</td>\n",
       "      <td>1</td>\n",
       "      <td>0.000000</td>\n",
       "      <td>0</td>\n",
       "      <td>c-2</td>\n",
       "      <td>2020-12-31</td>\n",
       "      <td>2021-01-10</td>\n",
       "      <td>2021-01-10</td>\n",
       "      <td>05:00:00</td>\n",
       "      <td>07:00:00</td>\n",
       "      <td>09:46:17</td>\n",
       "      <td>7400.0</td>\n",
       "      <td>10</td>\n",
       "    </tr>\n",
       "    <tr>\n",
       "      <th>1</th>\n",
       "      <td>x</td>\n",
       "      <td>y</td>\n",
       "      <td>gamma</td>\n",
       "      <td>1</td>\n",
       "      <td>0.711111</td>\n",
       "      <td>1</td>\n",
       "      <td>c-2</td>\n",
       "      <td>2020-12-31</td>\n",
       "      <td>2021-01-10</td>\n",
       "      <td>2021-01-10</td>\n",
       "      <td>05:00:00</td>\n",
       "      <td>07:00:00</td>\n",
       "      <td>09:46:17</td>\n",
       "      <td>8650.0</td>\n",
       "      <td>10</td>\n",
       "    </tr>\n",
       "    <tr>\n",
       "      <th>2</th>\n",
       "      <td>x</td>\n",
       "      <td>y</td>\n",
       "      <td>gamma</td>\n",
       "      <td>1</td>\n",
       "      <td>0.711111</td>\n",
       "      <td>1</td>\n",
       "      <td>c-4</td>\n",
       "      <td>2020-12-31</td>\n",
       "      <td>2021-01-10</td>\n",
       "      <td>2021-01-10</td>\n",
       "      <td>11:00:00</td>\n",
       "      <td>13:00:00</td>\n",
       "      <td>09:46:17</td>\n",
       "      <td>9150.0</td>\n",
       "      <td>10</td>\n",
       "    </tr>\n",
       "    <tr>\n",
       "      <th>3</th>\n",
       "      <td>x</td>\n",
       "      <td>y</td>\n",
       "      <td>gamma</td>\n",
       "      <td>1</td>\n",
       "      <td>0.711111</td>\n",
       "      <td>2</td>\n",
       "      <td>c-4</td>\n",
       "      <td>2020-12-31</td>\n",
       "      <td>2021-01-10</td>\n",
       "      <td>2021-01-10</td>\n",
       "      <td>11:00:00</td>\n",
       "      <td>13:00:00</td>\n",
       "      <td>09:46:17</td>\n",
       "      <td>10400.0</td>\n",
       "      <td>10</td>\n",
       "    </tr>\n",
       "    <tr>\n",
       "      <th>4</th>\n",
       "      <td>x</td>\n",
       "      <td>y</td>\n",
       "      <td>beta</td>\n",
       "      <td>0</td>\n",
       "      <td>0.444444</td>\n",
       "      <td>0</td>\n",
       "      <td>b-69</td>\n",
       "      <td>2020-12-31</td>\n",
       "      <td>2021-01-25</td>\n",
       "      <td>2021-01-25</td>\n",
       "      <td>11:00:00</td>\n",
       "      <td>12:55:00</td>\n",
       "      <td>09:46:18</td>\n",
       "      <td>8697.0</td>\n",
       "      <td>25</td>\n",
       "    </tr>\n",
       "    <tr>\n",
       "      <th>5</th>\n",
       "      <td>x</td>\n",
       "      <td>y</td>\n",
       "      <td>beta</td>\n",
       "      <td>0</td>\n",
       "      <td>0.444444</td>\n",
       "      <td>0</td>\n",
       "      <td>b-1</td>\n",
       "      <td>2020-12-31</td>\n",
       "      <td>2021-01-25</td>\n",
       "      <td>2021-01-25</td>\n",
       "      <td>05:00:00</td>\n",
       "      <td>06:55:00</td>\n",
       "      <td>09:46:18</td>\n",
       "      <td>8697.0</td>\n",
       "      <td>25</td>\n",
       "    </tr>\n",
       "  </tbody>\n",
       "</table>\n",
       "</div>"
      ],
      "text/plain": [
       "  origin destination airline  refundable  baggage_weight  baggage_pieces  \\\n",
       "0      x           y   gamma           1        0.000000               0   \n",
       "1      x           y   gamma           1        0.711111               1   \n",
       "2      x           y   gamma           1        0.711111               1   \n",
       "3      x           y   gamma           1        0.711111               2   \n",
       "4      x           y    beta           0        0.444444               0   \n",
       "5      x           y    beta           0        0.444444               0   \n",
       "\n",
       "  flight_number purchace_date departure_date arival_date departure_time  \\\n",
       "0           c-2    2020-12-31     2021-01-10  2021-01-10       05:00:00   \n",
       "1           c-2    2020-12-31     2021-01-10  2021-01-10       05:00:00   \n",
       "2           c-4    2020-12-31     2021-01-10  2021-01-10       11:00:00   \n",
       "3           c-4    2020-12-31     2021-01-10  2021-01-10       11:00:00   \n",
       "4          b-69    2020-12-31     2021-01-25  2021-01-25       11:00:00   \n",
       "5           b-1    2020-12-31     2021-01-25  2021-01-25       05:00:00   \n",
       "\n",
       "  arival_time purchase_time    price  purchase_days_before_daprture  \n",
       "0    07:00:00      09:46:17   7400.0                             10  \n",
       "1    07:00:00      09:46:17   8650.0                             10  \n",
       "2    13:00:00      09:46:17   9150.0                             10  \n",
       "3    13:00:00      09:46:17  10400.0                             10  \n",
       "4    12:55:00      09:46:18   8697.0                             25  \n",
       "5    06:55:00      09:46:18   8697.0                             25  "
      ]
     },
     "execution_count": 11,
     "metadata": {},
     "output_type": "execute_result"
    }
   ],
   "source": [
    "# Appending the data frame with new coloumn \n",
    "df['purchase_days_before_daprture'] = s\n",
    "df.head(6)"
   ]
  },
  {
   "cell_type": "code",
   "execution_count": 114,
   "metadata": {},
   "outputs": [],
   "source": [
    "# mean max method on f8 baggage weight to normalize the data\n",
    "#df['purchase_days_before_daprture'] = (df['purchase_days_before_daprture']-df['purchase_days_before_daprture'].min())/(df['purchase_days_before_daprture'].max()-df['purchase_days_before_daprture'].min())"
   ]
  },
  {
   "cell_type": "code",
   "execution_count": 13,
   "metadata": {},
   "outputs": [
    {
     "data": {
      "text/html": [
       "<div>\n",
       "<style scoped>\n",
       "    .dataframe tbody tr th:only-of-type {\n",
       "        vertical-align: middle;\n",
       "    }\n",
       "\n",
       "    .dataframe tbody tr th {\n",
       "        vertical-align: top;\n",
       "    }\n",
       "\n",
       "    .dataframe thead th {\n",
       "        text-align: right;\n",
       "    }\n",
       "</style>\n",
       "<table border=\"1\" class=\"dataframe\">\n",
       "  <thead>\n",
       "    <tr style=\"text-align: right;\">\n",
       "      <th></th>\n",
       "      <th>origin</th>\n",
       "      <th>destination</th>\n",
       "      <th>airline</th>\n",
       "      <th>refundable</th>\n",
       "      <th>baggage_weight</th>\n",
       "      <th>baggage_pieces</th>\n",
       "      <th>flight_number</th>\n",
       "      <th>purchace_date</th>\n",
       "      <th>departure_date</th>\n",
       "      <th>arival_date</th>\n",
       "      <th>departure_time</th>\n",
       "      <th>arival_time</th>\n",
       "      <th>purchase_time</th>\n",
       "      <th>price</th>\n",
       "      <th>purchase_days_before_daprture</th>\n",
       "    </tr>\n",
       "  </thead>\n",
       "  <tbody>\n",
       "    <tr>\n",
       "      <th>0</th>\n",
       "      <td>x</td>\n",
       "      <td>y</td>\n",
       "      <td>gamma</td>\n",
       "      <td>1</td>\n",
       "      <td>0.000000</td>\n",
       "      <td>0</td>\n",
       "      <td>c-2</td>\n",
       "      <td>2020-12-31</td>\n",
       "      <td>2021-01-10</td>\n",
       "      <td>2021-01-10</td>\n",
       "      <td>05:00:00</td>\n",
       "      <td>07:00:00</td>\n",
       "      <td>09:46:17</td>\n",
       "      <td>7400.0</td>\n",
       "      <td>10</td>\n",
       "    </tr>\n",
       "    <tr>\n",
       "      <th>1</th>\n",
       "      <td>x</td>\n",
       "      <td>y</td>\n",
       "      <td>gamma</td>\n",
       "      <td>1</td>\n",
       "      <td>0.711111</td>\n",
       "      <td>1</td>\n",
       "      <td>c-2</td>\n",
       "      <td>2020-12-31</td>\n",
       "      <td>2021-01-10</td>\n",
       "      <td>2021-01-10</td>\n",
       "      <td>05:00:00</td>\n",
       "      <td>07:00:00</td>\n",
       "      <td>09:46:17</td>\n",
       "      <td>8650.0</td>\n",
       "      <td>10</td>\n",
       "    </tr>\n",
       "    <tr>\n",
       "      <th>2</th>\n",
       "      <td>x</td>\n",
       "      <td>y</td>\n",
       "      <td>gamma</td>\n",
       "      <td>1</td>\n",
       "      <td>0.711111</td>\n",
       "      <td>1</td>\n",
       "      <td>c-4</td>\n",
       "      <td>2020-12-31</td>\n",
       "      <td>2021-01-10</td>\n",
       "      <td>2021-01-10</td>\n",
       "      <td>11:00:00</td>\n",
       "      <td>13:00:00</td>\n",
       "      <td>09:46:17</td>\n",
       "      <td>9150.0</td>\n",
       "      <td>10</td>\n",
       "    </tr>\n",
       "    <tr>\n",
       "      <th>3</th>\n",
       "      <td>x</td>\n",
       "      <td>y</td>\n",
       "      <td>gamma</td>\n",
       "      <td>1</td>\n",
       "      <td>0.711111</td>\n",
       "      <td>2</td>\n",
       "      <td>c-4</td>\n",
       "      <td>2020-12-31</td>\n",
       "      <td>2021-01-10</td>\n",
       "      <td>2021-01-10</td>\n",
       "      <td>11:00:00</td>\n",
       "      <td>13:00:00</td>\n",
       "      <td>09:46:17</td>\n",
       "      <td>10400.0</td>\n",
       "      <td>10</td>\n",
       "    </tr>\n",
       "    <tr>\n",
       "      <th>4</th>\n",
       "      <td>x</td>\n",
       "      <td>y</td>\n",
       "      <td>beta</td>\n",
       "      <td>0</td>\n",
       "      <td>0.444444</td>\n",
       "      <td>0</td>\n",
       "      <td>b-69</td>\n",
       "      <td>2020-12-31</td>\n",
       "      <td>2021-01-25</td>\n",
       "      <td>2021-01-25</td>\n",
       "      <td>11:00:00</td>\n",
       "      <td>12:55:00</td>\n",
       "      <td>09:46:18</td>\n",
       "      <td>8697.0</td>\n",
       "      <td>25</td>\n",
       "    </tr>\n",
       "    <tr>\n",
       "      <th>5</th>\n",
       "      <td>x</td>\n",
       "      <td>y</td>\n",
       "      <td>beta</td>\n",
       "      <td>0</td>\n",
       "      <td>0.444444</td>\n",
       "      <td>0</td>\n",
       "      <td>b-1</td>\n",
       "      <td>2020-12-31</td>\n",
       "      <td>2021-01-25</td>\n",
       "      <td>2021-01-25</td>\n",
       "      <td>05:00:00</td>\n",
       "      <td>06:55:00</td>\n",
       "      <td>09:46:18</td>\n",
       "      <td>8697.0</td>\n",
       "      <td>25</td>\n",
       "    </tr>\n",
       "  </tbody>\n",
       "</table>\n",
       "</div>"
      ],
      "text/plain": [
       "  origin destination airline  refundable  baggage_weight  baggage_pieces  \\\n",
       "0      x           y   gamma           1        0.000000               0   \n",
       "1      x           y   gamma           1        0.711111               1   \n",
       "2      x           y   gamma           1        0.711111               1   \n",
       "3      x           y   gamma           1        0.711111               2   \n",
       "4      x           y    beta           0        0.444444               0   \n",
       "5      x           y    beta           0        0.444444               0   \n",
       "\n",
       "  flight_number purchace_date departure_date arival_date departure_time  \\\n",
       "0           c-2    2020-12-31     2021-01-10  2021-01-10       05:00:00   \n",
       "1           c-2    2020-12-31     2021-01-10  2021-01-10       05:00:00   \n",
       "2           c-4    2020-12-31     2021-01-10  2021-01-10       11:00:00   \n",
       "3           c-4    2020-12-31     2021-01-10  2021-01-10       11:00:00   \n",
       "4          b-69    2020-12-31     2021-01-25  2021-01-25       11:00:00   \n",
       "5           b-1    2020-12-31     2021-01-25  2021-01-25       05:00:00   \n",
       "\n",
       "  arival_time purchase_time    price  purchase_days_before_daprture  \n",
       "0    07:00:00      09:46:17   7400.0                             10  \n",
       "1    07:00:00      09:46:17   8650.0                             10  \n",
       "2    13:00:00      09:46:17   9150.0                             10  \n",
       "3    13:00:00      09:46:17  10400.0                             10  \n",
       "4    12:55:00      09:46:18   8697.0                             25  \n",
       "5    06:55:00      09:46:18   8697.0                             25  "
      ]
     },
     "execution_count": 13,
     "metadata": {},
     "output_type": "execute_result"
    }
   ],
   "source": [
    "df.head(6)"
   ]
  },
  {
   "cell_type": "code",
   "execution_count": 12,
   "metadata": {},
   "outputs": [
    {
     "data": {
      "text/html": [
       "<div>\n",
       "<style scoped>\n",
       "    .dataframe tbody tr th:only-of-type {\n",
       "        vertical-align: middle;\n",
       "    }\n",
       "\n",
       "    .dataframe tbody tr th {\n",
       "        vertical-align: top;\n",
       "    }\n",
       "\n",
       "    .dataframe thead th {\n",
       "        text-align: right;\n",
       "    }\n",
       "</style>\n",
       "<table border=\"1\" class=\"dataframe\">\n",
       "  <thead>\n",
       "    <tr style=\"text-align: right;\">\n",
       "      <th></th>\n",
       "      <th>origin</th>\n",
       "      <th>destination</th>\n",
       "      <th>airline</th>\n",
       "      <th>refundable</th>\n",
       "      <th>baggage_weight</th>\n",
       "      <th>baggage_pieces</th>\n",
       "      <th>flight_number</th>\n",
       "      <th>purchace_date</th>\n",
       "      <th>departure_date</th>\n",
       "      <th>arival_date</th>\n",
       "      <th>departure_time</th>\n",
       "      <th>arival_time</th>\n",
       "      <th>purchase_time</th>\n",
       "      <th>price</th>\n",
       "      <th>purchase_days_before_daprture</th>\n",
       "    </tr>\n",
       "  </thead>\n",
       "  <tbody>\n",
       "    <tr>\n",
       "      <th>663358</th>\n",
       "      <td>x</td>\n",
       "      <td>y</td>\n",
       "      <td>alpha</td>\n",
       "      <td>1</td>\n",
       "      <td>0.000000</td>\n",
       "      <td>0</td>\n",
       "      <td>a-1</td>\n",
       "      <td>2021-01-20</td>\n",
       "      <td>2021-01-20</td>\n",
       "      <td>2021-01-20</td>\n",
       "      <td>05:15:00</td>\n",
       "      <td>07:25:00</td>\n",
       "      <td>02:44:52</td>\n",
       "      <td>8739.0</td>\n",
       "      <td>0</td>\n",
       "    </tr>\n",
       "    <tr>\n",
       "      <th>9365869</th>\n",
       "      <td>x</td>\n",
       "      <td>y</td>\n",
       "      <td>beta</td>\n",
       "      <td>1</td>\n",
       "      <td>0.444444</td>\n",
       "      <td>0</td>\n",
       "      <td>b-1</td>\n",
       "      <td>2021-06-11</td>\n",
       "      <td>2021-06-15</td>\n",
       "      <td>2021-06-15</td>\n",
       "      <td>05:00:00</td>\n",
       "      <td>06:55:00</td>\n",
       "      <td>04:58:27</td>\n",
       "      <td>10088.0</td>\n",
       "      <td>4</td>\n",
       "    </tr>\n",
       "    <tr>\n",
       "      <th>16973806</th>\n",
       "      <td>x</td>\n",
       "      <td>y</td>\n",
       "      <td>beta</td>\n",
       "      <td>1</td>\n",
       "      <td>0.444444</td>\n",
       "      <td>0</td>\n",
       "      <td>b-69</td>\n",
       "      <td>2021-08-03</td>\n",
       "      <td>2021-08-05</td>\n",
       "      <td>2021-08-05</td>\n",
       "      <td>11:00:00</td>\n",
       "      <td>12:55:00</td>\n",
       "      <td>11:44:28</td>\n",
       "      <td>7350.0</td>\n",
       "      <td>2</td>\n",
       "    </tr>\n",
       "    <tr>\n",
       "      <th>6137708</th>\n",
       "      <td>x</td>\n",
       "      <td>y</td>\n",
       "      <td>beta</td>\n",
       "      <td>1</td>\n",
       "      <td>0.888889</td>\n",
       "      <td>0</td>\n",
       "      <td>b-9</td>\n",
       "      <td>2021-05-04</td>\n",
       "      <td>2021-05-16</td>\n",
       "      <td>2021-05-16</td>\n",
       "      <td>14:00:00</td>\n",
       "      <td>15:55:00</td>\n",
       "      <td>09:05:14</td>\n",
       "      <td>9684.0</td>\n",
       "      <td>12</td>\n",
       "    </tr>\n",
       "    <tr>\n",
       "      <th>17636152</th>\n",
       "      <td>x</td>\n",
       "      <td>y</td>\n",
       "      <td>gamma</td>\n",
       "      <td>1</td>\n",
       "      <td>0.444444</td>\n",
       "      <td>1</td>\n",
       "      <td>c-2</td>\n",
       "      <td>2021-08-07</td>\n",
       "      <td>2021-08-24</td>\n",
       "      <td>2021-08-24</td>\n",
       "      <td>10:00:00</td>\n",
       "      <td>12:00:00</td>\n",
       "      <td>21:37:05</td>\n",
       "      <td>7765.0</td>\n",
       "      <td>17</td>\n",
       "    </tr>\n",
       "    <tr>\n",
       "      <th>...</th>\n",
       "      <td>...</td>\n",
       "      <td>...</td>\n",
       "      <td>...</td>\n",
       "      <td>...</td>\n",
       "      <td>...</td>\n",
       "      <td>...</td>\n",
       "      <td>...</td>\n",
       "      <td>...</td>\n",
       "      <td>...</td>\n",
       "      <td>...</td>\n",
       "      <td>...</td>\n",
       "      <td>...</td>\n",
       "      <td>...</td>\n",
       "      <td>...</td>\n",
       "      <td>...</td>\n",
       "    </tr>\n",
       "    <tr>\n",
       "      <th>7998793</th>\n",
       "      <td>x</td>\n",
       "      <td>y</td>\n",
       "      <td>beta</td>\n",
       "      <td>1</td>\n",
       "      <td>0.444444</td>\n",
       "      <td>0</td>\n",
       "      <td>b-69</td>\n",
       "      <td>2021-05-29</td>\n",
       "      <td>2021-06-07</td>\n",
       "      <td>2021-06-07</td>\n",
       "      <td>11:00:00</td>\n",
       "      <td>12:55:00</td>\n",
       "      <td>06:14:50</td>\n",
       "      <td>7479.0</td>\n",
       "      <td>9</td>\n",
       "    </tr>\n",
       "    <tr>\n",
       "      <th>20412133</th>\n",
       "      <td>x</td>\n",
       "      <td>y</td>\n",
       "      <td>gamma</td>\n",
       "      <td>1</td>\n",
       "      <td>0.444444</td>\n",
       "      <td>1</td>\n",
       "      <td>c-4</td>\n",
       "      <td>2021-08-22</td>\n",
       "      <td>2021-09-03</td>\n",
       "      <td>2021-09-03</td>\n",
       "      <td>14:00:00</td>\n",
       "      <td>16:00:00</td>\n",
       "      <td>05:57:03</td>\n",
       "      <td>6870.0</td>\n",
       "      <td>12</td>\n",
       "    </tr>\n",
       "    <tr>\n",
       "      <th>3186217</th>\n",
       "      <td>x</td>\n",
       "      <td>y</td>\n",
       "      <td>alpha</td>\n",
       "      <td>1</td>\n",
       "      <td>0.777778</td>\n",
       "      <td>1</td>\n",
       "      <td>a-7</td>\n",
       "      <td>2021-03-13</td>\n",
       "      <td>2021-03-24</td>\n",
       "      <td>2021-03-24</td>\n",
       "      <td>15:30:00</td>\n",
       "      <td>17:30:00</td>\n",
       "      <td>12:53:20</td>\n",
       "      <td>10799.0</td>\n",
       "      <td>11</td>\n",
       "    </tr>\n",
       "    <tr>\n",
       "      <th>4542052</th>\n",
       "      <td>x</td>\n",
       "      <td>y</td>\n",
       "      <td>gamma</td>\n",
       "      <td>1</td>\n",
       "      <td>0.444444</td>\n",
       "      <td>1</td>\n",
       "      <td>c-4</td>\n",
       "      <td>2021-04-12</td>\n",
       "      <td>2021-04-15</td>\n",
       "      <td>2021-04-15</td>\n",
       "      <td>11:00:00</td>\n",
       "      <td>13:00:00</td>\n",
       "      <td>13:58:25</td>\n",
       "      <td>8395.0</td>\n",
       "      <td>3</td>\n",
       "    </tr>\n",
       "    <tr>\n",
       "      <th>16460431</th>\n",
       "      <td>x</td>\n",
       "      <td>y</td>\n",
       "      <td>gamma</td>\n",
       "      <td>1</td>\n",
       "      <td>0.444444</td>\n",
       "      <td>1</td>\n",
       "      <td>c-6</td>\n",
       "      <td>2021-07-29</td>\n",
       "      <td>2021-07-30</td>\n",
       "      <td>2021-07-30</td>\n",
       "      <td>17:00:00</td>\n",
       "      <td>18:59:00</td>\n",
       "      <td>20:49:38</td>\n",
       "      <td>15075.0</td>\n",
       "      <td>1</td>\n",
       "    </tr>\n",
       "  </tbody>\n",
       "</table>\n",
       "<p>30000 rows × 15 columns</p>\n",
       "</div>"
      ],
      "text/plain": [
       "         origin destination airline  refundable  baggage_weight  \\\n",
       "663358        x           y   alpha           1        0.000000   \n",
       "9365869       x           y    beta           1        0.444444   \n",
       "16973806      x           y    beta           1        0.444444   \n",
       "6137708       x           y    beta           1        0.888889   \n",
       "17636152      x           y   gamma           1        0.444444   \n",
       "...         ...         ...     ...         ...             ...   \n",
       "7998793       x           y    beta           1        0.444444   \n",
       "20412133      x           y   gamma           1        0.444444   \n",
       "3186217       x           y   alpha           1        0.777778   \n",
       "4542052       x           y   gamma           1        0.444444   \n",
       "16460431      x           y   gamma           1        0.444444   \n",
       "\n",
       "          baggage_pieces flight_number purchace_date departure_date  \\\n",
       "663358                 0           a-1    2021-01-20     2021-01-20   \n",
       "9365869                0           b-1    2021-06-11     2021-06-15   \n",
       "16973806               0          b-69    2021-08-03     2021-08-05   \n",
       "6137708                0           b-9    2021-05-04     2021-05-16   \n",
       "17636152               1           c-2    2021-08-07     2021-08-24   \n",
       "...                  ...           ...           ...            ...   \n",
       "7998793                0          b-69    2021-05-29     2021-06-07   \n",
       "20412133               1           c-4    2021-08-22     2021-09-03   \n",
       "3186217                1           a-7    2021-03-13     2021-03-24   \n",
       "4542052                1           c-4    2021-04-12     2021-04-15   \n",
       "16460431               1           c-6    2021-07-29     2021-07-30   \n",
       "\n",
       "         arival_date departure_time arival_time purchase_time    price  \\\n",
       "663358    2021-01-20       05:15:00    07:25:00      02:44:52   8739.0   \n",
       "9365869   2021-06-15       05:00:00    06:55:00      04:58:27  10088.0   \n",
       "16973806  2021-08-05       11:00:00    12:55:00      11:44:28   7350.0   \n",
       "6137708   2021-05-16       14:00:00    15:55:00      09:05:14   9684.0   \n",
       "17636152  2021-08-24       10:00:00    12:00:00      21:37:05   7765.0   \n",
       "...              ...            ...         ...           ...      ...   \n",
       "7998793   2021-06-07       11:00:00    12:55:00      06:14:50   7479.0   \n",
       "20412133  2021-09-03       14:00:00    16:00:00      05:57:03   6870.0   \n",
       "3186217   2021-03-24       15:30:00    17:30:00      12:53:20  10799.0   \n",
       "4542052   2021-04-15       11:00:00    13:00:00      13:58:25   8395.0   \n",
       "16460431  2021-07-30       17:00:00    18:59:00      20:49:38  15075.0   \n",
       "\n",
       "          purchase_days_before_daprture  \n",
       "663358                                0  \n",
       "9365869                               4  \n",
       "16973806                              2  \n",
       "6137708                              12  \n",
       "17636152                             17  \n",
       "...                                 ...  \n",
       "7998793                               9  \n",
       "20412133                             12  \n",
       "3186217                              11  \n",
       "4542052                               3  \n",
       "16460431                              1  \n",
       "\n",
       "[30000 rows x 15 columns]"
      ]
     },
     "execution_count": 12,
     "metadata": {},
     "output_type": "execute_result"
    }
   ],
   "source": [
    "samp = df.sample(n=30000)\n",
    "samp"
   ]
  },
  {
   "cell_type": "code",
   "execution_count": 117,
   "metadata": {},
   "outputs": [
    {
     "data": {
      "image/png": "[encoded data removed]",
      "text/plain": [
       "<Figure size 432x288 with 1 Axes>"
      ]
     },
     "execution_count": 117,
     "metadata": {},
     "output_type": "execute_result"
    },
    {
     "data": {
      "image/png": "[encoded data removed]",
      "text/plain": [
       "<Figure size 432x288 with 1 Axes>"
      ]
     },
     "metadata": {
      "needs_background": "light"
     },
     "output_type": "display_data"
    }
   ],
   "source": [
    "from statsmodels.graphics.gofplots import qqplot\n",
    "qqplot(samp['purchase_days_before_daprture'])"
   ]
  },
  {
   "cell_type": "code",
   "execution_count": 118,
   "metadata": {},
   "outputs": [
    {
     "data": {
      "text/plain": [
       "origin                           0\n",
       "destination                      0\n",
       "airline                          0\n",
       "refundable                       0\n",
       "baggage_weight                   0\n",
       "baggage_pieces                   0\n",
       "flight_number                    0\n",
       "purchace_date                    0\n",
       "departure_date                   0\n",
       "arival_date                      0\n",
       "departure_time                   0\n",
       "arival_time                      0\n",
       "purchase_time                    0\n",
       "price                            0\n",
       "purchase_days_before_daprture    0\n",
       "dtype: int64"
      ]
     },
     "execution_count": 118,
     "metadata": {},
     "output_type": "execute_result"
    }
   ],
   "source": [
    "samp.isnull().sum()"
   ]
  },
  {
   "cell_type": "code",
   "execution_count": 119,
   "metadata": {},
   "outputs": [
    {
     "data": {
      "text/plain": [
       "origin                              0\n",
       "destination                         0\n",
       "airline                             0\n",
       "refundable                        208\n",
       "baggage_weight                    853\n",
       "baggage_pieces                   6360\n",
       "flight_number                       0\n",
       "purchace_date                       0\n",
       "departure_date                      0\n",
       "arival_date                         0\n",
       "departure_time                      0\n",
       "arival_time                         0\n",
       "purchase_time                       0\n",
       "price                               0\n",
       "purchase_days_before_daprture     704\n",
       "dtype: int64"
      ]
     },
     "execution_count": 119,
     "metadata": {},
     "output_type": "execute_result"
    }
   ],
   "source": [
    "(samp==0).sum()"
   ]
  },
  {
   "cell_type": "code",
   "execution_count": 120,
   "metadata": {},
   "outputs": [],
   "source": [
    "samp = samp.loc[samp['baggage_weight'] * samp['purchase_days_before_daprture'] != 0]"
   ]
  },
  {
   "cell_type": "code",
   "execution_count": 121,
   "metadata": {},
   "outputs": [
    {
     "data": {
      "text/plain": [
       "origin                              0\n",
       "destination                         0\n",
       "airline                             0\n",
       "refundable                        203\n",
       "baggage_weight                      0\n",
       "baggage_pieces                   5401\n",
       "flight_number                       0\n",
       "purchace_date                       0\n",
       "departure_date                      0\n",
       "arival_date                         0\n",
       "departure_time                      0\n",
       "arival_time                         0\n",
       "purchase_time                       0\n",
       "price                               0\n",
       "purchase_days_before_daprture       0\n",
       "dtype: int64"
      ]
     },
     "execution_count": 121,
     "metadata": {},
     "output_type": "execute_result"
    }
   ],
   "source": [
    "(samp==0).sum()"
   ]
  },
  {
   "cell_type": "code",
   "execution_count": 122,
   "metadata": {},
   "outputs": [],
   "source": [
    "samp = samp.loc[samp['baggage_pieces'] * samp['price'] != 0]\n"
   ]
  },
  {
   "cell_type": "code",
   "execution_count": 123,
   "metadata": {},
   "outputs": [
    {
     "data": {
      "text/plain": [
       "origin                           0\n",
       "destination                      0\n",
       "airline                          0\n",
       "refundable                       0\n",
       "baggage_weight                   0\n",
       "baggage_pieces                   0\n",
       "flight_number                    0\n",
       "purchace_date                    0\n",
       "departure_date                   0\n",
       "arival_date                      0\n",
       "departure_time                   0\n",
       "arival_time                      0\n",
       "purchase_time                    0\n",
       "price                            0\n",
       "purchase_days_before_daprture    0\n",
       "dtype: int64"
      ]
     },
     "execution_count": 123,
     "metadata": {},
     "output_type": "execute_result"
    }
   ],
   "source": [
    "(samp==0).sum()"
   ]
  },
  {
   "cell_type": "code",
   "execution_count": 124,
   "metadata": {},
   "outputs": [
    {
     "data": {
      "text/plain": [
       "(23067, 15)"
      ]
     },
     "execution_count": 124,
     "metadata": {},
     "output_type": "execute_result"
    }
   ],
   "source": [
    "samp.shape"
   ]
  },
  {
   "cell_type": "code",
   "execution_count": 125,
   "metadata": {},
   "outputs": [
    {
     "data": {
      "text/plain": [
       "8823474     11900.0\n",
       "19978629     7524.0\n",
       "6158145      9650.0\n",
       "17476467     6870.0\n",
       "20700692    14945.0\n",
       "             ...   \n",
       "6953430      5901.0\n",
       "9401610      9403.0\n",
       "21222156    11100.0\n",
       "13623936    10900.0\n",
       "3012970     11300.0\n",
       "Name: price, Length: 23067, dtype: float64"
      ]
     },
     "execution_count": 125,
     "metadata": {},
     "output_type": "execute_result"
    }
   ],
   "source": [
    "samp['price']"
   ]
  },
  {
   "cell_type": "code",
   "execution_count": 126,
   "metadata": {},
   "outputs": [],
   "source": [
    "x = samp[['airline','baggage_weight','baggage_pieces','refundable','purchase_days_before_daprture']]\n",
    "y = samp['price']"
   ]
  },
  {
   "cell_type": "code",
   "execution_count": 127,
   "metadata": {},
   "outputs": [],
   "source": [
    "#from sklearn.model_selection import train_test_split\n",
    "#X_train, X_test, y_train, y_test = train_test_split(x, y, test_size=0.2, random_state=0)"
   ]
  },
  {
   "cell_type": "code",
   "execution_count": 128,
   "metadata": {},
   "outputs": [
    {
     "ename": "ValueError",
     "evalue": "could not convert string to float: 'alpha'",
     "output_type": "error",
     "traceback": [
      "\u001b[1;31m---------------------------------------------------------------------------\u001b[0m",
      "\u001b[1;31mValueError\u001b[0m                                Traceback (most recent call last)",
      "\u001b[1;32m~\\AppData\\Local\\Temp/ipykernel_26324/1284348977.py\u001b[0m in \u001b[0;36m<module>\u001b[1;34m\u001b[0m\n\u001b[0;32m      1\u001b[0m \u001b[1;32mfrom\u001b[0m \u001b[0msklearn\u001b[0m\u001b[1;33m.\u001b[0m\u001b[0mlinear_model\u001b[0m \u001b[1;32mimport\u001b[0m \u001b[0mLinearRegression\u001b[0m\u001b[1;33m\u001b[0m\u001b[1;33m\u001b[0m\u001b[0m\n\u001b[1;32m----> 2\u001b[1;33m \u001b[0mmodel\u001b[0m \u001b[1;33m=\u001b[0m \u001b[0mLinearRegression\u001b[0m\u001b[1;33m(\u001b[0m\u001b[1;33m)\u001b[0m\u001b[1;33m.\u001b[0m\u001b[0mfit\u001b[0m\u001b[1;33m(\u001b[0m\u001b[0mX_train\u001b[0m\u001b[1;33m,\u001b[0m \u001b[0my_train\u001b[0m\u001b[1;33m)\u001b[0m\u001b[1;33m\u001b[0m\u001b[1;33m\u001b[0m\u001b[0m\n\u001b[0m",
      "\u001b[1;32m~\\anaconda3\\lib\\site-packages\\sklearn\\linear_model\\_base.py\u001b[0m in \u001b[0;36mfit\u001b[1;34m(self, X, y, sample_weight)\u001b[0m\n\u001b[0;32m    516\u001b[0m         \u001b[0maccept_sparse\u001b[0m \u001b[1;33m=\u001b[0m \u001b[1;32mFalse\u001b[0m \u001b[1;32mif\u001b[0m \u001b[0mself\u001b[0m\u001b[1;33m.\u001b[0m\u001b[0mpositive\u001b[0m \u001b[1;32melse\u001b[0m \u001b[1;33m[\u001b[0m\u001b[1;34m'csr'\u001b[0m\u001b[1;33m,\u001b[0m \u001b[1;34m'csc'\u001b[0m\u001b[1;33m,\u001b[0m \u001b[1;34m'coo'\u001b[0m\u001b[1;33m]\u001b[0m\u001b[1;33m\u001b[0m\u001b[1;33m\u001b[0m\u001b[0m\n\u001b[0;32m    517\u001b[0m \u001b[1;33m\u001b[0m\u001b[0m\n\u001b[1;32m--> 518\u001b[1;33m         X, y = self._validate_data(X, y, accept_sparse=accept_sparse,\n\u001b[0m\u001b[0;32m    519\u001b[0m                                    y_numeric=True, multi_output=True)\n\u001b[0;32m    520\u001b[0m \u001b[1;33m\u001b[0m\u001b[0m\n",
      "\u001b[1;32m~\\anaconda3\\lib\\site-packages\\sklearn\\base.py\u001b[0m in \u001b[0;36m_validate_data\u001b[1;34m(self, X, y, reset, validate_separately, **check_params)\u001b[0m\n\u001b[0;32m    431\u001b[0m                 \u001b[0my\u001b[0m \u001b[1;33m=\u001b[0m \u001b[0mcheck_array\u001b[0m\u001b[1;33m(\u001b[0m\u001b[0my\u001b[0m\u001b[1;33m,\u001b[0m \u001b[1;33m**\u001b[0m\u001b[0mcheck_y_params\u001b[0m\u001b[1;33m)\u001b[0m\u001b[1;33m\u001b[0m\u001b[1;33m\u001b[0m\u001b[0m\n\u001b[0;32m    432\u001b[0m             \u001b[1;32melse\u001b[0m\u001b[1;33m:\u001b[0m\u001b[1;33m\u001b[0m\u001b[1;33m\u001b[0m\u001b[0m\n\u001b[1;32m--> 433\u001b[1;33m                 \u001b[0mX\u001b[0m\u001b[1;33m,\u001b[0m \u001b[0my\u001b[0m \u001b[1;33m=\u001b[0m \u001b[0mcheck_X_y\u001b[0m\u001b[1;33m(\u001b[0m\u001b[0mX\u001b[0m\u001b[1;33m,\u001b[0m \u001b[0my\u001b[0m\u001b[1;33m,\u001b[0m \u001b[1;33m**\u001b[0m\u001b[0mcheck_params\u001b[0m\u001b[1;33m)\u001b[0m\u001b[1;33m\u001b[0m\u001b[1;33m\u001b[0m\u001b[0m\n\u001b[0m\u001b[0;32m    434\u001b[0m             \u001b[0mout\u001b[0m \u001b[1;33m=\u001b[0m \u001b[0mX\u001b[0m\u001b[1;33m,\u001b[0m \u001b[0my\u001b[0m\u001b[1;33m\u001b[0m\u001b[1;33m\u001b[0m\u001b[0m\n\u001b[0;32m    435\u001b[0m \u001b[1;33m\u001b[0m\u001b[0m\n",
      "\u001b[1;32m~\\anaconda3\\lib\\site-packages\\sklearn\\utils\\validation.py\u001b[0m in \u001b[0;36minner_f\u001b[1;34m(*args, **kwargs)\u001b[0m\n\u001b[0;32m     61\u001b[0m             \u001b[0mextra_args\u001b[0m \u001b[1;33m=\u001b[0m \u001b[0mlen\u001b[0m\u001b[1;33m(\u001b[0m\u001b[0margs\u001b[0m\u001b[1;33m)\u001b[0m \u001b[1;33m-\u001b[0m \u001b[0mlen\u001b[0m\u001b[1;33m(\u001b[0m\u001b[0mall_args\u001b[0m\u001b[1;33m)\u001b[0m\u001b[1;33m\u001b[0m\u001b[1;33m\u001b[0m\u001b[0m\n\u001b[0;32m     62\u001b[0m             \u001b[1;32mif\u001b[0m \u001b[0mextra_args\u001b[0m \u001b[1;33m<=\u001b[0m \u001b[1;36m0\u001b[0m\u001b[1;33m:\u001b[0m\u001b[1;33m\u001b[0m\u001b[1;33m\u001b[0m\u001b[0m\n\u001b[1;32m---> 63\u001b[1;33m                 \u001b[1;32mreturn\u001b[0m \u001b[0mf\u001b[0m\u001b[1;33m(\u001b[0m\u001b[1;33m*\u001b[0m\u001b[0margs\u001b[0m\u001b[1;33m,\u001b[0m \u001b[1;33m**\u001b[0m\u001b[0mkwargs\u001b[0m\u001b[1;33m)\u001b[0m\u001b[1;33m\u001b[0m\u001b[1;33m\u001b[0m\u001b[0m\n\u001b[0m\u001b[0;32m     64\u001b[0m \u001b[1;33m\u001b[0m\u001b[0m\n\u001b[0;32m     65\u001b[0m             \u001b[1;31m# extra_args > 0\u001b[0m\u001b[1;33m\u001b[0m\u001b[1;33m\u001b[0m\u001b[0m\n",
      "\u001b[1;32m~\\anaconda3\\lib\\site-packages\\sklearn\\utils\\validation.py\u001b[0m in \u001b[0;36mcheck_X_y\u001b[1;34m(X, y, accept_sparse, accept_large_sparse, dtype, order, copy, force_all_finite, ensure_2d, allow_nd, multi_output, ensure_min_samples, ensure_min_features, y_numeric, estimator)\u001b[0m\n\u001b[0;32m    869\u001b[0m         \u001b[1;32mraise\u001b[0m \u001b[0mValueError\u001b[0m\u001b[1;33m(\u001b[0m\u001b[1;34m\"y cannot be None\"\u001b[0m\u001b[1;33m)\u001b[0m\u001b[1;33m\u001b[0m\u001b[1;33m\u001b[0m\u001b[0m\n\u001b[0;32m    870\u001b[0m \u001b[1;33m\u001b[0m\u001b[0m\n\u001b[1;32m--> 871\u001b[1;33m     X = check_array(X, accept_sparse=accept_sparse,\n\u001b[0m\u001b[0;32m    872\u001b[0m                     \u001b[0maccept_large_sparse\u001b[0m\u001b[1;33m=\u001b[0m\u001b[0maccept_large_sparse\u001b[0m\u001b[1;33m,\u001b[0m\u001b[1;33m\u001b[0m\u001b[1;33m\u001b[0m\u001b[0m\n\u001b[0;32m    873\u001b[0m                     \u001b[0mdtype\u001b[0m\u001b[1;33m=\u001b[0m\u001b[0mdtype\u001b[0m\u001b[1;33m,\u001b[0m \u001b[0morder\u001b[0m\u001b[1;33m=\u001b[0m\u001b[0morder\u001b[0m\u001b[1;33m,\u001b[0m \u001b[0mcopy\u001b[0m\u001b[1;33m=\u001b[0m\u001b[0mcopy\u001b[0m\u001b[1;33m,\u001b[0m\u001b[1;33m\u001b[0m\u001b[1;33m\u001b[0m\u001b[0m\n",
      "\u001b[1;32m~\\anaconda3\\lib\\site-packages\\sklearn\\utils\\validation.py\u001b[0m in \u001b[0;36minner_f\u001b[1;34m(*args, **kwargs)\u001b[0m\n\u001b[0;32m     61\u001b[0m             \u001b[0mextra_args\u001b[0m \u001b[1;33m=\u001b[0m \u001b[0mlen\u001b[0m\u001b[1;33m(\u001b[0m\u001b[0margs\u001b[0m\u001b[1;33m)\u001b[0m \u001b[1;33m-\u001b[0m \u001b[0mlen\u001b[0m\u001b[1;33m(\u001b[0m\u001b[0mall_args\u001b[0m\u001b[1;33m)\u001b[0m\u001b[1;33m\u001b[0m\u001b[1;33m\u001b[0m\u001b[0m\n\u001b[0;32m     62\u001b[0m             \u001b[1;32mif\u001b[0m \u001b[0mextra_args\u001b[0m \u001b[1;33m<=\u001b[0m \u001b[1;36m0\u001b[0m\u001b[1;33m:\u001b[0m\u001b[1;33m\u001b[0m\u001b[1;33m\u001b[0m\u001b[0m\n\u001b[1;32m---> 63\u001b[1;33m                 \u001b[1;32mreturn\u001b[0m \u001b[0mf\u001b[0m\u001b[1;33m(\u001b[0m\u001b[1;33m*\u001b[0m\u001b[0margs\u001b[0m\u001b[1;33m,\u001b[0m \u001b[1;33m**\u001b[0m\u001b[0mkwargs\u001b[0m\u001b[1;33m)\u001b[0m\u001b[1;33m\u001b[0m\u001b[1;33m\u001b[0m\u001b[0m\n\u001b[0m\u001b[0;32m     64\u001b[0m \u001b[1;33m\u001b[0m\u001b[0m\n\u001b[0;32m     65\u001b[0m             \u001b[1;31m# extra_args > 0\u001b[0m\u001b[1;33m\u001b[0m\u001b[1;33m\u001b[0m\u001b[0m\n",
      "\u001b[1;32m~\\anaconda3\\lib\\site-packages\\sklearn\\utils\\validation.py\u001b[0m in \u001b[0;36mcheck_array\u001b[1;34m(array, accept_sparse, accept_large_sparse, dtype, order, copy, force_all_finite, ensure_2d, allow_nd, ensure_min_samples, ensure_min_features, estimator)\u001b[0m\n\u001b[0;32m    671\u001b[0m                     \u001b[0marray\u001b[0m \u001b[1;33m=\u001b[0m \u001b[0marray\u001b[0m\u001b[1;33m.\u001b[0m\u001b[0mastype\u001b[0m\u001b[1;33m(\u001b[0m\u001b[0mdtype\u001b[0m\u001b[1;33m,\u001b[0m \u001b[0mcasting\u001b[0m\u001b[1;33m=\u001b[0m\u001b[1;34m\"unsafe\"\u001b[0m\u001b[1;33m,\u001b[0m \u001b[0mcopy\u001b[0m\u001b[1;33m=\u001b[0m\u001b[1;32mFalse\u001b[0m\u001b[1;33m)\u001b[0m\u001b[1;33m\u001b[0m\u001b[1;33m\u001b[0m\u001b[0m\n\u001b[0;32m    672\u001b[0m                 \u001b[1;32melse\u001b[0m\u001b[1;33m:\u001b[0m\u001b[1;33m\u001b[0m\u001b[1;33m\u001b[0m\u001b[0m\n\u001b[1;32m--> 673\u001b[1;33m                     \u001b[0marray\u001b[0m \u001b[1;33m=\u001b[0m \u001b[0mnp\u001b[0m\u001b[1;33m.\u001b[0m\u001b[0masarray\u001b[0m\u001b[1;33m(\u001b[0m\u001b[0marray\u001b[0m\u001b[1;33m,\u001b[0m \u001b[0morder\u001b[0m\u001b[1;33m=\u001b[0m\u001b[0morder\u001b[0m\u001b[1;33m,\u001b[0m \u001b[0mdtype\u001b[0m\u001b[1;33m=\u001b[0m\u001b[0mdtype\u001b[0m\u001b[1;33m)\u001b[0m\u001b[1;33m\u001b[0m\u001b[1;33m\u001b[0m\u001b[0m\n\u001b[0m\u001b[0;32m    674\u001b[0m             \u001b[1;32mexcept\u001b[0m \u001b[0mComplexWarning\u001b[0m \u001b[1;32mas\u001b[0m \u001b[0mcomplex_warning\u001b[0m\u001b[1;33m:\u001b[0m\u001b[1;33m\u001b[0m\u001b[1;33m\u001b[0m\u001b[0m\n\u001b[0;32m    675\u001b[0m                 raise ValueError(\"Complex data not supported\\n\"\n",
      "\u001b[1;32m~\\anaconda3\\lib\\site-packages\\numpy\\core\\_asarray.py\u001b[0m in \u001b[0;36masarray\u001b[1;34m(a, dtype, order, like)\u001b[0m\n\u001b[0;32m    100\u001b[0m         \u001b[1;32mreturn\u001b[0m \u001b[0m_asarray_with_like\u001b[0m\u001b[1;33m(\u001b[0m\u001b[0ma\u001b[0m\u001b[1;33m,\u001b[0m \u001b[0mdtype\u001b[0m\u001b[1;33m=\u001b[0m\u001b[0mdtype\u001b[0m\u001b[1;33m,\u001b[0m \u001b[0morder\u001b[0m\u001b[1;33m=\u001b[0m\u001b[0morder\u001b[0m\u001b[1;33m,\u001b[0m \u001b[0mlike\u001b[0m\u001b[1;33m=\u001b[0m\u001b[0mlike\u001b[0m\u001b[1;33m)\u001b[0m\u001b[1;33m\u001b[0m\u001b[1;33m\u001b[0m\u001b[0m\n\u001b[0;32m    101\u001b[0m \u001b[1;33m\u001b[0m\u001b[0m\n\u001b[1;32m--> 102\u001b[1;33m     \u001b[1;32mreturn\u001b[0m \u001b[0marray\u001b[0m\u001b[1;33m(\u001b[0m\u001b[0ma\u001b[0m\u001b[1;33m,\u001b[0m \u001b[0mdtype\u001b[0m\u001b[1;33m,\u001b[0m \u001b[0mcopy\u001b[0m\u001b[1;33m=\u001b[0m\u001b[1;32mFalse\u001b[0m\u001b[1;33m,\u001b[0m \u001b[0morder\u001b[0m\u001b[1;33m=\u001b[0m\u001b[0morder\u001b[0m\u001b[1;33m)\u001b[0m\u001b[1;33m\u001b[0m\u001b[1;33m\u001b[0m\u001b[0m\n\u001b[0m\u001b[0;32m    103\u001b[0m \u001b[1;33m\u001b[0m\u001b[0m\n\u001b[0;32m    104\u001b[0m \u001b[1;33m\u001b[0m\u001b[0m\n",
      "\u001b[1;32m~\\anaconda3\\lib\\site-packages\\pandas\\core\\generic.py\u001b[0m in \u001b[0;36m__array__\u001b[1;34m(self, dtype)\u001b[0m\n\u001b[0;32m   1991\u001b[0m \u001b[1;33m\u001b[0m\u001b[0m\n\u001b[0;32m   1992\u001b[0m     \u001b[1;32mdef\u001b[0m \u001b[0m__array__\u001b[0m\u001b[1;33m(\u001b[0m\u001b[0mself\u001b[0m\u001b[1;33m,\u001b[0m \u001b[0mdtype\u001b[0m\u001b[1;33m:\u001b[0m \u001b[0mNpDtype\u001b[0m \u001b[1;33m|\u001b[0m \u001b[1;32mNone\u001b[0m \u001b[1;33m=\u001b[0m \u001b[1;32mNone\u001b[0m\u001b[1;33m)\u001b[0m \u001b[1;33m->\u001b[0m \u001b[0mnp\u001b[0m\u001b[1;33m.\u001b[0m\u001b[0mndarray\u001b[0m\u001b[1;33m:\u001b[0m\u001b[1;33m\u001b[0m\u001b[1;33m\u001b[0m\u001b[0m\n\u001b[1;32m-> 1993\u001b[1;33m         \u001b[1;32mreturn\u001b[0m \u001b[0mnp\u001b[0m\u001b[1;33m.\u001b[0m\u001b[0masarray\u001b[0m\u001b[1;33m(\u001b[0m\u001b[0mself\u001b[0m\u001b[1;33m.\u001b[0m\u001b[0m_values\u001b[0m\u001b[1;33m,\u001b[0m \u001b[0mdtype\u001b[0m\u001b[1;33m=\u001b[0m\u001b[0mdtype\u001b[0m\u001b[1;33m)\u001b[0m\u001b[1;33m\u001b[0m\u001b[1;33m\u001b[0m\u001b[0m\n\u001b[0m\u001b[0;32m   1994\u001b[0m \u001b[1;33m\u001b[0m\u001b[0m\n\u001b[0;32m   1995\u001b[0m     def __array_wrap__(\n",
      "\u001b[1;32m~\\anaconda3\\lib\\site-packages\\numpy\\core\\_asarray.py\u001b[0m in \u001b[0;36masarray\u001b[1;34m(a, dtype, order, like)\u001b[0m\n\u001b[0;32m    100\u001b[0m         \u001b[1;32mreturn\u001b[0m \u001b[0m_asarray_with_like\u001b[0m\u001b[1;33m(\u001b[0m\u001b[0ma\u001b[0m\u001b[1;33m,\u001b[0m \u001b[0mdtype\u001b[0m\u001b[1;33m=\u001b[0m\u001b[0mdtype\u001b[0m\u001b[1;33m,\u001b[0m \u001b[0morder\u001b[0m\u001b[1;33m=\u001b[0m\u001b[0morder\u001b[0m\u001b[1;33m,\u001b[0m \u001b[0mlike\u001b[0m\u001b[1;33m=\u001b[0m\u001b[0mlike\u001b[0m\u001b[1;33m)\u001b[0m\u001b[1;33m\u001b[0m\u001b[1;33m\u001b[0m\u001b[0m\n\u001b[0;32m    101\u001b[0m \u001b[1;33m\u001b[0m\u001b[0m\n\u001b[1;32m--> 102\u001b[1;33m     \u001b[1;32mreturn\u001b[0m \u001b[0marray\u001b[0m\u001b[1;33m(\u001b[0m\u001b[0ma\u001b[0m\u001b[1;33m,\u001b[0m \u001b[0mdtype\u001b[0m\u001b[1;33m,\u001b[0m \u001b[0mcopy\u001b[0m\u001b[1;33m=\u001b[0m\u001b[1;32mFalse\u001b[0m\u001b[1;33m,\u001b[0m \u001b[0morder\u001b[0m\u001b[1;33m=\u001b[0m\u001b[0morder\u001b[0m\u001b[1;33m)\u001b[0m\u001b[1;33m\u001b[0m\u001b[1;33m\u001b[0m\u001b[0m\n\u001b[0m\u001b[0;32m    103\u001b[0m \u001b[1;33m\u001b[0m\u001b[0m\n\u001b[0;32m    104\u001b[0m \u001b[1;33m\u001b[0m\u001b[0m\n",
      "\u001b[1;31mValueError\u001b[0m: could not convert string to float: 'alpha'"
     ]
    }
   ],
   "source": [
    "#from sklearn.linear_model import LinearRegression\n",
    "#model = LinearRegression().fit(X_train, y_train)"
   ]
  },
  {
   "cell_type": "code",
   "execution_count": null,
   "metadata": {},
   "outputs": [
    {
     "data": {
      "text/plain": [
       "array([11191.70035647, 10600.30342375, 10169.10788577, ...,\n",
       "       11882.09562982, 10915.13071042,  9899.3979015 ])"
      ]
     },
     "execution_count": 98,
     "metadata": {},
     "output_type": "execute_result"
    }
   ],
   "source": [
    "#y_predict = model.predict(X_test)\n",
    "#y_predict"
   ]
  },
  {
   "cell_type": "code",
   "execution_count": null,
   "metadata": {},
   "outputs": [
    {
     "name": "stdout",
     "output_type": "stream",
     "text": [
      "Score of testing data 0.0378681877154432\n",
      "Score of training data 0.043701787748852805\n"
     ]
    }
   ],
   "source": [
    "# How to plot and how to do test predict etc...\n",
    "##print(\"Score of training data\",model.score(X_train,y_train))"
   ]
  },
  {
   "cell_type": "code",
   "execution_count": null,
   "metadata": {},
   "outputs": [
    {
     "data": {
      "text/plain": [
       "0.042559349548555336"
      ]
     },
     "execution_count": 100,
     "metadata": {},
     "output_type": "execute_result"
    }
   ],
   "source": [
    "#model.score(x,y)"
   ]
  },
  {
   "cell_type": "code",
   "execution_count": null,
   "metadata": {},
   "outputs": [],
   "source": []
  },
  {
   "cell_type": "markdown",
   "metadata": {},
   "source": [
    "# Just for fun Type conversion\n",
    "d= pd.to_datetime(df['departure_time'])\n",
    "d"
   ]
  },
  {
   "cell_type": "markdown",
   "metadata": {},
   "source": [
    "# Just for fun Type conversion\n",
    "e= pd.to_datetime(df['arival_time'])\n",
    "e"
   ]
  },
  {
   "cell_type": "markdown",
   "metadata": {},
   "source": [
    "# To find the Journey duration its just for practice\n",
    "f = e-d\n",
    "f"
   ]
  },
  {
   "cell_type": "markdown",
   "metadata": {},
   "source": [
    "# Yahan sy nechy kal k Assignmnet hai Ammar bhai"
   ]
  },
  {
   "cell_type": "code",
   "execution_count": 13,
   "metadata": {},
   "outputs": [
    {
     "data": {
      "text/html": [
       "<div>\n",
       "<style scoped>\n",
       "    .dataframe tbody tr th:only-of-type {\n",
       "        vertical-align: middle;\n",
       "    }\n",
       "\n",
       "    .dataframe tbody tr th {\n",
       "        vertical-align: top;\n",
       "    }\n",
       "\n",
       "    .dataframe thead th {\n",
       "        text-align: right;\n",
       "    }\n",
       "</style>\n",
       "<table border=\"1\" class=\"dataframe\">\n",
       "  <thead>\n",
       "    <tr style=\"text-align: right;\">\n",
       "      <th></th>\n",
       "      <th>purchase_days_before_daprture</th>\n",
       "      <th>airline</th>\n",
       "      <th>baggage_weight</th>\n",
       "      <th>baggage_pieces</th>\n",
       "      <th>price</th>\n",
       "    </tr>\n",
       "  </thead>\n",
       "  <tbody>\n",
       "    <tr>\n",
       "      <th>663358</th>\n",
       "      <td>0</td>\n",
       "      <td>alpha</td>\n",
       "      <td>0.000000</td>\n",
       "      <td>0</td>\n",
       "      <td>8739.0</td>\n",
       "    </tr>\n",
       "    <tr>\n",
       "      <th>9365869</th>\n",
       "      <td>4</td>\n",
       "      <td>beta</td>\n",
       "      <td>0.444444</td>\n",
       "      <td>0</td>\n",
       "      <td>10088.0</td>\n",
       "    </tr>\n",
       "    <tr>\n",
       "      <th>16973806</th>\n",
       "      <td>2</td>\n",
       "      <td>beta</td>\n",
       "      <td>0.444444</td>\n",
       "      <td>0</td>\n",
       "      <td>7350.0</td>\n",
       "    </tr>\n",
       "    <tr>\n",
       "      <th>6137708</th>\n",
       "      <td>12</td>\n",
       "      <td>beta</td>\n",
       "      <td>0.888889</td>\n",
       "      <td>0</td>\n",
       "      <td>9684.0</td>\n",
       "    </tr>\n",
       "    <tr>\n",
       "      <th>17636152</th>\n",
       "      <td>17</td>\n",
       "      <td>gamma</td>\n",
       "      <td>0.444444</td>\n",
       "      <td>1</td>\n",
       "      <td>7765.0</td>\n",
       "    </tr>\n",
       "  </tbody>\n",
       "</table>\n",
       "</div>"
      ],
      "text/plain": [
       "          purchase_days_before_daprture airline  baggage_weight  \\\n",
       "663358                                0   alpha        0.000000   \n",
       "9365869                               4    beta        0.444444   \n",
       "16973806                              2    beta        0.444444   \n",
       "6137708                              12    beta        0.888889   \n",
       "17636152                             17   gamma        0.444444   \n",
       "\n",
       "          baggage_pieces    price  \n",
       "663358                 0   8739.0  \n",
       "9365869                0  10088.0  \n",
       "16973806               0   7350.0  \n",
       "6137708                0   9684.0  \n",
       "17636152               1   7765.0  "
      ]
     },
     "execution_count": 13,
     "metadata": {},
     "output_type": "execute_result"
    }
   ],
   "source": [
    "thon= samp[['purchase_days_before_daprture','airline','baggage_weight','baggage_pieces','price']]\n",
    "thon.head()"
   ]
  },
  {
   "cell_type": "code",
   "execution_count": 14,
   "metadata": {},
   "outputs": [],
   "source": [
    "thon.to_csv('Sample.csv',index=False)"
   ]
  },
  {
   "cell_type": "code",
   "execution_count": null,
   "metadata": {},
   "outputs": [
    {
     "data": {
      "text/plain": [
       "<AxesSubplot:xlabel='purchase_days_before_daprture', ylabel='Count'>"
      ]
     },
     "execution_count": 67,
     "metadata": {},
     "output_type": "execute_result"
    },
    {
     "data": {
      "image/png": "[encoded data removed]",
      "text/plain": [
       "<Figure size 432x288 with 1 Axes>"
      ]
     },
     "metadata": {
      "needs_background": "light"
     },
     "output_type": "display_data"
    }
   ],
   "source": [
    "# Histogram test\n",
    "sns.histplot(thon['purchase_days_before_daprture'])"
   ]
  },
  {
   "cell_type": "code",
   "execution_count": null,
   "metadata": {},
   "outputs": [
    {
     "data": {
      "text/plain": [
       "<AxesSubplot:xlabel='airline', ylabel='Count'>"
      ]
     },
     "execution_count": 68,
     "metadata": {},
     "output_type": "execute_result"
    },
    {
     "data": {
      "image/png": "[encoded data removed]",
      "text/plain": [
       "<Figure size 432x288 with 1 Axes>"
      ]
     },
     "metadata": {
      "needs_background": "light"
     },
     "output_type": "display_data"
    }
   ],
   "source": [
    "# Histogram test\n",
    "sns.histplot(thon['airline'])"
   ]
  },
  {
   "cell_type": "code",
   "execution_count": null,
   "metadata": {},
   "outputs": [
    {
     "data": {
      "text/plain": [
       "<AxesSubplot:xlabel='baggage_weight', ylabel='Count'>"
      ]
     },
     "execution_count": 69,
     "metadata": {},
     "output_type": "execute_result"
    },
    {
     "data": {
      "image/png": "[encoded data removed]",
      "text/plain": [
       "<Figure size 432x288 with 1 Axes>"
      ]
     },
     "metadata": {
      "needs_background": "light"
     },
     "output_type": "display_data"
    }
   ],
   "source": [
    "# Histogram test\n",
    "sns.histplot(thon['baggage_weight'])"
   ]
  },
  {
   "cell_type": "code",
   "execution_count": null,
   "metadata": {},
   "outputs": [
    {
     "data": {
      "text/plain": [
       "<AxesSubplot:xlabel='baggage_pieces', ylabel='Count'>"
      ]
     },
     "execution_count": 70,
     "metadata": {},
     "output_type": "execute_result"
    },
    {
     "data": {
      "image/png": "[encoded data removed]",
      "text/plain": [
       "<Figure size 432x288 with 1 Axes>"
      ]
     },
     "metadata": {
      "needs_background": "light"
     },
     "output_type": "display_data"
    }
   ],
   "source": [
    "# Histogram test\n",
    "sns.histplot(thon['baggage_pieces'])"
   ]
  },
  {
   "cell_type": "code",
   "execution_count": null,
   "metadata": {},
   "outputs": [
    {
     "data": {
      "text/plain": [
       "<AxesSubplot:xlabel='price', ylabel='Count'>"
      ]
     },
     "execution_count": 71,
     "metadata": {},
     "output_type": "execute_result"
    },
    {
     "data": {
      "image/png": "[encoded data removed]",
      "text/plain": [
       "<Figure size 432x288 with 1 Axes>"
      ]
     },
     "metadata": {
      "needs_background": "light"
     },
     "output_type": "display_data"
    }
   ],
   "source": [
    "# Histogram test\n",
    "sns.histplot(thon['price'])"
   ]
  },
  {
   "cell_type": "code",
   "execution_count": null,
   "metadata": {},
   "outputs": [
    {
     "data": {
      "image/png": "[encoded data removed]",
      "text/plain": [
       "<Figure size 432x288 with 1 Axes>"
      ]
     },
     "execution_count": 72,
     "metadata": {},
     "output_type": "execute_result"
    },
    {
     "data": {
      "image/png": "[encoded data removed]",
      "text/plain": [
       "<Figure size 432x288 with 1 Axes>"
      ]
     },
     "metadata": {
      "needs_background": "light"
     },
     "output_type": "display_data"
    }
   ],
   "source": [
    "\n",
    "\n",
    "from statsmodels.graphics.gofplots import qqplot\n",
    "qqplot(thon['price'])"
   ]
  },
  {
   "cell_type": "markdown",
   "metadata": {},
   "source": [
    "# Ammar bhai is me agr hm first kuch rows ko remove krain to ya normal hojya ga price ?"
   ]
  },
  {
   "cell_type": "code",
   "execution_count": null,
   "metadata": {},
   "outputs": [
    {
     "data": {
      "image/png": "[encoded data removed]",
      "text/plain": [
       "<Figure size 432x288 with 1 Axes>"
      ]
     },
     "execution_count": 73,
     "metadata": {},
     "output_type": "execute_result"
    },
    {
     "data": {
      "image/png": "[encoded data removed]",
      "text/plain": [
       "<Figure size 432x288 with 1 Axes>"
      ]
     },
     "metadata": {
      "needs_background": "light"
     },
     "output_type": "display_data"
    }
   ],
   "source": [
    "qqplot(thon['purchase_days_before_daprture'])"
   ]
  },
  {
   "cell_type": "markdown",
   "metadata": {},
   "source": [
    "# Is say ek or chezz k pata chala k agr hmri number of values > 5000 ho to maybe possible hai k p-value accurate na aya. "
   ]
  },
  {
   "cell_type": "code",
   "execution_count": null,
   "metadata": {},
   "outputs": [
    {
     "name": "stdout",
     "output_type": "stream",
     "text": [
      "Stats =  0.7644489407539368\n",
      "P_value =  0.0\n",
      "Data is probabily not Guassian\n"
     ]
    },
    {
     "name": "stderr",
     "output_type": "stream",
     "text": [
      "C:\\Users\\Sartaj\\anaconda3\\lib\\site-packages\\scipy\\stats\\morestats.py:1760: UserWarning: p-value may not be accurate for N > 5000.\n",
      "  warnings.warn(\"p-value may not be accurate for N > 5000.\")\n"
     ]
    }
   ],
   "source": [
    "# Shapiro wilk test \n",
    "from scipy.stats import shapiro\n",
    "stats , p_value = shapiro(thon['price'])\n",
    "print(\"Stats = \",stats)\n",
    "print(\"P_value = \", p_value)\n",
    "if p_value > 0.5:\n",
    "    print(\"Data is probabily normal or Guassian\")\n",
    "else:\n",
    "    print(\"Data is probabily not Guassian\")"
   ]
  },
  {
   "cell_type": "markdown",
   "metadata": {},
   "source": [
    "# Answer of the question asked by Ammar bhai When to use D Agostino's test is :\n",
    "If the data contains repeated values it is recommended to use Agostino's test otherwise mostly used test shapiro wilk test is recommended. "
   ]
  },
  {
   "cell_type": "code",
   "execution_count": null,
   "metadata": {},
   "outputs": [
    {
     "name": "stdout",
     "output_type": "stream",
     "text": [
      "Stats =  10071130.773025015\n",
      "P_value =  0.0\n",
      "Data is probabily not Guassian\n"
     ]
    }
   ],
   "source": [
    "# D Agostino's K-squared test \n",
    "from scipy.stats import normaltest\n",
    "stats , p_value = normaltest(thon['price'])\n",
    "print(\"Stats = \",stats)\n",
    "print(\"P_value = \", p_value)\n",
    "if p_value > 0.5:\n",
    "    print(\"Data is probabily normal or Guassian\")\n",
    "else:\n",
    "    print(\"Data is probabily not Guassian\")"
   ]
  },
  {
   "cell_type": "code",
   "execution_count": null,
   "metadata": {},
   "outputs": [
    {
     "name": "stdout",
     "output_type": "stream",
     "text": [
      "Stats =  0.6838458180427551\n",
      "P_value =  0.0\n",
      "Data is probabily not Guassian\n"
     ]
    }
   ],
   "source": [
    "# Shapiro wilk test for purchase_days_before_daprture\n",
    "from scipy.stats import shapiro\n",
    "stats , p_value = shapiro(thon['purchase_days_before_daprture'])\n",
    "print(\"Stats = \",stats)\n",
    "print(\"P_value = \", p_value)\n",
    "if p_value > 0.5:\n",
    "    print(\"Data is probabily normal or Guassian\")\n",
    "else:\n",
    "    print(\"Data is probabily not Guassian\")"
   ]
  },
  {
   "cell_type": "code",
   "execution_count": null,
   "metadata": {},
   "outputs": [
    {
     "name": "stdout",
     "output_type": "stream",
     "text": [
      "Stats =  17590790.676418208\n",
      "P_value =  0.0\n",
      "Data is probabily not Guassian\n"
     ]
    }
   ],
   "source": [
    "# D Agostino's K-squared test purchase_days_before_daprture\n",
    "from scipy.stats import normaltest\n",
    "stats , p_value = normaltest(thon['purchase_days_before_daprture'])\n",
    "print(\"Stats = \",stats)\n",
    "print(\"P_value = \", p_value)\n",
    "if p_value > 0.5:\n",
    "    print(\"Data is probabily normal or Guassian\")\n",
    "else:\n",
    "    print(\"Data is probabily not Guassian\")"
   ]
  },
  {
   "cell_type": "markdown",
   "metadata": {},
   "source": [
    "# Anderson-Darling test"
   ]
  },
  {
   "cell_type": "code",
   "execution_count": null,
   "metadata": {},
   "outputs": [
    {
     "name": "stdout",
     "output_type": "stream",
     "text": [
      "Statistic: 872668.221\n",
      "15.000: 0.576, data does not look normal (reject H0)\n",
      "10.000: 0.656, data does not look normal (reject H0)\n",
      "5.000: 0.787, data does not look normal (reject H0)\n",
      "2.500: 0.918, data does not look normal (reject H0)\n",
      "1.000: 1.092, data does not look normal (reject H0)\n"
     ]
    }
   ],
   "source": [
    "from scipy.stats import anderson\n",
    "\n",
    "result = (anderson(thon['price'], dist='norm'))\n",
    "print('Statistic: %.3f' % result.statistic)\n",
    "for i in range(len(result.critical_values)):\n",
    "\tsl, cv = result.significance_level[i], result.critical_values[i]\n",
    "\tif result.statistic < result.critical_values[i]:\n",
    "\t\tprint('%.3f: %.3f, data looks normal (fail to reject H0)' % (sl, cv))\n",
    "\telse:\n",
    "\t\tprint('%.3f: %.3f, data does not look normal (reject H0)' % (sl, cv))"
   ]
  },
  {
   "cell_type": "code",
   "execution_count": null,
   "metadata": {},
   "outputs": [
    {
     "name": "stdout",
     "output_type": "stream",
     "text": [
      "A-D statistic: 1629886.5941748247\n",
      "Critical values: [0.576 0.656 0.787 0.918 1.092]\n",
      "Significance levels: [15.  10.   5.   2.5  1. ]\n"
     ]
    }
   ],
   "source": [
    "from scipy.stats import anderson\n",
    "\n",
    "result = (anderson(thon['purchase_days_before_daprture'], dist='norm'))\n",
    "\n",
    "print(f\"A-D statistic: {result[0]}\")\n",
    "print(f\"Critical values: {result[1]}\")\n",
    "print(f\"Significance levels: {result[2]}\")"
   ]
  }
 ],
 "metadata": {
  "interpreter": {
   "hash": "817f1ba0195712779ad5d99967d55ae34875801f1a94220a74740ecbc8a747ee"
  },
  "kernelspec": {
   "display_name": "Python 3.9.7 ('base')",
   "language": "python",
   "name": "python3"
  },
  "language_info": {
   "codemirror_mode": {
    "name": "ipython",
    "version": 3
   },
   "file_extension": ".py",
   "mimetype": "text/x-python",
   "name": "python",
   "nbconvert_exporter": "python",
   "pygments_lexer": "ipython3",
   "version": "3.9.7"
  },
  "orig_nbformat": 4
 },
 "nbformat": 4,
 "nbformat_minor": 2
}
