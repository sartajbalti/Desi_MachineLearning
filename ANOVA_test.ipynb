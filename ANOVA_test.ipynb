{
 "cells": [
  {
   "cell_type": "markdown",
   "metadata": {},
   "source": [
    "<h1 align=\"center\" style=\"font-family:courier; background-color:powderblue;\"> Student Name : Sartaj Ahmed Salman  </h1> \n",
    "<h2 align=\"center\" style=\"background-color:lightgray;\"> Email: s2140019@edu.cc.uec.ac.jp  </h2>                              \n",
    "<h3 align=\"center\" style=\"background-color:lightgray;\" >Phd Student At UEC Tokyo, Japan</h3> \n",
    "\n",
    "<h2 align=\"center\" style=\"font-family:courier; background-color:powderblue;\"> Address:    From Skardu, Pakistan </h2> "
   ]
  },
  {
   "cell_type": "markdown",
   "metadata": {},
   "source": [
    "# ANOVA \n",
    "Analysis of Variance\n",
    "\n"
   ]
  },
  {
   "cell_type": "code",
   "execution_count": 2,
   "metadata": {},
   "outputs": [],
   "source": [
    "# Import Libraries \n",
    "import pandas as pd \n",
    "import numpy as np \n",
    "import matplotlib.pyplot as plt \n",
    "import seaborn as sns\n"
   ]
  },
  {
   "cell_type": "code",
   "execution_count": 3,
   "metadata": {},
   "outputs": [
    {
     "data": {
      "text/html": [
       "<div>\n",
       "<style scoped>\n",
       "    .dataframe tbody tr th:only-of-type {\n",
       "        vertical-align: middle;\n",
       "    }\n",
       "\n",
       "    .dataframe tbody tr th {\n",
       "        vertical-align: top;\n",
       "    }\n",
       "\n",
       "    .dataframe thead th {\n",
       "        text-align: right;\n",
       "    }\n",
       "</style>\n",
       "<table border=\"1\" class=\"dataframe\">\n",
       "  <thead>\n",
       "    <tr style=\"text-align: right;\">\n",
       "      <th></th>\n",
       "      <th>purchase_days_before_daprture</th>\n",
       "      <th>airline</th>\n",
       "      <th>baggage_weight</th>\n",
       "      <th>baggage_pieces</th>\n",
       "      <th>price</th>\n",
       "    </tr>\n",
       "  </thead>\n",
       "  <tbody>\n",
       "    <tr>\n",
       "      <th>0</th>\n",
       "      <td>0</td>\n",
       "      <td>alpha</td>\n",
       "      <td>0.000000</td>\n",
       "      <td>0</td>\n",
       "      <td>8739.0</td>\n",
       "    </tr>\n",
       "    <tr>\n",
       "      <th>1</th>\n",
       "      <td>4</td>\n",
       "      <td>beta</td>\n",
       "      <td>0.444444</td>\n",
       "      <td>0</td>\n",
       "      <td>10088.0</td>\n",
       "    </tr>\n",
       "    <tr>\n",
       "      <th>2</th>\n",
       "      <td>2</td>\n",
       "      <td>beta</td>\n",
       "      <td>0.444444</td>\n",
       "      <td>0</td>\n",
       "      <td>7350.0</td>\n",
       "    </tr>\n",
       "    <tr>\n",
       "      <th>3</th>\n",
       "      <td>12</td>\n",
       "      <td>beta</td>\n",
       "      <td>0.888889</td>\n",
       "      <td>0</td>\n",
       "      <td>9684.0</td>\n",
       "    </tr>\n",
       "    <tr>\n",
       "      <th>4</th>\n",
       "      <td>17</td>\n",
       "      <td>gamma</td>\n",
       "      <td>0.444444</td>\n",
       "      <td>1</td>\n",
       "      <td>7765.0</td>\n",
       "    </tr>\n",
       "  </tbody>\n",
       "</table>\n",
       "</div>"
      ],
      "text/plain": [
       "   purchase_days_before_daprture airline  baggage_weight  baggage_pieces  \\\n",
       "0                              0   alpha        0.000000               0   \n",
       "1                              4    beta        0.444444               0   \n",
       "2                              2    beta        0.444444               0   \n",
       "3                             12    beta        0.888889               0   \n",
       "4                             17   gamma        0.444444               1   \n",
       "\n",
       "     price  \n",
       "0   8739.0  \n",
       "1  10088.0  \n",
       "2   7350.0  \n",
       "3   9684.0  \n",
       "4   7765.0  "
      ]
     },
     "execution_count": 3,
     "metadata": {},
     "output_type": "execute_result"
    }
   ],
   "source": [
    "# Data thon k jo data tha us me sy 30000 sample lea hain taki as a real dataset is pay kam kr skain \n",
    "data = pd.read_csv('Sample.csv')\n",
    "data.head()"
   ]
  },
  {
   "cell_type": "code",
   "execution_count": 4,
   "metadata": {},
   "outputs": [
    {
     "name": "stderr",
     "output_type": "stream",
     "text": [
      "C:\\Users\\Sartaj\\anaconda3\\lib\\site-packages\\seaborn\\_decorators.py:36: FutureWarning: Pass the following variables as keyword args: x, y. From version 0.12, the only valid positional argument will be `data`, and passing other arguments without an explicit keyword will result in an error or misinterpretation.\n",
      "  warnings.warn(\n"
     ]
    },
    {
     "data": {
      "text/plain": [
       "<AxesSubplot:xlabel='airline', ylabel='price'>"
      ]
     },
     "execution_count": 4,
     "metadata": {},
     "output_type": "execute_result"
    },
    {
     "data": {
      "image/png": "[encoded data removed]",
      "text/plain": [
       "<Figure size 432x288 with 1 Axes>"
      ]
     },
     "metadata": {
      "needs_background": "light"
     },
     "output_type": "display_data"
    }
   ],
   "source": [
    "sns.boxplot('airline', 'price', data = data) # Comparison between categorical classes "
   ]
  },
  {
   "cell_type": "code",
   "execution_count": 5,
   "metadata": {},
   "outputs": [
    {
     "data": {
      "text/html": [
       "<div>\n",
       "<style scoped>\n",
       "    .dataframe tbody tr th:only-of-type {\n",
       "        vertical-align: middle;\n",
       "    }\n",
       "\n",
       "    .dataframe tbody tr th {\n",
       "        vertical-align: top;\n",
       "    }\n",
       "\n",
       "    .dataframe thead th {\n",
       "        text-align: right;\n",
       "    }\n",
       "</style>\n",
       "<table border=\"1\" class=\"dataframe\">\n",
       "  <thead>\n",
       "    <tr style=\"text-align: right;\">\n",
       "      <th></th>\n",
       "      <th>purchase_days_before_daprture</th>\n",
       "      <th>baggage_weight</th>\n",
       "      <th>baggage_pieces</th>\n",
       "      <th>price</th>\n",
       "    </tr>\n",
       "  </thead>\n",
       "  <tbody>\n",
       "    <tr>\n",
       "      <th>count</th>\n",
       "      <td>30000.000000</td>\n",
       "      <td>30000.000000</td>\n",
       "      <td>30000.000000</td>\n",
       "      <td>30000.000000</td>\n",
       "    </tr>\n",
       "    <tr>\n",
       "      <th>mean</th>\n",
       "      <td>15.589133</td>\n",
       "      <td>0.505014</td>\n",
       "      <td>0.947567</td>\n",
       "      <td>10148.610833</td>\n",
       "    </tr>\n",
       "    <tr>\n",
       "      <th>std</th>\n",
       "      <td>18.949462</td>\n",
       "      <td>0.197538</td>\n",
       "      <td>0.605444</td>\n",
       "      <td>3455.986201</td>\n",
       "    </tr>\n",
       "    <tr>\n",
       "      <th>min</th>\n",
       "      <td>0.000000</td>\n",
       "      <td>0.000000</td>\n",
       "      <td>0.000000</td>\n",
       "      <td>1000.000000</td>\n",
       "    </tr>\n",
       "    <tr>\n",
       "      <th>25%</th>\n",
       "      <td>4.000000</td>\n",
       "      <td>0.444444</td>\n",
       "      <td>1.000000</td>\n",
       "      <td>7796.000000</td>\n",
       "    </tr>\n",
       "    <tr>\n",
       "      <th>50%</th>\n",
       "      <td>10.000000</td>\n",
       "      <td>0.444444</td>\n",
       "      <td>1.000000</td>\n",
       "      <td>9403.000000</td>\n",
       "    </tr>\n",
       "    <tr>\n",
       "      <th>75%</th>\n",
       "      <td>20.000000</td>\n",
       "      <td>0.711111</td>\n",
       "      <td>1.000000</td>\n",
       "      <td>11245.000000</td>\n",
       "    </tr>\n",
       "    <tr>\n",
       "      <th>max</th>\n",
       "      <td>279.000000</td>\n",
       "      <td>1.000000</td>\n",
       "      <td>2.000000</td>\n",
       "      <td>35000.000000</td>\n",
       "    </tr>\n",
       "  </tbody>\n",
       "</table>\n",
       "</div>"
      ],
      "text/plain": [
       "       purchase_days_before_daprture  baggage_weight  baggage_pieces  \\\n",
       "count                   30000.000000    30000.000000    30000.000000   \n",
       "mean                       15.589133        0.505014        0.947567   \n",
       "std                        18.949462        0.197538        0.605444   \n",
       "min                         0.000000        0.000000        0.000000   \n",
       "25%                         4.000000        0.444444        1.000000   \n",
       "50%                        10.000000        0.444444        1.000000   \n",
       "75%                        20.000000        0.711111        1.000000   \n",
       "max                       279.000000        1.000000        2.000000   \n",
       "\n",
       "              price  \n",
       "count  30000.000000  \n",
       "mean   10148.610833  \n",
       "std     3455.986201  \n",
       "min     1000.000000  \n",
       "25%     7796.000000  \n",
       "50%     9403.000000  \n",
       "75%    11245.000000  \n",
       "max    35000.000000  "
      ]
     },
     "execution_count": 5,
     "metadata": {},
     "output_type": "execute_result"
    }
   ],
   "source": [
    "data.describe()"
   ]
  },
  {
   "cell_type": "code",
   "execution_count": 6,
   "metadata": {},
   "outputs": [],
   "source": [
    "# Stats \n",
    "import statsmodels.api as sm \n",
    "from statsmodels.formula.api import ols\n"
   ]
  },
  {
   "cell_type": "code",
   "execution_count": 7,
   "metadata": {},
   "outputs": [],
   "source": [
    "# One Way ANOVA \n",
    "mod = ols('price ~ airline', data = data).fit()"
   ]
  },
  {
   "cell_type": "markdown",
   "metadata": {},
   "source": [
    "### Anova test k 3 types hain 1,2,3 so is me jo type likhty hain hm wo anova k type ko zahir krta hai k kis type ko use krna hai hm ny or ya sum of squares ko count krny k different ways hain ."
   ]
  },
  {
   "cell_type": "code",
   "execution_count": 8,
   "metadata": {},
   "outputs": [
    {
     "name": "stdout",
     "output_type": "stream",
     "text": [
      "               df        sum_sq       mean_sq          F        PR(>F)\n",
      "airline       3.0  2.134842e+09  7.116141e+08  59.931129  1.274495e-38\n",
      "Residual  29996.0  3.561684e+11  1.187386e+07        NaN           NaN\n"
     ]
    }
   ],
   "source": [
    "aov_table = sm.stats.anova_lm(mod, type=2)\n",
    "print(aov_table)"
   ]
  },
  {
   "cell_type": "code",
   "execution_count": 9,
   "metadata": {},
   "outputs": [
    {
     "data": {
      "text/html": [
       "<div>\n",
       "<style scoped>\n",
       "    .dataframe tbody tr th:only-of-type {\n",
       "        vertical-align: middle;\n",
       "    }\n",
       "\n",
       "    .dataframe tbody tr th {\n",
       "        vertical-align: top;\n",
       "    }\n",
       "\n",
       "    .dataframe thead th {\n",
       "        text-align: right;\n",
       "    }\n",
       "</style>\n",
       "<table border=\"1\" class=\"dataframe\">\n",
       "  <thead>\n",
       "    <tr style=\"text-align: right;\">\n",
       "      <th></th>\n",
       "      <th>coef</th>\n",
       "      <th>std err</th>\n",
       "      <th>t</th>\n",
       "      <th>P&gt;|t|</th>\n",
       "      <th>Conf. Int. Low</th>\n",
       "      <th>Conf. Int. Upp.</th>\n",
       "      <th>pvalue-bonferroni</th>\n",
       "      <th>reject-bonferroni</th>\n",
       "    </tr>\n",
       "  </thead>\n",
       "  <tbody>\n",
       "    <tr>\n",
       "      <th>beta-alpha</th>\n",
       "      <td>-504.093699</td>\n",
       "      <td>55.248662</td>\n",
       "      <td>-9.124089</td>\n",
       "      <td>7.674131e-20</td>\n",
       "      <td>-612.383456</td>\n",
       "      <td>-395.803942</td>\n",
       "      <td>4.604478e-19</td>\n",
       "      <td>True</td>\n",
       "    </tr>\n",
       "    <tr>\n",
       "      <th>gamma-alpha</th>\n",
       "      <td>264.595854</td>\n",
       "      <td>45.223074</td>\n",
       "      <td>5.850904</td>\n",
       "      <td>4.939824e-09</td>\n",
       "      <td>175.956681</td>\n",
       "      <td>353.235027</td>\n",
       "      <td>2.963894e-08</td>\n",
       "      <td>True</td>\n",
       "    </tr>\n",
       "    <tr>\n",
       "      <th>omega-alpha</th>\n",
       "      <td>-57.626088</td>\n",
       "      <td>116.863942</td>\n",
       "      <td>-0.493104</td>\n",
       "      <td>6.219427e-01</td>\n",
       "      <td>-286.684449</td>\n",
       "      <td>171.432273</td>\n",
       "      <td>1.000000e+00</td>\n",
       "      <td>False</td>\n",
       "    </tr>\n",
       "    <tr>\n",
       "      <th>gamma-beta</th>\n",
       "      <td>768.689553</td>\n",
       "      <td>57.366743</td>\n",
       "      <td>13.399568</td>\n",
       "      <td>7.971448e-41</td>\n",
       "      <td>656.248265</td>\n",
       "      <td>881.130840</td>\n",
       "      <td>4.782869e-40</td>\n",
       "      <td>True</td>\n",
       "    </tr>\n",
       "    <tr>\n",
       "      <th>omega-beta</th>\n",
       "      <td>446.467611</td>\n",
       "      <td>122.077835</td>\n",
       "      <td>3.657237</td>\n",
       "      <td>2.553843e-04</td>\n",
       "      <td>207.189796</td>\n",
       "      <td>685.745427</td>\n",
       "      <td>1.532306e-03</td>\n",
       "      <td>True</td>\n",
       "    </tr>\n",
       "    <tr>\n",
       "      <th>omega-gamma</th>\n",
       "      <td>-322.221942</td>\n",
       "      <td>117.880065</td>\n",
       "      <td>-2.733473</td>\n",
       "      <td>6.270705e-03</td>\n",
       "      <td>-553.271946</td>\n",
       "      <td>-91.171937</td>\n",
       "      <td>3.762423e-02</td>\n",
       "      <td>True</td>\n",
       "    </tr>\n",
       "  </tbody>\n",
       "</table>\n",
       "</div>"
      ],
      "text/plain": [
       "                   coef     std err          t         P>|t|  Conf. Int. Low  \\\n",
       "beta-alpha  -504.093699   55.248662  -9.124089  7.674131e-20     -612.383456   \n",
       "gamma-alpha  264.595854   45.223074   5.850904  4.939824e-09      175.956681   \n",
       "omega-alpha  -57.626088  116.863942  -0.493104  6.219427e-01     -286.684449   \n",
       "gamma-beta   768.689553   57.366743  13.399568  7.971448e-41      656.248265   \n",
       "omega-beta   446.467611  122.077835   3.657237  2.553843e-04      207.189796   \n",
       "omega-gamma -322.221942  117.880065  -2.733473  6.270705e-03     -553.271946   \n",
       "\n",
       "             Conf. Int. Upp.  pvalue-bonferroni  reject-bonferroni  \n",
       "beta-alpha       -395.803942       4.604478e-19               True  \n",
       "gamma-alpha       353.235027       2.963894e-08               True  \n",
       "omega-alpha       171.432273       1.000000e+00              False  \n",
       "gamma-beta        881.130840       4.782869e-40               True  \n",
       "omega-beta        685.745427       1.532306e-03               True  \n",
       "omega-gamma       -91.171937       3.762423e-02               True  "
      ]
     },
     "execution_count": 9,
     "metadata": {},
     "output_type": "execute_result"
    }
   ],
   "source": [
    "# Pair wise comparison \n",
    "pair_t = mod.t_test_pairwise('airline', method='bonferroni')\n",
    "pair_t.result_frame"
   ]
  },
  {
   "cell_type": "code",
   "execution_count": 10,
   "metadata": {},
   "outputs": [
    {
     "data": {
      "text/html": [
       "<div>\n",
       "<style scoped>\n",
       "    .dataframe tbody tr th:only-of-type {\n",
       "        vertical-align: middle;\n",
       "    }\n",
       "\n",
       "    .dataframe tbody tr th {\n",
       "        vertical-align: top;\n",
       "    }\n",
       "\n",
       "    .dataframe thead th {\n",
       "        text-align: right;\n",
       "    }\n",
       "</style>\n",
       "<table border=\"1\" class=\"dataframe\">\n",
       "  <thead>\n",
       "    <tr style=\"text-align: right;\">\n",
       "      <th></th>\n",
       "      <th>coef</th>\n",
       "      <th>std err</th>\n",
       "      <th>t</th>\n",
       "      <th>P&gt;|t|</th>\n",
       "      <th>Conf. Int. Low</th>\n",
       "      <th>Conf. Int. Upp.</th>\n",
       "      <th>pvalue-sidak</th>\n",
       "      <th>reject-sidak</th>\n",
       "    </tr>\n",
       "  </thead>\n",
       "  <tbody>\n",
       "    <tr>\n",
       "      <th>beta-alpha</th>\n",
       "      <td>-504.093699</td>\n",
       "      <td>55.248662</td>\n",
       "      <td>-9.124089</td>\n",
       "      <td>7.674131e-20</td>\n",
       "      <td>-612.383456</td>\n",
       "      <td>-395.803942</td>\n",
       "      <td>4.604478e-19</td>\n",
       "      <td>True</td>\n",
       "    </tr>\n",
       "    <tr>\n",
       "      <th>gamma-alpha</th>\n",
       "      <td>264.595854</td>\n",
       "      <td>45.223074</td>\n",
       "      <td>5.850904</td>\n",
       "      <td>4.939824e-09</td>\n",
       "      <td>175.956681</td>\n",
       "      <td>353.235027</td>\n",
       "      <td>2.963894e-08</td>\n",
       "      <td>True</td>\n",
       "    </tr>\n",
       "    <tr>\n",
       "      <th>omega-alpha</th>\n",
       "      <td>-57.626088</td>\n",
       "      <td>116.863942</td>\n",
       "      <td>-0.493104</td>\n",
       "      <td>6.219427e-01</td>\n",
       "      <td>-286.684449</td>\n",
       "      <td>171.432273</td>\n",
       "      <td>9.970802e-01</td>\n",
       "      <td>False</td>\n",
       "    </tr>\n",
       "    <tr>\n",
       "      <th>gamma-beta</th>\n",
       "      <td>768.689553</td>\n",
       "      <td>57.366743</td>\n",
       "      <td>13.399568</td>\n",
       "      <td>7.971448e-41</td>\n",
       "      <td>656.248265</td>\n",
       "      <td>881.130840</td>\n",
       "      <td>4.782869e-40</td>\n",
       "      <td>True</td>\n",
       "    </tr>\n",
       "    <tr>\n",
       "      <th>omega-beta</th>\n",
       "      <td>446.467611</td>\n",
       "      <td>122.077835</td>\n",
       "      <td>3.657237</td>\n",
       "      <td>2.553843e-04</td>\n",
       "      <td>207.189796</td>\n",
       "      <td>685.745427</td>\n",
       "      <td>1.531328e-03</td>\n",
       "      <td>True</td>\n",
       "    </tr>\n",
       "    <tr>\n",
       "      <th>omega-gamma</th>\n",
       "      <td>-322.221942</td>\n",
       "      <td>117.880065</td>\n",
       "      <td>-2.733473</td>\n",
       "      <td>6.270705e-03</td>\n",
       "      <td>-553.271946</td>\n",
       "      <td>-91.171937</td>\n",
       "      <td>3.703931e-02</td>\n",
       "      <td>True</td>\n",
       "    </tr>\n",
       "  </tbody>\n",
       "</table>\n",
       "</div>"
      ],
      "text/plain": [
       "                   coef     std err          t         P>|t|  Conf. Int. Low  \\\n",
       "beta-alpha  -504.093699   55.248662  -9.124089  7.674131e-20     -612.383456   \n",
       "gamma-alpha  264.595854   45.223074   5.850904  4.939824e-09      175.956681   \n",
       "omega-alpha  -57.626088  116.863942  -0.493104  6.219427e-01     -286.684449   \n",
       "gamma-beta   768.689553   57.366743  13.399568  7.971448e-41      656.248265   \n",
       "omega-beta   446.467611  122.077835   3.657237  2.553843e-04      207.189796   \n",
       "omega-gamma -322.221942  117.880065  -2.733473  6.270705e-03     -553.271946   \n",
       "\n",
       "             Conf. Int. Upp.  pvalue-sidak  reject-sidak  \n",
       "beta-alpha       -395.803942  4.604478e-19          True  \n",
       "gamma-alpha       353.235027  2.963894e-08          True  \n",
       "omega-alpha       171.432273  9.970802e-01         False  \n",
       "gamma-beta        881.130840  4.782869e-40          True  \n",
       "omega-beta        685.745427  1.531328e-03          True  \n",
       "omega-gamma       -91.171937  3.703931e-02          True  "
      ]
     },
     "execution_count": 10,
     "metadata": {},
     "output_type": "execute_result"
    }
   ],
   "source": [
    "# Pair wise comparison \n",
    "pair_t = mod.t_test_pairwise('airline', method='sidak')\n",
    "pair_t.result_frame"
   ]
  },
  {
   "cell_type": "code",
   "execution_count": 11,
   "metadata": {},
   "outputs": [
    {
     "name": "stdout",
     "output_type": "stream",
     "text": [
      "    Source            SS     DF            MS          F         p-unc  \\\n",
      "0  airline  2.134842e+09      3  7.116141e+08  59.931129  1.274495e-38   \n",
      "1   Within  3.561684e+11  29996  1.187386e+07        NaN           NaN   \n",
      "\n",
      "        np2  \n",
      "0  0.005958  \n",
      "1       NaN  \n"
     ]
    }
   ],
   "source": [
    "# Tucky HSD test \n",
    "import pingouin as pg \n",
    "# First calculate anova table \n",
    "aov = pg.anova(data = data , dv = 'price', between='airline', detailed=True)\n",
    "print(aov)"
   ]
  },
  {
   "cell_type": "code",
   "execution_count": 12,
   "metadata": {},
   "outputs": [
    {
     "name": "stdout",
     "output_type": "stream",
     "text": [
      "       A      B       mean(A)       mean(B)        diff          se  \\\n",
      "0  alpha   beta  10151.518676   9647.424977  504.093699   55.248662   \n",
      "1  alpha  gamma  10151.518676  10416.114530 -264.595854   45.223074   \n",
      "2  alpha  omega  10151.518676  10093.892589   57.626088  116.863942   \n",
      "3   beta  gamma   9647.424977  10416.114530 -768.689553   57.366743   \n",
      "4   beta  omega   9647.424977  10093.892589 -446.467611  122.077835   \n",
      "5  gamma  omega  10416.114530  10093.892589  322.221942  117.880065   \n",
      "\n",
      "           T       p-tukey    hedges  \n",
      "0   9.124089  8.140155e-12  0.146284  \n",
      "1  -5.850904  2.961488e-08 -0.076784  \n",
      "2   0.493104  9.606526e-01  0.016722  \n",
      "3 -13.399568  8.140155e-12 -0.223067  \n",
      "4  -3.657237  1.457173e-03 -0.129552  \n",
      "5   2.733473  3.184140e-02  0.093504  \n"
     ]
    }
   ],
   "source": [
    "# Tuckey test \n",
    "pt = pg.pairwise_tukey(data = data , dv = 'price', between='airline')\n",
    "print(pt)"
   ]
  },
  {
   "cell_type": "code",
   "execution_count": 38,
   "metadata": {},
   "outputs": [],
   "source": [
    "pvalues =pt['p-tukey']\n",
    "formated_pvalues =[f'p={pvalue:.2e}' for pvalue in pvalues]"
   ]
  },
  {
   "cell_type": "code",
   "execution_count": 40,
   "metadata": {},
   "outputs": [
    {
     "data": {
      "text/plain": [
       "['p=8.14e-12',\n",
       " 'p=2.96e-08',\n",
       " 'p=9.61e-01',\n",
       " 'p=8.14e-12',\n",
       " 'p=1.46e-03',\n",
       " 'p=3.18e-02']"
      ]
     },
     "execution_count": 40,
     "metadata": {},
     "output_type": "execute_result"
    }
   ],
   "source": [
    "formated_pvalues"
   ]
  },
  {
   "cell_type": "code",
   "execution_count": 46,
   "metadata": {},
   "outputs": [],
   "source": [
    "from statannotations.Annotator import Annotator\n",
    "plotting_parameters = {\n",
    "    'data':    data,\n",
    "    'x':       'airline',\n",
    "    'y':       'price',\n",
    "    \n",
    "}\n",
    "\n",
    "pairs = [('alpha', 'beta'),\n",
    "         ('alpha', 'gamma'),\n",
    "         ('alpha', 'omega'),\n",
    "         ('beta', 'gamma'),\n",
    "         ('beta', 'omega'),\n",
    "         ('gamma', 'omega')]"
   ]
  },
  {
   "cell_type": "code",
   "execution_count": 47,
   "metadata": {},
   "outputs": [
    {
     "name": "stderr",
     "output_type": "stream",
     "text": [
      "C:\\Users\\Sartaj\\anaconda3\\lib\\site-packages\\seaborn\\_decorators.py:36: FutureWarning: Pass the following variables as keyword args: x, y. From version 0.12, the only valid positional argument will be `data`, and passing other arguments without an explicit keyword will result in an error or misinterpretation.\n",
      "  warnings.warn(\n"
     ]
    },
    {
     "name": "stdout",
     "output_type": "stream",
     "text": [
      "p-value annotation legend:\n",
      "      ns: p <= 1.00e+00\n",
      "       *: 1.00e-02 < p <= 5.00e-02\n",
      "      **: 1.00e-03 < p <= 1.00e-02\n",
      "     ***: 1.00e-04 < p <= 1.00e-03\n",
      "    ****: p <= 1.00e-04\n",
      "\n",
      "alpha vs. beta: p=8.14e-12\n",
      "beta vs. gamma: p=8.14e-12\n",
      "gamma vs. omega: p=3.18e-02\n",
      "alpha vs. gamma: p=2.96e-08\n",
      "beta vs. omega: p=1.46e-03\n",
      "alpha vs. omega: p=9.61e-01\n"
     ]
    },
    {
     "data": {
      "image/png": "[encoded data removed]",
      "text/plain": [
       "<Figure size 432x288 with 1 Axes>"
      ]
     },
     "metadata": {
      "needs_background": "light"
     },
     "output_type": "display_data"
    }
   ],
   "source": [
    "with sns.plotting_context('notebook', font_scale = 1.4):\n",
    "    # Create new plot\n",
    "    ax = sns.boxplot('airline', 'price', data = data)\n",
    "\n",
    "    # Plot with seaborn\n",
    "    sns.boxplot(**plotting_parameters)\n",
    "\n",
    "    # Add annotations\n",
    "    annotator = Annotator(ax, pairs, **plotting_parameters)\n",
    "    annotator.set_custom_annotations(formated_pvalues)\n",
    "    annotator.annotate()\n",
    "\n",
    "    # Label and show\n",
    "    \n",
    "    plt.show()"
   ]
  },
  {
   "cell_type": "code",
   "execution_count": 48,
   "metadata": {},
   "outputs": [
    {
     "name": "stderr",
     "output_type": "stream",
     "text": [
      "C:\\Users\\Sartaj\\anaconda3\\lib\\site-packages\\seaborn\\_decorators.py:36: FutureWarning: Pass the following variables as keyword args: x, y. From version 0.12, the only valid positional argument will be `data`, and passing other arguments without an explicit keyword will result in an error or misinterpretation.\n",
      "  warnings.warn(\n"
     ]
    },
    {
     "name": "stdout",
     "output_type": "stream",
     "text": [
      "p-value annotation legend:\n",
      "      ns: p <= 1.00e+00\n",
      "       *: 1.00e-02 < p <= 5.00e-02\n",
      "      **: 1.00e-03 < p <= 1.00e-02\n",
      "     ***: 1.00e-04 < p <= 1.00e-03\n",
      "    ****: p <= 1.00e-04\n",
      "\n",
      "alpha vs. beta: Custom statistical test, P_val:8.140e-12\n",
      "beta vs. gamma: Custom statistical test, P_val:8.140e-12\n",
      "gamma vs. omega: Custom statistical test, P_val:3.184e-02\n",
      "alpha vs. gamma: Custom statistical test, P_val:2.961e-08\n",
      "beta vs. omega: Custom statistical test, P_val:1.457e-03\n",
      "alpha vs. omega: Custom statistical test, P_val:9.607e-01\n"
     ]
    },
    {
     "data": {
      "image/png": "[encoded data removed]",
      "text/plain": [
       "<Figure size 432x288 with 1 Axes>"
      ]
     },
     "metadata": {
      "needs_background": "light"
     },
     "output_type": "display_data"
    }
   ],
   "source": [
    "with sns.plotting_context('notebook', font_scale = 1.4):\n",
    "    # Create new plot\n",
    "    ax = sns.boxplot('airline', 'price', data = data)\n",
    "\n",
    "    # Plot with seaborn\n",
    "    sns.boxplot(**plotting_parameters)\n",
    "\n",
    "    # Add annotations\n",
    "    annotator = Annotator(ax, pairs, **plotting_parameters)\n",
    "    annotator.set_pvalues(pvalues)\n",
    "    annotator.annotate()\n",
    "\n",
    "    # Label and show\n",
    "    \n",
    "    plt.show()"
   ]
  }
 ],
 "metadata": {
  "interpreter": {
   "hash": "817f1ba0195712779ad5d99967d55ae34875801f1a94220a74740ecbc8a747ee"
  },
  "kernelspec": {
   "display_name": "Python 3.9.7 ('base')",
   "language": "python",
   "name": "python3"
  },
  "language_info": {
   "codemirror_mode": {
    "name": "ipython",
    "version": 3
   },
   "file_extension": ".py",
   "mimetype": "text/x-python",
   "name": "python",
   "nbconvert_exporter": "python",
   "pygments_lexer": "ipython3",
   "version": "3.9.7"
  },
  "orig_nbformat": 4
 },
 "nbformat": 4,
 "nbformat_minor": 2
}
