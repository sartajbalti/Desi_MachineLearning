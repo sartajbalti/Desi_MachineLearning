{
 "cells": [
  {
   "cell_type": "markdown",
   "metadata": {},
   "source": [
    "<h1 align=\"center\" style=\"font-family:courier; background-color:powderblue;\"> Student Name : Sartaj Ahmed Salman  </h1> \n",
    "<h2 align=\"center\" style=\"background-color:lightgray;\"> Email: s2140019@edu.cc.uec.ac.jp  </h2>                              \n",
    "<h3 align=\"center\" style=\"background-color:lightgray;\" >Phd Student At UEC Tokyo, Japan</h3> \n",
    "\n",
    "<h2 align=\"center\" style=\"font-family:courier; background-color:powderblue;\"> Address:    From Skardu, Pakistan </h2> "
   ]
  },
  {
   "cell_type": "markdown",
   "metadata": {},
   "source": [
    "# Two Way ANOVA"
   ]
  },
  {
   "cell_type": "code",
   "execution_count": 31,
   "metadata": {},
   "outputs": [],
   "source": [
    "# Import Libraries \n",
    "import pandas as pd \n",
    "import numpy as np \n",
    "import matplotlib.pyplot as plt \n",
    "import seaborn as sns"
   ]
  },
  {
   "cell_type": "code",
   "execution_count": 32,
   "metadata": {},
   "outputs": [
    {
     "data": {
      "text/html": [
       "<div>\n",
       "<style scoped>\n",
       "    .dataframe tbody tr th:only-of-type {\n",
       "        vertical-align: middle;\n",
       "    }\n",
       "\n",
       "    .dataframe tbody tr th {\n",
       "        vertical-align: top;\n",
       "    }\n",
       "\n",
       "    .dataframe thead th {\n",
       "        text-align: right;\n",
       "    }\n",
       "</style>\n",
       "<table border=\"1\" class=\"dataframe\">\n",
       "  <thead>\n",
       "    <tr style=\"text-align: right;\">\n",
       "      <th></th>\n",
       "      <th>water</th>\n",
       "      <th>sun</th>\n",
       "      <th>height</th>\n",
       "    </tr>\n",
       "  </thead>\n",
       "  <tbody>\n",
       "    <tr>\n",
       "      <th>28</th>\n",
       "      <td>weekly</td>\n",
       "      <td>high</td>\n",
       "      <td>7</td>\n",
       "    </tr>\n",
       "    <tr>\n",
       "      <th>11</th>\n",
       "      <td>daily</td>\n",
       "      <td>high</td>\n",
       "      <td>6</td>\n",
       "    </tr>\n",
       "    <tr>\n",
       "      <th>14</th>\n",
       "      <td>daily</td>\n",
       "      <td>high</td>\n",
       "      <td>7</td>\n",
       "    </tr>\n",
       "    <tr>\n",
       "      <th>24</th>\n",
       "      <td>weekly</td>\n",
       "      <td>medium</td>\n",
       "      <td>4</td>\n",
       "    </tr>\n",
       "    <tr>\n",
       "      <th>15</th>\n",
       "      <td>weekly</td>\n",
       "      <td>low</td>\n",
       "      <td>3</td>\n",
       "    </tr>\n",
       "    <tr>\n",
       "      <th>22</th>\n",
       "      <td>weekly</td>\n",
       "      <td>medium</td>\n",
       "      <td>4</td>\n",
       "    </tr>\n",
       "    <tr>\n",
       "      <th>1</th>\n",
       "      <td>daily</td>\n",
       "      <td>low</td>\n",
       "      <td>6</td>\n",
       "    </tr>\n",
       "    <tr>\n",
       "      <th>7</th>\n",
       "      <td>daily</td>\n",
       "      <td>medium</td>\n",
       "      <td>6</td>\n",
       "    </tr>\n",
       "    <tr>\n",
       "      <th>12</th>\n",
       "      <td>daily</td>\n",
       "      <td>high</td>\n",
       "      <td>7</td>\n",
       "    </tr>\n",
       "    <tr>\n",
       "      <th>6</th>\n",
       "      <td>daily</td>\n",
       "      <td>medium</td>\n",
       "      <td>5</td>\n",
       "    </tr>\n",
       "  </tbody>\n",
       "</table>\n",
       "</div>"
      ],
      "text/plain": [
       "     water     sun  height\n",
       "28  weekly    high       7\n",
       "11   daily    high       6\n",
       "14   daily    high       7\n",
       "24  weekly  medium       4\n",
       "15  weekly     low       3\n",
       "22  weekly  medium       4\n",
       "1    daily     low       6\n",
       "7    daily  medium       6\n",
       "12   daily    high       7\n",
       "6    daily  medium       5"
      ]
     },
     "execution_count": 32,
     "metadata": {},
     "output_type": "execute_result"
    }
   ],
   "source": [
    "df = pd.DataFrame({'water': np.repeat([\"daily\",\"weekly\"],15),\n",
    "'sun': np.tile(np.repeat([\"low\",\"medium\",\"high\"],5),2),\n",
    "'height':[6, 6, 6, 5, 6, 5, 5, 6, 4, 5,\n",
    "                              6, 6, 7, 8, 7, 3, 4, 4, 4, 5,\n",
    "                              4, 4, 4, 4, 4, 5, 6, 6, 7, 8]})\n",
    "df.sample(10)"
   ]
  },
  {
   "cell_type": "code",
   "execution_count": 33,
   "metadata": {},
   "outputs": [
    {
     "name": "stderr",
     "output_type": "stream",
     "text": [
      "C:\\Users\\Sartaj\\anaconda3\\lib\\site-packages\\seaborn\\_decorators.py:36: FutureWarning: Pass the following variables as keyword args: x, y. From version 0.12, the only valid positional argument will be `data`, and passing other arguments without an explicit keyword will result in an error or misinterpretation.\n",
      "  warnings.warn(\n"
     ]
    },
    {
     "data": {
      "text/plain": [
       "<AxesSubplot:xlabel='sun', ylabel='height'>"
      ]
     },
     "execution_count": 33,
     "metadata": {},
     "output_type": "execute_result"
    },
    {
     "data": {
      "image/png": "[encoded data removed]",
      "text/plain": [
       "<Figure size 432x288 with 1 Axes>"
      ]
     },
     "metadata": {
      "needs_background": "light"
     },
     "output_type": "display_data"
    }
   ],
   "source": [
    "sns.boxplot(df['sun'],df['height'])"
   ]
  },
  {
   "cell_type": "code",
   "execution_count": 34,
   "metadata": {},
   "outputs": [
    {
     "name": "stderr",
     "output_type": "stream",
     "text": [
      "C:\\Users\\Sartaj\\anaconda3\\lib\\site-packages\\seaborn\\_decorators.py:36: FutureWarning: Pass the following variables as keyword args: x, y, hue. From version 0.12, the only valid positional argument will be `data`, and passing other arguments without an explicit keyword will result in an error or misinterpretation.\n",
      "  warnings.warn(\n"
     ]
    },
    {
     "data": {
      "text/plain": [
       "<AxesSubplot:xlabel='sun', ylabel='height'>"
      ]
     },
     "execution_count": 34,
     "metadata": {},
     "output_type": "execute_result"
    },
    {
     "data": {
      "image/png": "[encoded data removed]",
      "text/plain": [
       "<Figure size 432x288 with 1 Axes>"
      ]
     },
     "metadata": {
      "needs_background": "light"
     },
     "output_type": "display_data"
    }
   ],
   "source": [
    "sns.boxplot(df['sun'],df['height'],df['water'])"
   ]
  },
  {
   "cell_type": "code",
   "execution_count": 35,
   "metadata": {},
   "outputs": [
    {
     "data": {
      "text/html": [
       "<div>\n",
       "<style scoped>\n",
       "    .dataframe tbody tr th:only-of-type {\n",
       "        vertical-align: middle;\n",
       "    }\n",
       "\n",
       "    .dataframe tbody tr th {\n",
       "        vertical-align: top;\n",
       "    }\n",
       "\n",
       "    .dataframe thead th {\n",
       "        text-align: right;\n",
       "    }\n",
       "</style>\n",
       "<table border=\"1\" class=\"dataframe\">\n",
       "  <thead>\n",
       "    <tr style=\"text-align: right;\">\n",
       "      <th></th>\n",
       "      <th>df</th>\n",
       "      <th>sum_sq</th>\n",
       "      <th>mean_sq</th>\n",
       "      <th>F</th>\n",
       "      <th>PR(&gt;F)</th>\n",
       "    </tr>\n",
       "  </thead>\n",
       "  <tbody>\n",
       "    <tr>\n",
       "      <th>sun</th>\n",
       "      <td>2.0</td>\n",
       "      <td>24.866667</td>\n",
       "      <td>12.433333</td>\n",
       "      <td>14.105042</td>\n",
       "      <td>0.000064</td>\n",
       "    </tr>\n",
       "    <tr>\n",
       "      <th>Residual</th>\n",
       "      <td>27.0</td>\n",
       "      <td>23.800000</td>\n",
       "      <td>0.881481</td>\n",
       "      <td>NaN</td>\n",
       "      <td>NaN</td>\n",
       "    </tr>\n",
       "  </tbody>\n",
       "</table>\n",
       "</div>"
      ],
      "text/plain": [
       "            df     sum_sq    mean_sq          F    PR(>F)\n",
       "sun        2.0  24.866667  12.433333  14.105042  0.000064\n",
       "Residual  27.0  23.800000   0.881481        NaN       NaN"
      ]
     },
     "execution_count": 35,
     "metadata": {},
     "output_type": "execute_result"
    }
   ],
   "source": [
    "#Perform one way Anova\n",
    "import statsmodels.api as sm \n",
    "from statsmodels.formula.api import ols\n",
    "model = ols('height ~ sun', data = df).fit()\n",
    "sm.stats.anova_lm(model, type=2)\n"
   ]
  },
  {
   "cell_type": "code",
   "execution_count": 36,
   "metadata": {},
   "outputs": [
    {
     "name": "stdout",
     "output_type": "stream",
     "text": [
      "                   df     sum_sq    mean_sq        F    PR(>F)\n",
      "C(sun)            2.0  24.866667  12.433333  23.3125  0.000002\n",
      "C(water)          1.0   8.533333   8.533333  16.0000  0.000527\n",
      "C(sun):C(water)   2.0   2.466667   1.233333   2.3125  0.120667\n",
      "Residual         24.0  12.800000   0.533333      NaN       NaN\n"
     ]
    }
   ],
   "source": [
    "model = ols('height ~ C(sun)+C(water)+C(sun):C(water)', data = df).fit()\n",
    "table = sm.stats.anova_lm(model, type=2)\n",
    "print(table)"
   ]
  },
  {
   "cell_type": "code",
   "execution_count": 37,
   "metadata": {},
   "outputs": [
    {
     "name": "stdout",
     "output_type": "stream",
     "text": [
      "   group1  group2  Diff    Lower    Upper   q-value   p-value\n",
      "0     low  medium   0.4 -0.41546  1.21546  1.732051  0.452202\n",
      "1     low    high   1.7  0.88454  2.51546  7.361216  0.001000\n",
      "2  medium    high   2.1  1.28454  2.91546  9.093267  0.001000\n"
     ]
    }
   ],
   "source": [
    "# we will use bioinfokit (v1.0.3 or later) for performing tukey HSD test\n",
    "# check documentation here https://github.com/reneshbedre/bioinfokit\n",
    "from bioinfokit.analys import stat\n",
    "# perform multiple pairwise comparison (Tukey HSD)\n",
    "# unequal sample size data, tukey_hsd uses Tukey-Kramer test\n",
    "res = stat()\n",
    "# for main effect Sun\n",
    "res.tukey_hsd(df=df, res_var='height', xfac_var='sun', anova_model='height ~ C(sun)+C(water)+C(sun):C(water)')\n",
    "new=res.tukey_summary\n",
    "print(new)"
   ]
  },
  {
   "cell_type": "code",
   "execution_count": 38,
   "metadata": {},
   "outputs": [],
   "source": [
    "from statannotations.Annotator import Annotator\n",
    "plotting_parameters = {\n",
    "    'data':    df,\n",
    "    'x':       'sun',\n",
    "    'y':       'height',\n",
    "    \n",
    "}\n",
    "\n",
    "pairs = [('low', 'medium'),\n",
    "         ('low', 'high'),\n",
    "         ('medium', 'high')]"
   ]
  },
  {
   "cell_type": "code",
   "execution_count": 39,
   "metadata": {},
   "outputs": [],
   "source": [
    "pvalues =new['p-value']"
   ]
  },
  {
   "cell_type": "code",
   "execution_count": 40,
   "metadata": {},
   "outputs": [
    {
     "name": "stdout",
     "output_type": "stream",
     "text": [
      "p-value annotation legend:\n",
      "      ns: p <= 1.00e+00\n",
      "       *: 1.00e-02 < p <= 5.00e-02\n",
      "      **: 1.00e-03 < p <= 1.00e-02\n",
      "     ***: 1.00e-04 < p <= 1.00e-03\n",
      "    ****: p <= 1.00e-04\n",
      "\n",
      "low vs. medium: Custom statistical test, P_val:4.522e-01\n",
      "medium vs. high: Custom statistical test, P_val:1.000e-03\n",
      "low vs. high: Custom statistical test, P_val:1.000e-03\n"
     ]
    },
    {
     "name": "stderr",
     "output_type": "stream",
     "text": [
      "C:\\Users\\Sartaj\\anaconda3\\lib\\site-packages\\seaborn\\_decorators.py:36: FutureWarning: Pass the following variables as keyword args: x, y. From version 0.12, the only valid positional argument will be `data`, and passing other arguments without an explicit keyword will result in an error or misinterpretation.\n",
      "  warnings.warn(\n"
     ]
    },
    {
     "data": {
      "image/png": "[encoded data removed]",
      "text/plain": [
       "<Figure size 432x288 with 1 Axes>"
      ]
     },
     "metadata": {
      "needs_background": "light"
     },
     "output_type": "display_data"
    }
   ],
   "source": [
    "with sns.plotting_context('notebook', font_scale = 1.4):\n",
    "    # Create new plot\n",
    "    ax = sns.boxplot('sun', 'height', data = df)\n",
    "\n",
    "    # Plot with seaborn\n",
    "    sns.boxplot(**plotting_parameters)\n",
    "\n",
    "    # Add annotations\n",
    "    annotator = Annotator(ax, pairs, **plotting_parameters)\n",
    "    annotator.set_pvalues(pvalues)\n",
    "    annotator.annotate()\n",
    "\n",
    "    # Label and show\n",
    "    \n",
    "    plt.show()"
   ]
  },
  {
   "cell_type": "code",
   "execution_count": 41,
   "metadata": {},
   "outputs": [
    {
     "name": "stdout",
     "output_type": "stream",
     "text": [
      "  group1  group2      Diff     Lower    Upper   q-value  p-value\n",
      "0  daily  weekly  1.066667  0.516294  1.61704  5.656854    0.001\n"
     ]
    }
   ],
   "source": [
    "# for main effect Water\n",
    "res.tukey_hsd(df=df, res_var='height', xfac_var='water', anova_model='height ~ C(sun)+C(water)+C(sun):C(water)')\n",
    "new=res.tukey_summary\n",
    "print(new)"
   ]
  },
  {
   "cell_type": "code",
   "execution_count": 42,
   "metadata": {},
   "outputs": [],
   "source": [
    "from statannotations.Annotator import Annotator\n",
    "plotting_parameters = {\n",
    "    'data':    df,\n",
    "    'x':       'water',\n",
    "    'y':       'height',\n",
    "    \n",
    "}\n",
    "\n",
    "pairs = [('daily', 'weekly')]"
   ]
  },
  {
   "cell_type": "code",
   "execution_count": 43,
   "metadata": {},
   "outputs": [],
   "source": [
    "pvalues =new['p-value']"
   ]
  },
  {
   "cell_type": "code",
   "execution_count": 44,
   "metadata": {},
   "outputs": [
    {
     "name": "stdout",
     "output_type": "stream",
     "text": [
      "p-value annotation legend:\n",
      "      ns: p <= 1.00e+00\n",
      "       *: 1.00e-02 < p <= 5.00e-02\n",
      "      **: 1.00e-03 < p <= 1.00e-02\n",
      "     ***: 1.00e-04 < p <= 1.00e-03\n",
      "    ****: p <= 1.00e-04\n",
      "\n",
      "daily vs. weekly: Custom statistical test, P_val:1.000e-03\n"
     ]
    },
    {
     "name": "stderr",
     "output_type": "stream",
     "text": [
      "C:\\Users\\Sartaj\\anaconda3\\lib\\site-packages\\seaborn\\_decorators.py:36: FutureWarning: Pass the following variables as keyword args: x, y. From version 0.12, the only valid positional argument will be `data`, and passing other arguments without an explicit keyword will result in an error or misinterpretation.\n",
      "  warnings.warn(\n"
     ]
    },
    {
     "data": {
      "image/png": "[encoded data removed]",
      "text/plain": [
       "<Figure size 432x288 with 1 Axes>"
      ]
     },
     "metadata": {
      "needs_background": "light"
     },
     "output_type": "display_data"
    }
   ],
   "source": [
    "with sns.plotting_context('notebook', font_scale = 1.4):\n",
    "    # Create new plot\n",
    "    ax = sns.boxplot('water', 'height', data = df)\n",
    "\n",
    "    # Plot with seaborn\n",
    "    sns.boxplot(**plotting_parameters)\n",
    "\n",
    "    # Add annotations\n",
    "    annotator = Annotator(ax, pairs, **plotting_parameters)\n",
    "    annotator.set_pvalues(pvalues)\n",
    "    annotator.annotate()\n",
    "\n",
    "    # Label and show\n",
    "    \n",
    "    plt.show()"
   ]
  },
  {
   "cell_type": "code",
   "execution_count": 45,
   "metadata": {},
   "outputs": [
    {
     "name": "stdout",
     "output_type": "stream",
     "text": [
      "              group1            group2  Diff     Lower     Upper   q-value  \\\n",
      "0       (low, daily)     (low, weekly)   1.8  0.371833  3.228167  5.511352   \n",
      "1       (low, daily)   (medium, daily)   0.8 -0.628167  2.228167  2.449490   \n",
      "2       (low, daily)  (medium, weekly)   1.8  0.371833  3.228167  5.511352   \n",
      "3       (low, daily)     (high, daily)   1.0 -0.428167  2.428167  3.061862   \n",
      "4       (low, daily)    (high, weekly)   0.6 -0.828167  2.028167  1.837117   \n",
      "5      (low, weekly)   (medium, daily)   1.0 -0.428167  2.428167  3.061862   \n",
      "6      (low, weekly)  (medium, weekly)   0.0 -1.428167  1.428167  0.000000   \n",
      "7      (low, weekly)     (high, daily)   2.8  1.371833  4.228167  8.573214   \n",
      "8      (low, weekly)    (high, weekly)   2.4  0.971833  3.828167  7.348469   \n",
      "9    (medium, daily)  (medium, weekly)   1.0 -0.428167  2.428167  3.061862   \n",
      "10   (medium, daily)     (high, daily)   1.8  0.371833  3.228167  5.511352   \n",
      "11   (medium, daily)    (high, weekly)   1.4 -0.028167  2.828167  4.286607   \n",
      "12  (medium, weekly)     (high, daily)   2.8  1.371833  4.228167  8.573214   \n",
      "13  (medium, weekly)    (high, weekly)   2.4  0.971833  3.828167  7.348469   \n",
      "14     (high, daily)    (high, weekly)   0.4 -1.028167  1.828167  1.224745   \n",
      "\n",
      "     p-value  \n",
      "0   0.007933  \n",
      "1   0.522189  \n",
      "2   0.007933  \n",
      "3   0.289956  \n",
      "4   0.757578  \n",
      "5   0.289956  \n",
      "6   0.900000  \n",
      "7   0.001000  \n",
      "8   0.001000  \n",
      "9   0.289956  \n",
      "10  0.007933  \n",
      "11  0.057010  \n",
      "12  0.001000  \n",
      "13  0.001000  \n",
      "14  0.900000  \n"
     ]
    }
   ],
   "source": [
    "# for main effect Water and Sun\n",
    "res.tukey_hsd(df=df, res_var='height', xfac_var=['sun','water'], anova_model='height ~ C(sun)+C(water)+C(sun):C(water)')\n",
    "new = res.tukey_summary\n",
    "print(new)"
   ]
  },
  {
   "cell_type": "code",
   "execution_count": 46,
   "metadata": {},
   "outputs": [],
   "source": [
    "samp = new.sample(4)"
   ]
  },
  {
   "cell_type": "code",
   "execution_count": 47,
   "metadata": {},
   "outputs": [
    {
     "data": {
      "text/html": [
       "<div>\n",
       "<style scoped>\n",
       "    .dataframe tbody tr th:only-of-type {\n",
       "        vertical-align: middle;\n",
       "    }\n",
       "\n",
       "    .dataframe tbody tr th {\n",
       "        vertical-align: top;\n",
       "    }\n",
       "\n",
       "    .dataframe thead th {\n",
       "        text-align: right;\n",
       "    }\n",
       "</style>\n",
       "<table border=\"1\" class=\"dataframe\">\n",
       "  <thead>\n",
       "    <tr style=\"text-align: right;\">\n",
       "      <th></th>\n",
       "      <th>group1</th>\n",
       "      <th>group2</th>\n",
       "      <th>Diff</th>\n",
       "      <th>Lower</th>\n",
       "      <th>Upper</th>\n",
       "      <th>q-value</th>\n",
       "      <th>p-value</th>\n",
       "    </tr>\n",
       "  </thead>\n",
       "  <tbody>\n",
       "    <tr>\n",
       "      <th>8</th>\n",
       "      <td>(low, weekly)</td>\n",
       "      <td>(high, weekly)</td>\n",
       "      <td>2.4</td>\n",
       "      <td>0.971833</td>\n",
       "      <td>3.828167</td>\n",
       "      <td>7.348469</td>\n",
       "      <td>0.001000</td>\n",
       "    </tr>\n",
       "    <tr>\n",
       "      <th>1</th>\n",
       "      <td>(low, daily)</td>\n",
       "      <td>(medium, daily)</td>\n",
       "      <td>0.8</td>\n",
       "      <td>-0.628167</td>\n",
       "      <td>2.228167</td>\n",
       "      <td>2.449490</td>\n",
       "      <td>0.522189</td>\n",
       "    </tr>\n",
       "    <tr>\n",
       "      <th>10</th>\n",
       "      <td>(medium, daily)</td>\n",
       "      <td>(high, daily)</td>\n",
       "      <td>1.8</td>\n",
       "      <td>0.371833</td>\n",
       "      <td>3.228167</td>\n",
       "      <td>5.511352</td>\n",
       "      <td>0.007933</td>\n",
       "    </tr>\n",
       "    <tr>\n",
       "      <th>14</th>\n",
       "      <td>(high, daily)</td>\n",
       "      <td>(high, weekly)</td>\n",
       "      <td>0.4</td>\n",
       "      <td>-1.028167</td>\n",
       "      <td>1.828167</td>\n",
       "      <td>1.224745</td>\n",
       "      <td>0.900000</td>\n",
       "    </tr>\n",
       "  </tbody>\n",
       "</table>\n",
       "</div>"
      ],
      "text/plain": [
       "             group1           group2  Diff     Lower     Upper   q-value  \\\n",
       "8     (low, weekly)   (high, weekly)   2.4  0.971833  3.828167  7.348469   \n",
       "1      (low, daily)  (medium, daily)   0.8 -0.628167  2.228167  2.449490   \n",
       "10  (medium, daily)    (high, daily)   1.8  0.371833  3.228167  5.511352   \n",
       "14    (high, daily)   (high, weekly)   0.4 -1.028167  1.828167  1.224745   \n",
       "\n",
       "     p-value  \n",
       "8   0.001000  \n",
       "1   0.522189  \n",
       "10  0.007933  \n",
       "14  0.900000  "
      ]
     },
     "execution_count": 47,
     "metadata": {},
     "output_type": "execute_result"
    }
   ],
   "source": [
    "samp"
   ]
  },
  {
   "cell_type": "code",
   "execution_count": 48,
   "metadata": {},
   "outputs": [],
   "source": [
    "g1 = samp['group1']\n",
    "g2 = samp['group2']"
   ]
  },
  {
   "cell_type": "code",
   "execution_count": 51,
   "metadata": {},
   "outputs": [
    {
     "data": {
      "text/plain": [
       "8       (low, weekly)\n",
       "1        (low, daily)\n",
       "10    (medium, daily)\n",
       "14      (high, daily)\n",
       "Name: group1, dtype: object"
      ]
     },
     "execution_count": 51,
     "metadata": {},
     "output_type": "execute_result"
    }
   ],
   "source": [
    "g1"
   ]
  },
  {
   "cell_type": "code",
   "execution_count": 60,
   "metadata": {},
   "outputs": [
    {
     "data": {
      "text/plain": [
       "8      (high, weekly)\n",
       "1     (medium, daily)\n",
       "10      (high, daily)\n",
       "14     (high, weekly)\n",
       "Name: group2, dtype: object"
      ]
     },
     "execution_count": 60,
     "metadata": {},
     "output_type": "execute_result"
    }
   ],
   "source": [
    "g2"
   ]
  },
  {
   "cell_type": "code",
   "execution_count": 61,
   "metadata": {},
   "outputs": [],
   "source": [
    "from statannotations.Annotator import Annotator\n",
    "plotting_parameters = {\n",
    "    'data':    df,\n",
    "    'x':       ['sun','water'],\n",
    "    'y':       'height',\n",
    "    \n",
    "}\n",
    "\n",
    "pairs = [((g1[8]), (g2[8])),((g1[1]), (g2[1])),((g1[10]), (g2[10])),((g1[14]), (g2[14]))]"
   ]
  },
  {
   "cell_type": "code",
   "execution_count": 54,
   "metadata": {},
   "outputs": [],
   "source": [
    "pvalues =samp['p-value']"
   ]
  },
  {
   "cell_type": "code",
   "execution_count": null,
   "metadata": {},
   "outputs": [],
   "source": [
    "with sns.plotting_context('notebook', font_scale = 1.4):\n",
    "    # Create new plot\n",
    "    ax = sns.boxplot(['sun','water'], 'height', data = df)\n",
    "\n",
    "    # Plot with seaborn\n",
    "    sns.boxplot(**plotting_parameters)\n",
    "\n",
    "    # Add annotations\n",
    "    annotator = Annotator(ax, pairs, **plotting_parameters)\n",
    "    annotator.set_pvalues(pvalues)\n",
    "    annotator.annotate()\n",
    "\n",
    "    # Label and show\n",
    "    \n",
    "    plt.show()"
   ]
  },
  {
   "cell_type": "code",
   "execution_count": null,
   "metadata": {},
   "outputs": [
    {
     "data": {
      "image/png": "[encoded data removed]",
      "text/plain": [
       "<Figure size 432x288 with 1 Axes>"
      ]
     },
     "metadata": {
      "needs_background": "light"
     },
     "output_type": "display_data"
    },
    {
     "data": {
      "image/png": "[encoded data removed]",
      "text/plain": [
       "<Figure size 432x288 with 1 Axes>"
      ]
     },
     "metadata": {
      "needs_background": "light"
     },
     "output_type": "display_data"
    },
    {
     "name": "stdout",
     "output_type": "stream",
     "text": [
      "0.9254432320594788 0.037210531532764435\n"
     ]
    }
   ],
   "source": [
    "# QQ-plot\n",
    "import statsmodels.api as sm\n",
    "import matplotlib.pyplot as plt\n",
    "# res.anova_std_residuals are standardized residuals obtained from two-way ANOVA (check above)\n",
    "sm.qqplot(res.anova_std_residuals, line='45')\n",
    "plt.xlabel(\"Theoretical Quantiles\")\n",
    "plt.ylabel(\"Standardized Residuals\")\n",
    "plt.show()\n",
    "\n",
    "# histogram\n",
    "plt.hist(res.anova_model_out.resid, bins='auto', histtype='bar', ec='k') \n",
    "plt.xlabel(\"Residuals\")\n",
    "plt.ylabel('Frequency')\n",
    "plt.show()\n",
    "\n",
    "# Shapiro-Wilk test\n",
    "import scipy.stats as stats\n",
    "w, pvalue = stats.shapiro(res.anova_model_out.resid)\n",
    "print(w, pvalue)"
   ]
  },
  {
   "cell_type": "code",
   "execution_count": null,
   "metadata": {},
   "outputs": [],
   "source": [
    "# from statsmodels.stats.multicomp import pairwise_tukeyhsd\n",
    "\n",
    "# df['combination'] = df.sun + \" / \" + df.water\n",
    "# m_comp = pairwise_tukeyhsd(endog=df['height'], groups=df['combination'], alpha=0.05)\n",
    "# print(m_comp)\n"
   ]
  },
  {
   "cell_type": "code",
   "execution_count": null,
   "metadata": {},
   "outputs": [],
   "source": [
    "# # coerce the tukeyhsd table to a DataFrame\n",
    "# tukey_data = pd.DataFrame(data=m_comp._results_table.data[1:], columns = m_comp._results_table.data[0])\n",
    "\n",
    "# group1_comp =tukey_data.loc[tukey_data.reject == True].groupby('group1').reject.count()\n",
    "# group2_comp = tukey_data.loc[tukey_data.reject == True].groupby('group2').reject.count()\n",
    "# tukey_data = pd.concat([group1_comp, group2_comp], axis=1)\n",
    "\n",
    "# tukey_data = tukey_data.fillna(0)\n",
    "# tukey_data.columns = ['reject1', 'reject2']\n",
    "# tukey_data['total_sum'] = tukey_data.reject1 + tukey_data.reject2\n",
    "\n",
    "# # just show the top 20 results\n",
    "# tukey_data.sort_values('total_sum',ascending=False).head(5)"
   ]
  },
  {
   "cell_type": "code",
   "execution_count": null,
   "metadata": {},
   "outputs": [
    {
     "name": "stdout",
     "output_type": "stream",
     "text": [
      "        Source         SS  DF         MS        F     p-unc       np2\n",
      "0          sun  24.866667   2  12.433333  23.3125  0.000002  0.660177\n",
      "1        water   8.533333   1   8.533333  16.0000  0.000527  0.400000\n",
      "2  sun * water   2.466667   2   1.233333   2.3125  0.120667  0.161572\n",
      "3     Residual  12.800000  24   0.533333      NaN       NaN       NaN\n"
     ]
    }
   ],
   "source": [
    "# Another Way is pingoiun\n",
    "import pingouin as pg \n",
    "# First calculate anova table \n",
    "aov = pg.anova(data = df , dv = 'height', between=['sun','water'], detailed=True)\n",
    "print(aov)"
   ]
  }
 ],
 "metadata": {
  "interpreter": {
   "hash": "817f1ba0195712779ad5d99967d55ae34875801f1a94220a74740ecbc8a747ee"
  },
  "kernelspec": {
   "display_name": "Python 3.9.7 ('base')",
   "language": "python",
   "name": "python3"
  },
  "language_info": {
   "codemirror_mode": {
    "name": "ipython",
    "version": 3
   },
   "file_extension": ".py",
   "mimetype": "text/x-python",
   "name": "python",
   "nbconvert_exporter": "python",
   "pygments_lexer": "ipython3",
   "version": "3.9.7"
  },
  "orig_nbformat": 4
 },
 "nbformat": 4,
 "nbformat_minor": 2
}
