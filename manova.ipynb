{
 "cells": [
  {
   "cell_type": "markdown",
   "metadata": {},
   "source": [
    "<h1 align=\"center\" style=\"font-family:courier; background-color:powderblue;\"> Student Name : Sartaj Ahmed Salman  </h1> \n",
    "<h2 align=\"center\" style=\"background-color:lightgray;\"> Email: s2140019@edu.cc.uec.ac.jp  </h2>                              \n",
    "<h3 align=\"center\" style=\"background-color:lightgray;\" >Phd Student At UEC Tokyo, Japan</h3> \n",
    "\n",
    "<h2 align=\"center\" style=\"font-family:courier; background-color:powderblue;\"> Address:    From Skardu, Pakistan </h2> "
   ]
  },
  {
   "cell_type": "markdown",
   "metadata": {},
   "source": [
    "# MANOVA\n",
    "- we are using Sample data set price and purchase_days_before_daprture are dependent \n",
    "- and airline are independent valiables"
   ]
  },
  {
   "cell_type": "code",
   "execution_count": 1,
   "metadata": {},
   "outputs": [],
   "source": [
    "# Import Libraries \n",
    "import pandas as pd \n",
    "import numpy as np \n",
    "import matplotlib.pyplot as plt \n",
    "import seaborn as sns\n",
    "from statsmodels.multivariate.manova import MANOVA"
   ]
  },
  {
   "cell_type": "code",
   "execution_count": 3,
   "metadata": {},
   "outputs": [
    {
     "data": {
      "text/html": [
       "<div>\n",
       "<style scoped>\n",
       "    .dataframe tbody tr th:only-of-type {\n",
       "        vertical-align: middle;\n",
       "    }\n",
       "\n",
       "    .dataframe tbody tr th {\n",
       "        vertical-align: top;\n",
       "    }\n",
       "\n",
       "    .dataframe thead th {\n",
       "        text-align: right;\n",
       "    }\n",
       "</style>\n",
       "<table border=\"1\" class=\"dataframe\">\n",
       "  <thead>\n",
       "    <tr style=\"text-align: right;\">\n",
       "      <th></th>\n",
       "      <th>purchase_days_before_daprture</th>\n",
       "      <th>airline</th>\n",
       "      <th>baggage_weight</th>\n",
       "      <th>baggage_pieces</th>\n",
       "      <th>price</th>\n",
       "    </tr>\n",
       "  </thead>\n",
       "  <tbody>\n",
       "    <tr>\n",
       "      <th>0</th>\n",
       "      <td>0</td>\n",
       "      <td>alpha</td>\n",
       "      <td>0.000000</td>\n",
       "      <td>0</td>\n",
       "      <td>8739.0</td>\n",
       "    </tr>\n",
       "    <tr>\n",
       "      <th>1</th>\n",
       "      <td>4</td>\n",
       "      <td>beta</td>\n",
       "      <td>0.444444</td>\n",
       "      <td>0</td>\n",
       "      <td>10088.0</td>\n",
       "    </tr>\n",
       "    <tr>\n",
       "      <th>2</th>\n",
       "      <td>2</td>\n",
       "      <td>beta</td>\n",
       "      <td>0.444444</td>\n",
       "      <td>0</td>\n",
       "      <td>7350.0</td>\n",
       "    </tr>\n",
       "    <tr>\n",
       "      <th>3</th>\n",
       "      <td>12</td>\n",
       "      <td>beta</td>\n",
       "      <td>0.888889</td>\n",
       "      <td>0</td>\n",
       "      <td>9684.0</td>\n",
       "    </tr>\n",
       "    <tr>\n",
       "      <th>4</th>\n",
       "      <td>17</td>\n",
       "      <td>gamma</td>\n",
       "      <td>0.444444</td>\n",
       "      <td>1</td>\n",
       "      <td>7765.0</td>\n",
       "    </tr>\n",
       "  </tbody>\n",
       "</table>\n",
       "</div>"
      ],
      "text/plain": [
       "   purchase_days_before_daprture airline  baggage_weight  baggage_pieces  \\\n",
       "0                              0   alpha        0.000000               0   \n",
       "1                              4    beta        0.444444               0   \n",
       "2                              2    beta        0.444444               0   \n",
       "3                             12    beta        0.888889               0   \n",
       "4                             17   gamma        0.444444               1   \n",
       "\n",
       "     price  \n",
       "0   8739.0  \n",
       "1  10088.0  \n",
       "2   7350.0  \n",
       "3   9684.0  \n",
       "4   7765.0  "
      ]
     },
     "execution_count": 3,
     "metadata": {},
     "output_type": "execute_result"
    }
   ],
   "source": [
    "# Load Dataset\n",
    "df = pd.read_csv('Sample.csv')\n",
    "df.head()"
   ]
  },
  {
   "cell_type": "code",
   "execution_count": 4,
   "metadata": {},
   "outputs": [
    {
     "data": {
      "text/plain": [
       "Index(['purchase_days_before_daprture', 'airline', 'baggage_weight',\n",
       "       'baggage_pieces', 'price'],\n",
       "      dtype='object')"
      ]
     },
     "execution_count": 4,
     "metadata": {},
     "output_type": "execute_result"
    }
   ],
   "source": [
    "df.columns"
   ]
  },
  {
   "cell_type": "code",
   "execution_count": 8,
   "metadata": {},
   "outputs": [
    {
     "name": "stdout",
     "output_type": "stream",
     "text": [
      "                     Multivariate linear model\n",
      "===================================================================\n",
      "                                                                   \n",
      "-------------------------------------------------------------------\n",
      "        Intercept        Value  Num DF   Den DF    F Value   Pr > F\n",
      "-------------------------------------------------------------------\n",
      "           Wilks' lambda 0.1081 4.0000 29993.0000 61872.1552 0.0000\n",
      "          Pillai's trace 0.8919 4.0000 29993.0000 61872.1552 0.0000\n",
      "  Hotelling-Lawley trace 8.2515 4.0000 29993.0000 61872.1552 0.0000\n",
      "     Roy's greatest root 8.2515 4.0000 29993.0000 61872.1552 0.0000\n",
      "-------------------------------------------------------------------\n",
      "                                                                   \n",
      "-------------------------------------------------------------------\n",
      "        airline         Value   Num DF   Den DF    F Value   Pr > F\n",
      "-------------------------------------------------------------------\n",
      "          Wilks' lambda 0.2871 12.0000 79354.3106  3985.8011 0.0000\n",
      "         Pillai's trace 0.7159 12.0000 89985.0000  2350.3901 0.0000\n",
      " Hotelling-Lawley trace 2.4731 12.0000 52483.4377  6181.0824 0.0000\n",
      "    Roy's greatest root 2.4689  4.0000 29995.0000 18513.4609 0.0000\n",
      "===================================================================\n",
      "\n"
     ]
    }
   ],
   "source": [
    "# MANOVA\n",
    "mova =MANOVA.from_formula('purchase_days_before_daprture+price + baggage_weight+baggage_pieces ~ airline',data=df)\n",
    "print(mova.mv_test())"
   ]
  },
  {
   "cell_type": "code",
   "execution_count": null,
   "metadata": {},
   "outputs": [],
   "source": []
  }
 ],
 "metadata": {
  "interpreter": {
   "hash": "817f1ba0195712779ad5d99967d55ae34875801f1a94220a74740ecbc8a747ee"
  },
  "kernelspec": {
   "display_name": "Python 3.9.7 ('base')",
   "language": "python",
   "name": "python3"
  },
  "language_info": {
   "codemirror_mode": {
    "name": "ipython",
    "version": 3
   },
   "file_extension": ".py",
   "mimetype": "text/x-python",
   "name": "python",
   "nbconvert_exporter": "python",
   "pygments_lexer": "ipython3",
   "version": "3.9.7"
  },
  "orig_nbformat": 4
 },
 "nbformat": 4,
 "nbformat_minor": 2
}
