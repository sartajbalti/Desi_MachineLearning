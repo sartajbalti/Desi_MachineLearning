{
 "cells": [
  {
   "cell_type": "code",
   "execution_count": 11,
   "metadata": {},
   "outputs": [],
   "source": [
    "import pandas as pd \n",
    "import matplotlib.pyplot as plt \n",
    "import seaborn as sns \n",
    "import numpy as np "
   ]
  },
  {
   "cell_type": "code",
   "execution_count": 12,
   "metadata": {},
   "outputs": [],
   "source": [
    "df = pd.read_csv('Sample.csv')"
   ]
  },
  {
   "cell_type": "code",
   "execution_count": 13,
   "metadata": {},
   "outputs": [
    {
     "data": {
      "text/html": [
       "<div>\n",
       "<style scoped>\n",
       "    .dataframe tbody tr th:only-of-type {\n",
       "        vertical-align: middle;\n",
       "    }\n",
       "\n",
       "    .dataframe tbody tr th {\n",
       "        vertical-align: top;\n",
       "    }\n",
       "\n",
       "    .dataframe thead th {\n",
       "        text-align: right;\n",
       "    }\n",
       "</style>\n",
       "<table border=\"1\" class=\"dataframe\">\n",
       "  <thead>\n",
       "    <tr style=\"text-align: right;\">\n",
       "      <th></th>\n",
       "      <th>purchase_days_before_daprture</th>\n",
       "      <th>airline</th>\n",
       "      <th>baggage_weight</th>\n",
       "      <th>baggage_pieces</th>\n",
       "      <th>price</th>\n",
       "    </tr>\n",
       "  </thead>\n",
       "  <tbody>\n",
       "    <tr>\n",
       "      <th>0</th>\n",
       "      <td>0</td>\n",
       "      <td>alpha</td>\n",
       "      <td>0.000000</td>\n",
       "      <td>0</td>\n",
       "      <td>8739.0</td>\n",
       "    </tr>\n",
       "    <tr>\n",
       "      <th>1</th>\n",
       "      <td>4</td>\n",
       "      <td>beta</td>\n",
       "      <td>0.444444</td>\n",
       "      <td>0</td>\n",
       "      <td>10088.0</td>\n",
       "    </tr>\n",
       "    <tr>\n",
       "      <th>2</th>\n",
       "      <td>2</td>\n",
       "      <td>beta</td>\n",
       "      <td>0.444444</td>\n",
       "      <td>0</td>\n",
       "      <td>7350.0</td>\n",
       "    </tr>\n",
       "    <tr>\n",
       "      <th>3</th>\n",
       "      <td>12</td>\n",
       "      <td>beta</td>\n",
       "      <td>0.888889</td>\n",
       "      <td>0</td>\n",
       "      <td>9684.0</td>\n",
       "    </tr>\n",
       "    <tr>\n",
       "      <th>4</th>\n",
       "      <td>17</td>\n",
       "      <td>gamma</td>\n",
       "      <td>0.444444</td>\n",
       "      <td>1</td>\n",
       "      <td>7765.0</td>\n",
       "    </tr>\n",
       "  </tbody>\n",
       "</table>\n",
       "</div>"
      ],
      "text/plain": [
       "   purchase_days_before_daprture airline  baggage_weight  baggage_pieces  \\\n",
       "0                              0   alpha        0.000000               0   \n",
       "1                              4    beta        0.444444               0   \n",
       "2                              2    beta        0.444444               0   \n",
       "3                             12    beta        0.888889               0   \n",
       "4                             17   gamma        0.444444               1   \n",
       "\n",
       "     price  \n",
       "0   8739.0  \n",
       "1  10088.0  \n",
       "2   7350.0  \n",
       "3   9684.0  \n",
       "4   7765.0  "
      ]
     },
     "execution_count": 13,
     "metadata": {},
     "output_type": "execute_result"
    }
   ],
   "source": [
    "df.head()"
   ]
  },
  {
   "cell_type": "code",
   "execution_count": 14,
   "metadata": {},
   "outputs": [],
   "source": [
    "from sklearn.preprocessing import LabelEncoder\n",
    "le = LabelEncoder()\n",
    "df['airline']= le.fit_transform(df['airline'])"
   ]
  },
  {
   "cell_type": "code",
   "execution_count": 15,
   "metadata": {},
   "outputs": [
    {
     "data": {
      "text/html": [
       "<div>\n",
       "<style scoped>\n",
       "    .dataframe tbody tr th:only-of-type {\n",
       "        vertical-align: middle;\n",
       "    }\n",
       "\n",
       "    .dataframe tbody tr th {\n",
       "        vertical-align: top;\n",
       "    }\n",
       "\n",
       "    .dataframe thead th {\n",
       "        text-align: right;\n",
       "    }\n",
       "</style>\n",
       "<table border=\"1\" class=\"dataframe\">\n",
       "  <thead>\n",
       "    <tr style=\"text-align: right;\">\n",
       "      <th></th>\n",
       "      <th>purchase_days_before_daprture</th>\n",
       "      <th>airline</th>\n",
       "      <th>baggage_weight</th>\n",
       "      <th>baggage_pieces</th>\n",
       "      <th>price</th>\n",
       "    </tr>\n",
       "  </thead>\n",
       "  <tbody>\n",
       "    <tr>\n",
       "      <th>0</th>\n",
       "      <td>0</td>\n",
       "      <td>0</td>\n",
       "      <td>0.000000</td>\n",
       "      <td>0</td>\n",
       "      <td>8739.0</td>\n",
       "    </tr>\n",
       "    <tr>\n",
       "      <th>1</th>\n",
       "      <td>4</td>\n",
       "      <td>1</td>\n",
       "      <td>0.444444</td>\n",
       "      <td>0</td>\n",
       "      <td>10088.0</td>\n",
       "    </tr>\n",
       "    <tr>\n",
       "      <th>2</th>\n",
       "      <td>2</td>\n",
       "      <td>1</td>\n",
       "      <td>0.444444</td>\n",
       "      <td>0</td>\n",
       "      <td>7350.0</td>\n",
       "    </tr>\n",
       "    <tr>\n",
       "      <th>3</th>\n",
       "      <td>12</td>\n",
       "      <td>1</td>\n",
       "      <td>0.888889</td>\n",
       "      <td>0</td>\n",
       "      <td>9684.0</td>\n",
       "    </tr>\n",
       "    <tr>\n",
       "      <th>4</th>\n",
       "      <td>17</td>\n",
       "      <td>2</td>\n",
       "      <td>0.444444</td>\n",
       "      <td>1</td>\n",
       "      <td>7765.0</td>\n",
       "    </tr>\n",
       "  </tbody>\n",
       "</table>\n",
       "</div>"
      ],
      "text/plain": [
       "   purchase_days_before_daprture  airline  baggage_weight  baggage_pieces  \\\n",
       "0                              0        0        0.000000               0   \n",
       "1                              4        1        0.444444               0   \n",
       "2                              2        1        0.444444               0   \n",
       "3                             12        1        0.888889               0   \n",
       "4                             17        2        0.444444               1   \n",
       "\n",
       "     price  \n",
       "0   8739.0  \n",
       "1  10088.0  \n",
       "2   7350.0  \n",
       "3   9684.0  \n",
       "4   7765.0  "
      ]
     },
     "execution_count": 15,
     "metadata": {},
     "output_type": "execute_result"
    }
   ],
   "source": [
    "df.head()"
   ]
  },
  {
   "cell_type": "code",
   "execution_count": 16,
   "metadata": {},
   "outputs": [],
   "source": [
    "num_cols = ['purchase_days_before_daprture','airline','baggage_weight','baggage_pieces','price']"
   ]
  },
  {
   "cell_type": "code",
   "execution_count": 17,
   "metadata": {},
   "outputs": [
    {
     "name": "stderr",
     "output_type": "stream",
     "text": [
      "C:\\Users\\Sartaj\\anaconda3\\lib\\site-packages\\seaborn\\_decorators.py:36: FutureWarning: Pass the following variable as a keyword arg: x. From version 0.12, the only valid positional argument will be `data`, and passing other arguments without an explicit keyword will result in an error or misinterpretation.\n",
      "  warnings.warn(\n",
      "C:\\Users\\Sartaj\\anaconda3\\lib\\site-packages\\seaborn\\_decorators.py:36: FutureWarning: Pass the following variable as a keyword arg: x. From version 0.12, the only valid positional argument will be `data`, and passing other arguments without an explicit keyword will result in an error or misinterpretation.\n",
      "  warnings.warn(\n",
      "C:\\Users\\Sartaj\\anaconda3\\lib\\site-packages\\seaborn\\_decorators.py:36: FutureWarning: Pass the following variable as a keyword arg: x. From version 0.12, the only valid positional argument will be `data`, and passing other arguments without an explicit keyword will result in an error or misinterpretation.\n",
      "  warnings.warn(\n",
      "C:\\Users\\Sartaj\\anaconda3\\lib\\site-packages\\seaborn\\_decorators.py:36: FutureWarning: Pass the following variable as a keyword arg: x. From version 0.12, the only valid positional argument will be `data`, and passing other arguments without an explicit keyword will result in an error or misinterpretation.\n",
      "  warnings.warn(\n",
      "C:\\Users\\Sartaj\\anaconda3\\lib\\site-packages\\seaborn\\_decorators.py:36: FutureWarning: Pass the following variable as a keyword arg: x. From version 0.12, the only valid positional argument will be `data`, and passing other arguments without an explicit keyword will result in an error or misinterpretation.\n",
      "  warnings.warn(\n"
     ]
    },
    {
     "data": {
      "image/png": "[encoded data removed]",
      "text/plain": [
       "<Figure size 2160x1440 with 5 Axes>"
      ]
     },
     "metadata": {
      "needs_background": "light"
     },
     "output_type": "display_data"
    }
   ],
   "source": [
    "# Plotting cat_count plot\n",
    "plt.figure(figsize=(30,20))\n",
    "c =1 \n",
    "for i in num_cols:\n",
    "    plt.subplot(6,3,c)\n",
    "    sns.countplot(df[i])\n",
    "    c = c+1\n",
    "plt.show()"
   ]
  },
  {
   "cell_type": "code",
   "execution_count": 19,
   "metadata": {},
   "outputs": [
    {
     "data": {
      "text/plain": [
       "<seaborn.axisgrid.FacetGrid at 0x1e30f785970>"
      ]
     },
     "execution_count": 19,
     "metadata": {},
     "output_type": "execute_result"
    },
    {
     "data": {
      "image/png": "[encoded data removed]",
      "text/plain": [
       "<Figure size 360x360 with 1 Axes>"
      ]
     },
     "metadata": {
      "needs_background": "light"
     },
     "output_type": "display_data"
    }
   ],
   "source": [
    "sns.displot(df.price)"
   ]
  },
  {
   "cell_type": "code",
   "execution_count": 20,
   "metadata": {},
   "outputs": [
    {
     "name": "stderr",
     "output_type": "stream",
     "text": [
      "C:\\Users\\Sartaj\\anaconda3\\lib\\site-packages\\seaborn\\_decorators.py:36: FutureWarning: Pass the following variable as a keyword arg: x. From version 0.12, the only valid positional argument will be `data`, and passing other arguments without an explicit keyword will result in an error or misinterpretation.\n",
      "  warnings.warn(\n"
     ]
    },
    {
     "data": {
      "text/plain": [
       "<AxesSubplot:xlabel='price'>"
      ]
     },
     "execution_count": 20,
     "metadata": {},
     "output_type": "execute_result"
    },
    {
     "data": {
      "image/png": "[encoded data removed]",
      "text/plain": [
       "<Figure size 432x288 with 1 Axes>"
      ]
     },
     "metadata": {
      "needs_background": "light"
     },
     "output_type": "display_data"
    }
   ],
   "source": [
    "sns.boxplot(df.price)"
   ]
  },
  {
   "cell_type": "code",
   "execution_count": null,
   "metadata": {},
   "outputs": [
    {
     "data": {
      "text/plain": [
       "Index(['purchase_days_before_daprture', 'airline', 'baggage_weight',\n",
       "       'baggage_pieces', 'price'],\n",
       "      dtype='object')"
      ]
     },
     "execution_count": 8,
     "metadata": {},
     "output_type": "execute_result"
    }
   ],
   "source": [
    "df.columns\n"
   ]
  },
  {
   "cell_type": "code",
   "execution_count": null,
   "metadata": {},
   "outputs": [],
   "source": [
    "# Spiliting \n",
    "X = df[['purchase_days_before_daprture', 'airline', 'baggage_weight','baggage_pieces']]\n",
    "y = df['price']\n"
   ]
  },
  {
   "cell_type": "markdown",
   "metadata": {},
   "source": [
    "# Machine Learning Models"
   ]
  },
  {
   "cell_type": "code",
   "execution_count": 21,
   "metadata": {},
   "outputs": [],
   "source": [
    "# Now will work on ml algos\n",
    "from sklearn.linear_model import LinearRegression\n",
    "from sklearn.tree import DecisionTreeRegressor\n",
    "from  sklearn.svm import SVR\n",
    "from sklearn.neighbors import KNeighborsRegressor\n",
    "from sklearn.model_selection import train_test_split\n",
    "from sklearn.metrics import r2_score, mean_absolute_error, mean_squared_error"
   ]
  },
  {
   "cell_type": "code",
   "execution_count": 22,
   "metadata": {},
   "outputs": [],
   "source": [
    "lr = LinearRegression()\n",
    "d = DecisionTreeRegressor()\n",
    "svr = SVR()\n",
    "knn = KNeighborsRegressor()"
   ]
  },
  {
   "cell_type": "code",
   "execution_count": 23,
   "metadata": {},
   "outputs": [],
   "source": [
    "X_train, X_test, y_train, y_test = train_test_split(X,y, test_size=0.2, random_state=42)"
   ]
  },
  {
   "cell_type": "code",
   "execution_count": 28,
   "metadata": {},
   "outputs": [
    {
     "name": "stdout",
     "output_type": "stream",
     "text": [
      "LinearRegression()\n",
      "R2 score is : 0.08208902291737641\n",
      "Mean Absolute error is :  2320.868104670255\n",
      "Mean Squared error :  10925868.9593778\n",
      "Mean Squared error :  10925868.9593778\n",
      "DecisionTreeRegressor()\n",
      "R2 score is : 0.1849228028998816\n",
      "Mean Absolute error is :  2157.284036704409\n",
      "Mean Squared error :  9701841.321907671\n",
      "Mean Squared error :  9701841.321907671\n",
      "SVR()\n",
      "R2 score is : -0.017352897107627552\n",
      "Mean Absolute error is :  2298.8300574875\n",
      "Mean Squared error :  12109523.381634831\n",
      "Mean Squared error :  12109523.381634831\n",
      "KNeighborsRegressor()\n",
      "R2 score is : 0.02478580005684705\n",
      "Mean Absolute error is :  2387.8897\n",
      "Mean Squared error :  11607947.635366669\n",
      "Mean Squared error :  11607947.635366669\n"
     ]
    }
   ],
   "source": [
    "for i in [lr,d,svr,knn]:\n",
    "    i.fit(X_train,y_train)\n",
    "    pred = i.predict(X_test)\n",
    "    test_score = r2_score(y_test,pred)\n",
    "    train_score = r2_score(y_train,i.predict(X_train))\n",
    "    if abs(train_score-test_score)<=0.1:\n",
    "        print(i)\n",
    "        print('R2 score is :', r2_score(y_test,pred))\n",
    "        print('Mean Absolute error is : ', mean_absolute_error(y_test,pred))\n",
    "        print('Mean Squared error : ', mean_squared_error(y_test,pred))\n",
    "        print('Mean Squared error : ', mean_squared_error(y_test,pred,squared=True))\n",
    "res = pd.DataFrame(pred)\n",
    "res.index = X_test.index\n",
    "res.columns = ['predictions']\n",
    "res.to_csv(\"prediction_result_with_train_test_split.csv\")"
   ]
  },
  {
   "cell_type": "code",
   "execution_count": null,
   "metadata": {},
   "outputs": [],
   "source": [
    "# for mean squared error \n",
    "rms = mean_absolute_error(y_test, y_pred, squared=True)"
   ]
  },
  {
   "cell_type": "code",
   "execution_count": 32,
   "metadata": {},
   "outputs": [],
   "source": [
    "df1 = pd.read_csv('DataThon/X_train.csv')\n",
    "y = pd.read_csv('DataThon/y_train.csv')"
   ]
  },
  {
   "cell_type": "code",
   "execution_count": 36,
   "metadata": {},
   "outputs": [],
   "source": [
    "# for horizontel stack\n",
    "hor = pd.concat([df1,y],axis=1)"
   ]
  },
  {
   "cell_type": "code",
   "execution_count": 37,
   "metadata": {},
   "outputs": [
    {
     "data": {
      "text/html": [
       "<div>\n",
       "<style scoped>\n",
       "    .dataframe tbody tr th:only-of-type {\n",
       "        vertical-align: middle;\n",
       "    }\n",
       "\n",
       "    .dataframe tbody tr th {\n",
       "        vertical-align: top;\n",
       "    }\n",
       "\n",
       "    .dataframe thead th {\n",
       "        text-align: right;\n",
       "    }\n",
       "</style>\n",
       "<table border=\"1\" class=\"dataframe\">\n",
       "  <thead>\n",
       "    <tr style=\"text-align: right;\">\n",
       "      <th></th>\n",
       "      <th>Unnamed: 0</th>\n",
       "      <th>f1</th>\n",
       "      <th>f2</th>\n",
       "      <th>f3</th>\n",
       "      <th>f4</th>\n",
       "      <th>f5</th>\n",
       "      <th>f6</th>\n",
       "      <th>f7</th>\n",
       "      <th>f8</th>\n",
       "      <th>f9</th>\n",
       "      <th>f10</th>\n",
       "      <th>Unnamed: 0</th>\n",
       "      <th>target</th>\n",
       "    </tr>\n",
       "  </thead>\n",
       "  <tbody>\n",
       "    <tr>\n",
       "      <th>0</th>\n",
       "      <td>0</td>\n",
       "      <td>2020-12-31 09:46:17.463002+00:00</td>\n",
       "      <td>x</td>\n",
       "      <td>y</td>\n",
       "      <td>2021-01-10 05:00:00+00:00</td>\n",
       "      <td>2021-01-10 07:00:00+00:00</td>\n",
       "      <td>gamma</td>\n",
       "      <td>True</td>\n",
       "      <td>0.0</td>\n",
       "      <td>0</td>\n",
       "      <td>c-2</td>\n",
       "      <td>0</td>\n",
       "      <td>7400.0</td>\n",
       "    </tr>\n",
       "    <tr>\n",
       "      <th>1</th>\n",
       "      <td>1</td>\n",
       "      <td>2020-12-31 09:46:17.463002+00:00</td>\n",
       "      <td>x</td>\n",
       "      <td>y</td>\n",
       "      <td>2021-01-10 05:00:00+00:00</td>\n",
       "      <td>2021-01-10 07:00:00+00:00</td>\n",
       "      <td>gamma</td>\n",
       "      <td>True</td>\n",
       "      <td>32.0</td>\n",
       "      <td>1</td>\n",
       "      <td>c-2</td>\n",
       "      <td>1</td>\n",
       "      <td>8650.0</td>\n",
       "    </tr>\n",
       "    <tr>\n",
       "      <th>2</th>\n",
       "      <td>2</td>\n",
       "      <td>2020-12-31 09:46:17.463002+00:00</td>\n",
       "      <td>x</td>\n",
       "      <td>y</td>\n",
       "      <td>2021-01-10 11:00:00+00:00</td>\n",
       "      <td>2021-01-10 13:00:00+00:00</td>\n",
       "      <td>gamma</td>\n",
       "      <td>True</td>\n",
       "      <td>32.0</td>\n",
       "      <td>1</td>\n",
       "      <td>c-4</td>\n",
       "      <td>2</td>\n",
       "      <td>9150.0</td>\n",
       "    </tr>\n",
       "    <tr>\n",
       "      <th>3</th>\n",
       "      <td>3</td>\n",
       "      <td>2020-12-31 09:46:17.463002+00:00</td>\n",
       "      <td>x</td>\n",
       "      <td>y</td>\n",
       "      <td>2021-01-10 11:00:00+00:00</td>\n",
       "      <td>2021-01-10 13:00:00+00:00</td>\n",
       "      <td>gamma</td>\n",
       "      <td>True</td>\n",
       "      <td>32.0</td>\n",
       "      <td>2</td>\n",
       "      <td>c-4</td>\n",
       "      <td>3</td>\n",
       "      <td>10400.0</td>\n",
       "    </tr>\n",
       "    <tr>\n",
       "      <th>4</th>\n",
       "      <td>4</td>\n",
       "      <td>2020-12-31 09:46:18.191119+00:00</td>\n",
       "      <td>x</td>\n",
       "      <td>y</td>\n",
       "      <td>2021-01-25 11:00:00+00:00</td>\n",
       "      <td>2021-01-25 12:55:00+00:00</td>\n",
       "      <td>beta</td>\n",
       "      <td>False</td>\n",
       "      <td>20.0</td>\n",
       "      <td>0</td>\n",
       "      <td>b-69</td>\n",
       "      <td>4</td>\n",
       "      <td>8697.0</td>\n",
       "    </tr>\n",
       "  </tbody>\n",
       "</table>\n",
       "</div>"
      ],
      "text/plain": [
       "   Unnamed: 0                                f1 f2 f3  \\\n",
       "0           0  2020-12-31 09:46:17.463002+00:00  x  y   \n",
       "1           1  2020-12-31 09:46:17.463002+00:00  x  y   \n",
       "2           2  2020-12-31 09:46:17.463002+00:00  x  y   \n",
       "3           3  2020-12-31 09:46:17.463002+00:00  x  y   \n",
       "4           4  2020-12-31 09:46:18.191119+00:00  x  y   \n",
       "\n",
       "                          f4                         f5     f6     f7    f8  \\\n",
       "0  2021-01-10 05:00:00+00:00  2021-01-10 07:00:00+00:00  gamma   True   0.0   \n",
       "1  2021-01-10 05:00:00+00:00  2021-01-10 07:00:00+00:00  gamma   True  32.0   \n",
       "2  2021-01-10 11:00:00+00:00  2021-01-10 13:00:00+00:00  gamma   True  32.0   \n",
       "3  2021-01-10 11:00:00+00:00  2021-01-10 13:00:00+00:00  gamma   True  32.0   \n",
       "4  2021-01-25 11:00:00+00:00  2021-01-25 12:55:00+00:00   beta  False  20.0   \n",
       "\n",
       "   f9   f10  Unnamed: 0   target  \n",
       "0   0   c-2           0   7400.0  \n",
       "1   1   c-2           1   8650.0  \n",
       "2   1   c-4           2   9150.0  \n",
       "3   2   c-4           3  10400.0  \n",
       "4   0  b-69           4   8697.0  "
      ]
     },
     "execution_count": 37,
     "metadata": {},
     "output_type": "execute_result"
    }
   ],
   "source": [
    "hor.head()"
   ]
  },
  {
   "cell_type": "code",
   "execution_count": 38,
   "metadata": {},
   "outputs": [],
   "source": [
    "# VErtical \n",
    "ver =  pd.concat([df1,y],axis=0)"
   ]
  },
  {
   "cell_type": "code",
   "execution_count": 39,
   "metadata": {},
   "outputs": [
    {
     "data": {
      "text/html": [
       "<div>\n",
       "<style scoped>\n",
       "    .dataframe tbody tr th:only-of-type {\n",
       "        vertical-align: middle;\n",
       "    }\n",
       "\n",
       "    .dataframe tbody tr th {\n",
       "        vertical-align: top;\n",
       "    }\n",
       "\n",
       "    .dataframe thead th {\n",
       "        text-align: right;\n",
       "    }\n",
       "</style>\n",
       "<table border=\"1\" class=\"dataframe\">\n",
       "  <thead>\n",
       "    <tr style=\"text-align: right;\">\n",
       "      <th></th>\n",
       "      <th>Unnamed: 0</th>\n",
       "      <th>f1</th>\n",
       "      <th>f2</th>\n",
       "      <th>f3</th>\n",
       "      <th>f4</th>\n",
       "      <th>f5</th>\n",
       "      <th>f6</th>\n",
       "      <th>f7</th>\n",
       "      <th>f8</th>\n",
       "      <th>f9</th>\n",
       "      <th>f10</th>\n",
       "      <th>target</th>\n",
       "    </tr>\n",
       "  </thead>\n",
       "  <tbody>\n",
       "    <tr>\n",
       "      <th>0</th>\n",
       "      <td>0</td>\n",
       "      <td>2020-12-31 09:46:17.463002+00:00</td>\n",
       "      <td>x</td>\n",
       "      <td>y</td>\n",
       "      <td>2021-01-10 05:00:00+00:00</td>\n",
       "      <td>2021-01-10 07:00:00+00:00</td>\n",
       "      <td>gamma</td>\n",
       "      <td>True</td>\n",
       "      <td>0.0</td>\n",
       "      <td>0.0</td>\n",
       "      <td>c-2</td>\n",
       "      <td>NaN</td>\n",
       "    </tr>\n",
       "    <tr>\n",
       "      <th>1</th>\n",
       "      <td>1</td>\n",
       "      <td>2020-12-31 09:46:17.463002+00:00</td>\n",
       "      <td>x</td>\n",
       "      <td>y</td>\n",
       "      <td>2021-01-10 05:00:00+00:00</td>\n",
       "      <td>2021-01-10 07:00:00+00:00</td>\n",
       "      <td>gamma</td>\n",
       "      <td>True</td>\n",
       "      <td>32.0</td>\n",
       "      <td>1.0</td>\n",
       "      <td>c-2</td>\n",
       "      <td>NaN</td>\n",
       "    </tr>\n",
       "    <tr>\n",
       "      <th>2</th>\n",
       "      <td>2</td>\n",
       "      <td>2020-12-31 09:46:17.463002+00:00</td>\n",
       "      <td>x</td>\n",
       "      <td>y</td>\n",
       "      <td>2021-01-10 11:00:00+00:00</td>\n",
       "      <td>2021-01-10 13:00:00+00:00</td>\n",
       "      <td>gamma</td>\n",
       "      <td>True</td>\n",
       "      <td>32.0</td>\n",
       "      <td>1.0</td>\n",
       "      <td>c-4</td>\n",
       "      <td>NaN</td>\n",
       "    </tr>\n",
       "    <tr>\n",
       "      <th>3</th>\n",
       "      <td>3</td>\n",
       "      <td>2020-12-31 09:46:17.463002+00:00</td>\n",
       "      <td>x</td>\n",
       "      <td>y</td>\n",
       "      <td>2021-01-10 11:00:00+00:00</td>\n",
       "      <td>2021-01-10 13:00:00+00:00</td>\n",
       "      <td>gamma</td>\n",
       "      <td>True</td>\n",
       "      <td>32.0</td>\n",
       "      <td>2.0</td>\n",
       "      <td>c-4</td>\n",
       "      <td>NaN</td>\n",
       "    </tr>\n",
       "    <tr>\n",
       "      <th>4</th>\n",
       "      <td>4</td>\n",
       "      <td>2020-12-31 09:46:18.191119+00:00</td>\n",
       "      <td>x</td>\n",
       "      <td>y</td>\n",
       "      <td>2021-01-25 11:00:00+00:00</td>\n",
       "      <td>2021-01-25 12:55:00+00:00</td>\n",
       "      <td>beta</td>\n",
       "      <td>False</td>\n",
       "      <td>20.0</td>\n",
       "      <td>0.0</td>\n",
       "      <td>b-69</td>\n",
       "      <td>NaN</td>\n",
       "    </tr>\n",
       "  </tbody>\n",
       "</table>\n",
       "</div>"
      ],
      "text/plain": [
       "   Unnamed: 0                                f1 f2 f3  \\\n",
       "0           0  2020-12-31 09:46:17.463002+00:00  x  y   \n",
       "1           1  2020-12-31 09:46:17.463002+00:00  x  y   \n",
       "2           2  2020-12-31 09:46:17.463002+00:00  x  y   \n",
       "3           3  2020-12-31 09:46:17.463002+00:00  x  y   \n",
       "4           4  2020-12-31 09:46:18.191119+00:00  x  y   \n",
       "\n",
       "                          f4                         f5     f6     f7    f8  \\\n",
       "0  2021-01-10 05:00:00+00:00  2021-01-10 07:00:00+00:00  gamma   True   0.0   \n",
       "1  2021-01-10 05:00:00+00:00  2021-01-10 07:00:00+00:00  gamma   True  32.0   \n",
       "2  2021-01-10 11:00:00+00:00  2021-01-10 13:00:00+00:00  gamma   True  32.0   \n",
       "3  2021-01-10 11:00:00+00:00  2021-01-10 13:00:00+00:00  gamma   True  32.0   \n",
       "4  2021-01-25 11:00:00+00:00  2021-01-25 12:55:00+00:00   beta  False  20.0   \n",
       "\n",
       "    f9   f10  target  \n",
       "0  0.0   c-2     NaN  \n",
       "1  1.0   c-2     NaN  \n",
       "2  1.0   c-4     NaN  \n",
       "3  2.0   c-4     NaN  \n",
       "4  0.0  b-69     NaN  "
      ]
     },
     "execution_count": 39,
     "metadata": {},
     "output_type": "execute_result"
    }
   ],
   "source": [
    "ver.head()"
   ]
  },
  {
   "cell_type": "code",
   "execution_count": null,
   "metadata": {},
   "outputs": [],
   "source": []
  }
 ],
 "metadata": {
  "interpreter": {
   "hash": "817f1ba0195712779ad5d99967d55ae34875801f1a94220a74740ecbc8a747ee"
  },
  "kernelspec": {
   "display_name": "Python 3.9.7 ('base')",
   "language": "python",
   "name": "python3"
  },
  "language_info": {
   "codemirror_mode": {
    "name": "ipython",
    "version": 3
   },
   "file_extension": ".py",
   "mimetype": "text/x-python",
   "name": "python",
   "nbconvert_exporter": "python",
   "pygments_lexer": "ipython3",
   "version": "3.9.7"
  },
  "orig_nbformat": 4
 },
 "nbformat": 4,
 "nbformat_minor": 2
}
