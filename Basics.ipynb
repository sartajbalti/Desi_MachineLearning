{
 "cells": [
  {
   "cell_type": "markdown",
   "metadata": {},
   "source": [
    "# Python Chilla 10 hours video\n",
    "## Basics of Python\n",
    "### This file contains the basic concept of python by Ammar Bhai\n"
   ]
  },
  {
   "cell_type": "markdown",
   "metadata": {},
   "source": [
    "#### First Program \n"
   ]
  },
  {
   "cell_type": "code",
   "execution_count": 30,
   "metadata": {},
   "outputs": [
    {
     "name": "stdout",
     "output_type": "stream",
     "text": [
      "6\n",
      "Hello Ammar Bhai \n",
      "We are learning python with ammar bhai \n"
     ]
    }
   ],
   "source": [
    "print(3+3)\n",
    "print(\"Hello Ammar Bhai \")\n",
    "print(\"We are learning python with ammar bhai \")"
   ]
  },
  {
   "cell_type": "markdown",
   "metadata": {},
   "source": [
    "#### 2-Operators "
   ]
  },
  {
   "cell_type": "code",
   "execution_count": 31,
   "metadata": {},
   "outputs": [
    {
     "name": "stdout",
     "output_type": "stream",
     "text": [
      "5\n",
      "7\n",
      "3.0\n",
      "1\n",
      "3\n"
     ]
    }
   ],
   "source": [
    "print(2+3)\n",
    "print(10-3)\n",
    "print(6/2)\n",
    "print(13%2)\n",
    "print(6//2)"
   ]
  },
  {
   "cell_type": "code",
   "execution_count": 32,
   "metadata": {},
   "outputs": [
    {
     "name": "stdout",
     "output_type": "stream",
     "text": [
      "8\n",
      "13.0\n"
     ]
    }
   ],
   "source": [
    "print(2**3)\n",
    "print(3**2*3/3+4)\n",
    "# Work by following PEMDAS "
   ]
  },
  {
   "cell_type": "markdown",
   "metadata": {},
   "source": [
    "#### 3-Strings \n",
    "\n"
   ]
  },
  {
   "cell_type": "code",
   "execution_count": 33,
   "metadata": {},
   "outputs": [
    {
     "name": "stdout",
     "output_type": "stream",
     "text": [
      "test for single quotes\n",
      "test with single quotes\n",
      " Test with triple quotes\n"
     ]
    }
   ],
   "source": [
    "print(\"test for single quotes\")\n",
    "print('test with single quotes')\n",
    "print(''' Test with triple quotes''')"
   ]
  },
  {
   "cell_type": "markdown",
   "metadata": {},
   "source": [
    "#### 4-Comments"
   ]
  },
  {
   "cell_type": "code",
   "execution_count": 34,
   "metadata": {},
   "outputs": [],
   "source": [
    "# print(\"test for single quotes\")\n",
    "# print('test with single quotes')\n",
    "# print(''' Test with triple quotes''')"
   ]
  },
  {
   "cell_type": "markdown",
   "metadata": {},
   "source": [
    "#### 5-Variables"
   ]
  },
  {
   "cell_type": "code",
   "execution_count": 35,
   "metadata": {},
   "outputs": [
    {
     "name": "stdout",
     "output_type": "stream",
     "text": [
      "10\n",
      "<class 'int'>\n"
     ]
    }
   ],
   "source": [
    "x = 10\n",
    "print(x)\n",
    "print(type(x))"
   ]
  },
  {
   "cell_type": "code",
   "execution_count": 36,
   "metadata": {},
   "outputs": [
    {
     "name": "stdout",
     "output_type": "stream",
     "text": [
      "Chilla with Ammar Bhai all the way from Japan \n",
      "<class 'str'>\n"
     ]
    }
   ],
   "source": [
    "x = \"Chilla with Ammar Bhai all the way from Japan \"\n",
    "print(x)\n",
    "print(type(x))"
   ]
  },
  {
   "cell_type": "markdown",
   "metadata": {},
   "source": [
    "#### 6-Input Variables"
   ]
  },
  {
   "cell_type": "code",
   "execution_count": 37,
   "metadata": {},
   "outputs": [],
   "source": [
    "fruit = input(\"What is your favourite fruit? \")\n",
    "\n"
   ]
  },
  {
   "cell_type": "code",
   "execution_count": 38,
   "metadata": {},
   "outputs": [
    {
     "name": "stdout",
     "output_type": "stream",
     "text": [
      "hello! Sartaj\n"
     ]
    }
   ],
   "source": [
    "name =input(\"whats is your namme\")\n",
    "print(\"hello!\", name )"
   ]
  },
  {
   "cell_type": "markdown",
   "metadata": {},
   "source": [
    "#### 7-Conditional Logics"
   ]
  },
  {
   "cell_type": "code",
   "execution_count": 39,
   "metadata": {},
   "outputs": [
    {
     "name": "stdout",
     "output_type": "stream",
     "text": [
      "False\n",
      "True\n",
      "True\n",
      "False\n"
     ]
    }
   ],
   "source": [
    "# Equal to ==\n",
    "# Not Equal to !=\n",
    "# Less than <\n",
    "# Greater than >\n",
    "# Less than or Equal <=\n",
    "# Greater than or equal >=\n",
    "\n",
    "print(3==5)\n",
    "print(7==7)\n",
    "print(4<=8)\n",
    "print(4<=2)"
   ]
  },
  {
   "cell_type": "code",
   "execution_count": 40,
   "metadata": {},
   "outputs": [
    {
     "name": "stdout",
     "output_type": "stream",
     "text": [
      "False\n"
     ]
    }
   ],
   "source": [
    "Hammad_age = 5\n",
    "ageat_school =6 \n",
    "print(Hammad_age==ageat_school)\n",
    "\n"
   ]
  },
  {
   "cell_type": "markdown",
   "metadata": {},
   "source": [
    "#### 8-Type Conversion "
   ]
  },
  {
   "cell_type": "code",
   "execution_count": 41,
   "metadata": {},
   "outputs": [
    {
     "name": "stdout",
     "output_type": "stream",
     "text": [
      "<class 'int'>\n",
      "<class 'float'>\n",
      "<class 'str'>\n",
      "<class 'float'>\n",
      "102.0 <class 'int'>\n"
     ]
    }
   ],
   "source": [
    "# Implicit Type of conversion\n",
    "x =10\n",
    "y=10.2\n",
    "z= \"Hello\"\n",
    "print(type(x))\n",
    "print(type(y))\n",
    "print(type(z))\n",
    "\n",
    "x=x*y\n",
    "print(type(x))\n",
    "\n",
    "print(x,type(int(x)))"
   ]
  },
  {
   "cell_type": "code",
   "execution_count": 42,
   "metadata": {},
   "outputs": [
    {
     "name": "stdout",
     "output_type": "stream",
     "text": [
      "<class 'str'>\n"
     ]
    }
   ],
   "source": [
    "age=input(\"what is your age? \")\n",
    "print(type(age))"
   ]
  },
  {
   "cell_type": "code",
   "execution_count": 43,
   "metadata": {},
   "outputs": [
    {
     "name": "stdout",
     "output_type": "stream",
     "text": [
      "<class 'int'>\n"
     ]
    }
   ],
   "source": [
    "print(type(int(age)))"
   ]
  },
  {
   "cell_type": "markdown",
   "metadata": {},
   "source": [
    "#### 9-If, Elif, Else "
   ]
  },
  {
   "cell_type": "code",
   "execution_count": 44,
   "metadata": {},
   "outputs": [
    {
     "name": "stdout",
     "output_type": "stream",
     "text": [
      "Hammad is still a child take care of him\n"
     ]
    }
   ],
   "source": [
    "\n",
    "ageat_school =4\n",
    "Hammad_age = 3\n",
    "if Hammad_age==ageat_school:\n",
    "    print(\"Hammad can go to School\")\n",
    "elif Hammad_age<ageat_school:\n",
    "    print(\"Hammad is still a child take care of him\")\n",
    "else:\n",
    "    print(\"Should join high school \")"
   ]
  },
  {
   "cell_type": "code",
   "execution_count": 45,
   "metadata": {},
   "outputs": [
    {
     "name": "stdout",
     "output_type": "stream",
     "text": [
      "Hammad can go to School\n"
     ]
    }
   ],
   "source": [
    "ageat_school =5\n",
    "Hammad_age = 5\n",
    "if Hammad_age==ageat_school:\n",
    "    print(\"Hammad can go to School\")\n",
    "elif Hammad_age<ageat_school:\n",
    "    print(\"Hammad is still a child take care of him\")\n",
    "elif Hammad_age>ageat_school:\n",
    "    print(\"Hammad is should go to higher Secondary School\")\n",
    "else:\n",
    "    print(\"can not go to school \")"
   ]
  },
  {
   "cell_type": "markdown",
   "metadata": {},
   "source": [
    "#### 10-Functions "
   ]
  },
  {
   "cell_type": "code",
   "execution_count": 46,
   "metadata": {},
   "outputs": [
    {
     "name": "stdout",
     "output_type": "stream",
     "text": [
      "We are learning with Ammar\n",
      "We are learning with Ammar\n",
      "We are learning with Ammar\n"
     ]
    }
   ],
   "source": [
    "def codanics(text):\n",
    "    print(text)\n",
    "    print(text)\n",
    "    print(text)\n",
    "\n",
    "codanics(\"We are learning with Ammar\")"
   ]
  },
  {
   "cell_type": "markdown",
   "metadata": {},
   "source": [
    "#### 11-Loops"
   ]
  },
  {
   "cell_type": "code",
   "execution_count": 47,
   "metadata": {},
   "outputs": [
    {
     "name": "stdout",
     "output_type": "stream",
     "text": [
      "0\n",
      "1\n",
      "2\n",
      "3\n",
      "4\n"
     ]
    }
   ],
   "source": [
    "#While and for loop \n",
    "# While\n",
    "x = 0 \n",
    "while (x<5):\n",
    "    print(x)\n",
    "    x=x+1"
   ]
  },
  {
   "cell_type": "code",
   "execution_count": 48,
   "metadata": {},
   "outputs": [
    {
     "name": "stdout",
     "output_type": "stream",
     "text": [
      "5\n",
      "6\n",
      "7\n",
      "8\n",
      "9\n",
      "Mon\n",
      "Tue\n",
      "Wed\n",
      "Thu\n",
      "Fri\n"
     ]
    }
   ],
   "source": [
    "# For \n",
    "for x in range(5,10):\n",
    "    print(x)\n",
    "\n",
    "days =[\"Mon\",\"Tue\",\"Wed\",\"Thu\",\"Fri\"]\n",
    "for d in days:\n",
    "    print(d)"
   ]
  },
  {
   "cell_type": "markdown",
   "metadata": {},
   "source": [
    "#### 12- Import Libraries"
   ]
  },
  {
   "cell_type": "code",
   "execution_count": 49,
   "metadata": {},
   "outputs": [
    {
     "name": "stdout",
     "output_type": "stream",
     "text": [
      "The value of pi is  3.141592653589793\n"
     ]
    }
   ],
   "source": [
    "import math \n",
    "print(\"The value of pi is \", math.pi)"
   ]
  },
  {
   "cell_type": "code",
   "execution_count": 50,
   "metadata": {},
   "outputs": [
    {
     "name": "stdout",
     "output_type": "stream",
     "text": [
      "250\n"
     ]
    }
   ],
   "source": [
    "import statistics\n",
    "x = [150,250,350]\n",
    "print(statistics.mean(x))"
   ]
  },
  {
   "cell_type": "markdown",
   "metadata": {},
   "source": [
    "#### 13-Trouble Shooting \n",
    "We have to look into the errors and its types\n"
   ]
  }
 ],
 "metadata": {
  "interpreter": {
   "hash": "8f6a52d64897abb0c18ebbc0642e9cbd7b675ac0be9e15dae59e5b01aea20f21"
  },
  "kernelspec": {
   "display_name": "Python 3.9.0 64-bit",
   "language": "python",
   "name": "python3"
  },
  "language_info": {
   "codemirror_mode": {
    "name": "ipython",
    "version": 3
   },
   "file_extension": ".py",
   "mimetype": "text/x-python",
   "name": "python",
   "nbconvert_exporter": "python",
   "pygments_lexer": "ipython3",
   "version": "3.9.0"
  },
  "orig_nbformat": 4
 },
 "nbformat": 4,
 "nbformat_minor": 2
}
